{
 "cells": [
  {
   "cell_type": "markdown",
   "metadata": {},
   "source": [
    "# 데이터 준비와 확인"
   ]
  },
  {
   "cell_type": "code",
   "execution_count": 1,
   "metadata": {
    "ExecuteTime": {
     "end_time": "2020-09-01T06:11:59.036368Z",
     "start_time": "2020-09-01T06:11:59.034891Z"
    }
   },
   "outputs": [],
   "source": [
    "# $ wget https://raw.githubusercontent.com/e9t/nsmc/master/ratings_train.txt\n",
    "# $ wget https://raw.githubusercontent.com/e9t/nsmc/master/ratings_test.txt\n",
    "# $ mv ratings_*.txt ~/aiffel/sentimental_classification"
   ]
  },
  {
   "cell_type": "code",
   "execution_count": 41,
   "metadata": {
    "ExecuteTime": {
     "end_time": "2020-09-01T09:07:33.079505Z",
     "start_time": "2020-09-01T09:07:32.878138Z"
    }
   },
   "outputs": [
    {
     "data": {
      "text/html": [
       "<div>\n",
       "<style scoped>\n",
       "    .dataframe tbody tr th:only-of-type {\n",
       "        vertical-align: middle;\n",
       "    }\n",
       "\n",
       "    .dataframe tbody tr th {\n",
       "        vertical-align: top;\n",
       "    }\n",
       "\n",
       "    .dataframe thead th {\n",
       "        text-align: right;\n",
       "    }\n",
       "</style>\n",
       "<table border=\"1\" class=\"dataframe\">\n",
       "  <thead>\n",
       "    <tr style=\"text-align: right;\">\n",
       "      <th></th>\n",
       "      <th>id</th>\n",
       "      <th>document</th>\n",
       "      <th>label</th>\n",
       "    </tr>\n",
       "  </thead>\n",
       "  <tbody>\n",
       "    <tr>\n",
       "      <th>0</th>\n",
       "      <td>9976970</td>\n",
       "      <td>아 더빙.. 진짜 짜증나네요 목소리</td>\n",
       "      <td>0</td>\n",
       "    </tr>\n",
       "    <tr>\n",
       "      <th>1</th>\n",
       "      <td>3819312</td>\n",
       "      <td>흠...포스터보고 초딩영화줄....오버연기조차 가볍지 않구나</td>\n",
       "      <td>1</td>\n",
       "    </tr>\n",
       "    <tr>\n",
       "      <th>2</th>\n",
       "      <td>10265843</td>\n",
       "      <td>너무재밓었다그래서보는것을추천한다</td>\n",
       "      <td>0</td>\n",
       "    </tr>\n",
       "    <tr>\n",
       "      <th>3</th>\n",
       "      <td>9045019</td>\n",
       "      <td>교도소 이야기구먼 ..솔직히 재미는 없다..평점 조정</td>\n",
       "      <td>0</td>\n",
       "    </tr>\n",
       "    <tr>\n",
       "      <th>4</th>\n",
       "      <td>6483659</td>\n",
       "      <td>사이몬페그의 익살스런 연기가 돋보였던 영화!스파이더맨에서 늙어보이기만 했던 커스틴 ...</td>\n",
       "      <td>1</td>\n",
       "    </tr>\n",
       "  </tbody>\n",
       "</table>\n",
       "</div>"
      ],
      "text/plain": [
       "         id                                           document  label\n",
       "0   9976970                                아 더빙.. 진짜 짜증나네요 목소리      0\n",
       "1   3819312                  흠...포스터보고 초딩영화줄....오버연기조차 가볍지 않구나      1\n",
       "2  10265843                                  너무재밓었다그래서보는것을추천한다      0\n",
       "3   9045019                      교도소 이야기구먼 ..솔직히 재미는 없다..평점 조정      0\n",
       "4   6483659  사이몬페그의 익살스런 연기가 돋보였던 영화!스파이더맨에서 늙어보이기만 했던 커스틴 ...      1"
      ]
     },
     "execution_count": 41,
     "metadata": {},
     "output_type": "execute_result"
    }
   ],
   "source": [
    "import pandas as pd\n",
    "import urllib.request\n",
    "%matplotlib inline\n",
    "import matplotlib.pyplot as plt\n",
    "import re\n",
    "from konlpy.tag import Okt\n",
    "from tensorflow import keras\n",
    "from tensorflow.keras.preprocessing.text import Tokenizer\n",
    "import numpy as np\n",
    "from tensorflow.keras.preprocessing.sequence import pad_sequences\n",
    "from collections import Counter\n",
    "\n",
    "# 데이터를 읽어봅시다. \n",
    "train_data = pd.read_table('~/aiffel/sentiment_classification/ratings_train.txt')\n",
    "test_data = pd.read_table('~/aiffel/sentiment_classification/ratings_test.txt')\n",
    "\n",
    "train_data.head()"
   ]
  },
  {
   "cell_type": "markdown",
   "metadata": {},
   "source": [
    "# 데이터로더 구성"
   ]
  },
  {
   "cell_type": "code",
   "execution_count": 42,
   "metadata": {
    "ExecuteTime": {
     "end_time": "2020-09-01T09:08:46.649911Z",
     "start_time": "2020-09-01T09:08:32.254891Z"
    }
   },
   "outputs": [],
   "source": [
    "from konlpy.tag import Mecab\n",
    "tokenizer = Mecab()\n",
    "stopwords = ['의','가','이','은','들','는','좀','잘','걍','과','도','를','으로','자','에','와','한','하다']\n",
    "\n",
    "def load_data(train_data, test_data, num_words=10000):\n",
    "    train_data.drop_duplicates(subset=['document'], inplace=True)\n",
    "    train_data = train_data.dropna(how = 'any') \n",
    "    test_data.drop_duplicates(subset=['document'], inplace=True)\n",
    "    test_data = test_data.dropna(how = 'any')\n",
    "    \n",
    "    X_train = []\n",
    "    for sentence in train_data['document']:\n",
    "        temp_X = tokenizer.morphs(sentence) # 토큰화\n",
    "        temp_X = [word for word in temp_X if not word in stopwords] # 불용어 제거\n",
    "        X_train.append(temp_X)\n",
    "\n",
    "    X_test = []\n",
    "    for sentence in test_data['document']:\n",
    "        temp_X = tokenizer.morphs(sentence) # 토큰화\n",
    "        temp_X = [word for word in temp_X if not word in stopwords] # 불용어 제거\n",
    "        X_test.append(temp_X)\n",
    "\n",
    "    words = np.concatenate(X_train).tolist()\n",
    "    counter = Counter(words)\n",
    "    counter = counter.most_common(10000-4)\n",
    "    vocab = ['<PAD>', '<BOS>', '<UNK>', '<UNUSED>'] + [key for key, _ in counter]\n",
    "    word_to_index = {word:index for index, word in enumerate(vocab)}\n",
    "\n",
    "    def wordlist_to_indexlist(wordlist):\n",
    "        return [word_to_index[word] if word in word_to_index else word_to_index['<UNK>'] for word in wordlist]\n",
    "\n",
    "    X_train = list(map(wordlist_to_indexlist, X_train))\n",
    "    X_test = list(map(wordlist_to_indexlist, X_test))\n",
    "\n",
    "    return X_train, np.array(list(train_data['label'])), X_test, np.array(list(test_data['label'])), word_to_index\n",
    "    \n",
    "X_train, y_train, X_test, y_test, word_to_index = load_data(train_data, test_data) "
   ]
  },
  {
   "cell_type": "markdown",
   "metadata": {},
   "source": [
    "- 데이터의 중복 제거\n",
    "- NaN 결측치 제거\n",
    "- 한국어 토크나이저로 토큰화\n",
    "- 불용어(Stopwords) 제거\n",
    "- 사전word_to_index 구성\n",
    "- 텍스트 스트링을 사전 인덱스 스트링으로 변환\n",
    "- X_train, y_train, X_test, y_test, word_to_index 리턴"
   ]
  },
  {
   "cell_type": "code",
   "execution_count": 43,
   "metadata": {
    "ExecuteTime": {
     "end_time": "2020-09-01T09:09:45.743778Z",
     "start_time": "2020-09-01T09:09:45.740334Z"
    }
   },
   "outputs": [],
   "source": [
    "index_to_word = {index:word for word, index in word_to_index.items()}"
   ]
  },
  {
   "cell_type": "code",
   "execution_count": 44,
   "metadata": {
    "ExecuteTime": {
     "end_time": "2020-09-01T09:10:44.226915Z",
     "start_time": "2020-09-01T09:10:44.222986Z"
    }
   },
   "outputs": [],
   "source": [
    "# 문장 1개를 활용할 딕셔너리와 함께 주면, 단어 인덱스 리스트 벡터로 변환해 주는 함수입니다. \n",
    "# 단, 모든 문장은 <BOS>로 시작하는 것으로 합니다. \n",
    "def get_encoded_sentence(sentence, word_to_index):\n",
    "    return [word_to_index['<BOS>']]+[word_to_index[word] if word in word_to_index else word_to_index['<UNK>'] for word in sentence.split()]\n",
    "\n",
    "# 여러 개의 문장 리스트를 한꺼번에 단어 인덱스 리스트 벡터로 encode해 주는 함수입니다. \n",
    "def get_encoded_sentences(sentences, word_to_index):\n",
    "    return [get_encoded_sentence(sentence, word_to_index) for sentence in sentences]\n",
    "\n",
    "# 숫자 벡터로 encode된 문장을 원래대로 decode하는 함수입니다. \n",
    "def get_decoded_sentence(encoded_sentence, index_to_word):\n",
    "    return ' '.join(index_to_word[index] if index in index_to_word else '<UNK>' for index in encoded_sentence[1:])  #[1:]를 통해 <BOS>를 제외\n",
    "\n",
    "# 여러개의 숫자 벡터로 encode된 문장을 한꺼번에 원래대로 decode하는 함수입니다. \n",
    "def get_decoded_sentences(encoded_sentences, index_to_word):\n",
    "    return [get_decoded_sentence(encoded_sentence, index_to_word) for encoded_sentence in encoded_sentences]"
   ]
  },
  {
   "cell_type": "markdown",
   "metadata": {},
   "source": [
    "# 모델구성을 위한 데이터 분석 및 가공"
   ]
  },
  {
   "cell_type": "markdown",
   "metadata": {},
   "source": [
    "## 데이터셋 내 문장 길이 분포"
   ]
  },
  {
   "cell_type": "code",
   "execution_count": 45,
   "metadata": {
    "ExecuteTime": {
     "end_time": "2020-09-01T09:11:44.201680Z",
     "start_time": "2020-09-01T09:11:44.198771Z"
    },
    "scrolled": true
   },
   "outputs": [
    {
     "name": "stdout",
     "output_type": "stream",
     "text": [
      "[32, 74, 919, 4, 4, 39, 228, 20, 33, 748]\n",
      "라벨:  0\n",
      "1번째 리뷰 문장 길이:  10\n",
      "2번째 리뷰 문장 길이:  17\n"
     ]
    }
   ],
   "source": [
    "print(X_train[0])  # 1번째 리뷰데이터\n",
    "print('라벨: ', y_train[0])  # 1번째 리뷰데이터의 라벨\n",
    "print('1번째 리뷰 문장 길이: ', len(X_train[0]))\n",
    "print('2번째 리뷰 문장 길이: ', len(X_train[1]))"
   ]
  },
  {
   "cell_type": "code",
   "execution_count": 46,
   "metadata": {
    "ExecuteTime": {
     "end_time": "2020-09-01T09:12:43.838563Z",
     "start_time": "2020-09-01T09:12:43.798963Z"
    },
    "scrolled": true
   },
   "outputs": [
    {
     "name": "stdout",
     "output_type": "stream",
     "text": [
      "문장길이 평균 :  15.969376315021577\n",
      "문장길이 최대 :  116\n",
      "문장길이 표준편차 :  12.843535456326455\n"
     ]
    }
   ],
   "source": [
    "total_data_text = list(X_train) + list(X_test)\n",
    "# 텍스트데이터 문장길이의 리스트를 생성한 후\n",
    "num_tokens = [len(tokens) for tokens in total_data_text]\n",
    "num_tokens = np.array(num_tokens)\n",
    "# 문장길이의 평균값, 최대값, 표준편차를 계산해 본다. \n",
    "print('문장길이 평균 : ', np.mean(num_tokens))\n",
    "print('문장길이 최대 : ', np.max(num_tokens))\n",
    "print('문장길이 표준편차 : ', np.std(num_tokens))"
   ]
  },
  {
   "cell_type": "markdown",
   "metadata": {},
   "source": [
    "## 적절한 최대 문장 길이 지정"
   ]
  },
  {
   "cell_type": "code",
   "execution_count": 47,
   "metadata": {
    "ExecuteTime": {
     "end_time": "2020-09-01T09:12:45.385291Z",
     "start_time": "2020-09-01T09:12:45.380178Z"
    }
   },
   "outputs": [
    {
     "name": "stdout",
     "output_type": "stream",
     "text": [
      "pad_sequences maxlen :  41\n",
      "전체 문장의 93.43%가 maxlen 설정값 이내에 포함됩니다. \n"
     ]
    }
   ],
   "source": [
    "# 예를들어, 최대 길이를 (평균 + 2*표준편차)로 한다면,  \n",
    "max_tokens = np.mean(num_tokens) + 2 * np.std(num_tokens)\n",
    "maxlen = int(max_tokens)\n",
    "print('pad_sequences maxlen : ', maxlen)\n",
    "print('전체 문장의 {}%가 maxlen 설정값 이내에 포함됩니다. '.format(round(np.sum(num_tokens < max_tokens) / len(num_tokens)*100, 2) ))"
   ]
  },
  {
   "cell_type": "markdown",
   "metadata": {},
   "source": [
    "## keras.preprocessing.sequence.pad_sequences 을 활용한 패딩 추가"
   ]
  },
  {
   "cell_type": "code",
   "execution_count": 108,
   "metadata": {
    "ExecuteTime": {
     "end_time": "2020-09-01T13:30:10.248059Z",
     "start_time": "2020-09-01T13:30:09.916576Z"
    }
   },
   "outputs": [],
   "source": [
    "X_train = keras.preprocessing.sequence.pad_sequences(X_train,\n",
    "                                                        value=word_to_index[\"<PAD>\"],\n",
    "                                                        padding='pre', # 혹은 'pre'\n",
    "                                                        maxlen=maxlen)\n",
    "\n",
    "X_test = keras.preprocessing.sequence.pad_sequences(X_test,\n",
    "                                                       value=word_to_index[\"<PAD>\"],\n",
    "                                                       padding='pre', # 혹은 'pre'\n",
    "                                                       maxlen=maxlen)"
   ]
  },
  {
   "cell_type": "code",
   "execution_count": 109,
   "metadata": {
    "ExecuteTime": {
     "end_time": "2020-09-01T13:31:07.184220Z",
     "start_time": "2020-09-01T13:31:07.133758Z"
    }
   },
   "outputs": [
    {
     "name": "stdout",
     "output_type": "stream",
     "text": [
      "문장길이 평균 :  41.0\n",
      "문장길이 최대 :  41\n",
      "문장길이 표준편차 :  0.0\n"
     ]
    }
   ],
   "source": [
    "# 문장길이의 평균값, 최대값, 표준편차를 다시 계산해본다.\n",
    "total_data_text = list(X_train) + list(X_test)\n",
    "# 텍스트데이터 문장길이의 리스트를 생성한 후\n",
    "num_tokens = [len(tokens) for tokens in total_data_text]\n",
    "num_tokens = np.array(num_tokens)\n",
    "print('문장길이 평균 : ', np.mean(num_tokens))\n",
    "print('문장길이 최대 : ', np.max(num_tokens))\n",
    "print('문장길이 표준편차 : ', np.std(num_tokens))"
   ]
  },
  {
   "cell_type": "markdown",
   "metadata": {},
   "source": [
    "# 모델구성 및 validation set 구성"
   ]
  },
  {
   "cell_type": "markdown",
   "metadata": {},
   "source": [
    "## 1-D Convolution Neural Network(1-D CNN) 모델"
   ]
  },
  {
   "cell_type": "code",
   "execution_count": 10,
   "metadata": {
    "ExecuteTime": {
     "end_time": "2020-09-01T07:20:34.686119Z",
     "start_time": "2020-09-01T07:20:33.730745Z"
    }
   },
   "outputs": [
    {
     "name": "stdout",
     "output_type": "stream",
     "text": [
      "Model: \"sequential\"\n",
      "_________________________________________________________________\n",
      "Layer (type)                 Output Shape              Param #   \n",
      "=================================================================\n",
      "embedding (Embedding)        (None, None, 16)          160000    \n",
      "_________________________________________________________________\n",
      "conv1d (Conv1D)              (None, None, 16)          1808      \n",
      "_________________________________________________________________\n",
      "max_pooling1d (MaxPooling1D) (None, None, 16)          0         \n",
      "_________________________________________________________________\n",
      "conv1d_1 (Conv1D)            (None, None, 16)          1808      \n",
      "_________________________________________________________________\n",
      "global_max_pooling1d (Global (None, 16)                0         \n",
      "_________________________________________________________________\n",
      "dense (Dense)                (None, 8)                 136       \n",
      "_________________________________________________________________\n",
      "dense_1 (Dense)              (None, 1)                 9         \n",
      "=================================================================\n",
      "Total params: 163,761\n",
      "Trainable params: 163,761\n",
      "Non-trainable params: 0\n",
      "_________________________________________________________________\n"
     ]
    }
   ],
   "source": [
    "vocab_size = 10000    # 어휘 사전의 크기입니다(10,000개의 단어)\n",
    "word_vector_dim = 16  # 워드 벡터의 차원수 (변경가능한 하이퍼파라미터)\n",
    "\n",
    "Cnn_model = keras.Sequential()\n",
    "Cnn_model.add(keras.layers.Embedding(vocab_size, word_vector_dim, input_shape=(None,)))\n",
    "Cnn_model.add(keras.layers.Conv1D(16, 7, activation='relu'))\n",
    "Cnn_model.add(keras.layers.MaxPooling1D(5))\n",
    "Cnn_model.add(keras.layers.Conv1D(16, 7, activation='relu'))\n",
    "Cnn_model.add(keras.layers.GlobalMaxPooling1D())\n",
    "Cnn_model.add(keras.layers.Dense(8, activation='relu'))\n",
    "Cnn_model.add(keras.layers.Dense(1, activation='sigmoid'))  # 최종 출력은 긍정/부정을 나타내는 1dim 입니다.\n",
    "\n",
    "Cnn_model.summary()"
   ]
  },
  {
   "cell_type": "markdown",
   "metadata": {},
   "source": [
    "## Embed 모델"
   ]
  },
  {
   "cell_type": "markdown",
   "metadata": {},
   "source": [
    "### Google의 Word2Vec 모델을 가져와 적용"
   ]
  },
  {
   "cell_type": "code",
   "execution_count": 12,
   "metadata": {
    "ExecuteTime": {
     "end_time": "2020-09-01T07:25:21.391647Z",
     "start_time": "2020-09-01T07:24:49.738642Z"
    },
    "scrolled": true
   },
   "outputs": [
    {
     "data": {
      "text/plain": [
       "array([ 1.07421875e-01, -2.01171875e-01,  1.23046875e-01,  2.11914062e-01,\n",
       "       -9.13085938e-02,  2.16796875e-01, -1.31835938e-01,  8.30078125e-02,\n",
       "        2.02148438e-01,  4.78515625e-02,  3.66210938e-02, -2.45361328e-02,\n",
       "        2.39257812e-02, -1.60156250e-01, -2.61230469e-02,  9.71679688e-02,\n",
       "       -6.34765625e-02,  1.84570312e-01,  1.70898438e-01, -1.63085938e-01,\n",
       "       -1.09375000e-01,  1.49414062e-01, -4.65393066e-04,  9.61914062e-02,\n",
       "        1.68945312e-01,  2.60925293e-03,  8.93554688e-02,  6.49414062e-02,\n",
       "        3.56445312e-02, -6.93359375e-02, -1.46484375e-01, -1.21093750e-01,\n",
       "       -2.27539062e-01,  2.45361328e-02, -1.24511719e-01, -3.18359375e-01,\n",
       "       -2.20703125e-01,  1.30859375e-01,  3.66210938e-02, -3.63769531e-02,\n",
       "       -1.13281250e-01,  1.95312500e-01,  9.76562500e-02,  1.26953125e-01,\n",
       "        6.59179688e-02,  6.93359375e-02,  1.02539062e-02,  1.75781250e-01,\n",
       "       -1.68945312e-01,  1.21307373e-03, -2.98828125e-01, -1.15234375e-01,\n",
       "        5.66406250e-02, -1.77734375e-01, -2.08984375e-01,  1.76757812e-01,\n",
       "        2.38037109e-02, -2.57812500e-01, -4.46777344e-02,  1.88476562e-01,\n",
       "        5.51757812e-02,  5.02929688e-02, -1.06933594e-01,  1.89453125e-01,\n",
       "       -1.16210938e-01,  8.49609375e-02, -1.71875000e-01,  2.45117188e-01,\n",
       "       -1.73828125e-01, -8.30078125e-03,  4.56542969e-02, -1.61132812e-02,\n",
       "        1.86523438e-01, -6.05468750e-02, -4.17480469e-02,  1.82617188e-01,\n",
       "        2.20703125e-01, -1.22558594e-01, -2.55126953e-02, -3.08593750e-01,\n",
       "        9.13085938e-02,  1.60156250e-01,  1.70898438e-01,  1.19628906e-01,\n",
       "        7.08007812e-02, -2.64892578e-02, -3.08837891e-02,  4.06250000e-01,\n",
       "       -1.01562500e-01,  5.71289062e-02, -7.26318359e-03, -9.17968750e-02,\n",
       "       -1.50390625e-01, -2.55859375e-01,  2.16796875e-01, -3.63769531e-02,\n",
       "        2.24609375e-01,  8.00781250e-02,  1.56250000e-01,  5.27343750e-02,\n",
       "        1.50390625e-01, -1.14746094e-01, -8.64257812e-02,  1.19140625e-01,\n",
       "       -7.17773438e-02,  2.73437500e-01, -1.64062500e-01,  7.29370117e-03,\n",
       "        4.21875000e-01, -1.12792969e-01, -1.35742188e-01, -1.31835938e-01,\n",
       "       -1.37695312e-01, -7.66601562e-02,  6.25000000e-02,  4.98046875e-02,\n",
       "       -1.91406250e-01, -6.03027344e-02,  2.27539062e-01,  5.88378906e-02,\n",
       "       -3.24218750e-01,  5.41992188e-02, -1.35742188e-01,  8.17871094e-03,\n",
       "       -5.24902344e-02, -1.74713135e-03, -9.81445312e-02, -2.86865234e-02,\n",
       "        3.61328125e-02,  2.15820312e-01,  5.98144531e-02, -3.08593750e-01,\n",
       "       -2.27539062e-01,  2.61718750e-01,  9.86328125e-02, -5.07812500e-02,\n",
       "        1.78222656e-02,  1.31835938e-01, -5.35156250e-01, -1.81640625e-01,\n",
       "        1.38671875e-01, -3.10546875e-01, -9.71679688e-02,  1.31835938e-01,\n",
       "       -1.16210938e-01,  7.03125000e-02,  2.85156250e-01,  3.51562500e-02,\n",
       "       -1.01562500e-01, -3.75976562e-02,  1.41601562e-01,  1.42578125e-01,\n",
       "       -5.68847656e-02,  2.65625000e-01, -2.09960938e-01,  9.64355469e-03,\n",
       "       -6.68945312e-02, -4.83398438e-02, -6.10351562e-02,  2.45117188e-01,\n",
       "       -9.66796875e-02,  1.78222656e-02, -1.27929688e-01, -4.78515625e-02,\n",
       "       -7.26318359e-03,  1.79687500e-01,  2.78320312e-02, -2.10937500e-01,\n",
       "       -1.43554688e-01, -1.27929688e-01,  1.73339844e-02, -3.60107422e-03,\n",
       "       -2.04101562e-01,  3.63159180e-03, -1.19628906e-01, -6.15234375e-02,\n",
       "        5.93261719e-02, -3.23486328e-03, -1.70898438e-01, -3.14941406e-02,\n",
       "       -8.88671875e-02, -2.89062500e-01,  3.44238281e-02, -1.87500000e-01,\n",
       "        2.94921875e-01,  1.58203125e-01, -1.19628906e-01,  7.61718750e-02,\n",
       "        6.39648438e-02, -4.68750000e-02, -6.83593750e-02,  1.21459961e-02,\n",
       "       -1.44531250e-01,  4.54101562e-02,  3.68652344e-02,  3.88671875e-01,\n",
       "        1.45507812e-01, -2.55859375e-01, -4.46777344e-02, -1.33789062e-01,\n",
       "       -1.38671875e-01,  6.59179688e-02,  1.37695312e-01,  1.14746094e-01,\n",
       "        2.03125000e-01, -4.78515625e-02,  1.80664062e-02, -8.54492188e-02,\n",
       "       -2.48046875e-01, -3.39843750e-01, -2.83203125e-02,  1.05468750e-01,\n",
       "       -2.14843750e-01, -8.74023438e-02,  7.12890625e-02,  1.87500000e-01,\n",
       "       -1.12304688e-01,  2.73437500e-01, -3.26171875e-01, -1.77734375e-01,\n",
       "       -4.24804688e-02, -2.69531250e-01,  6.64062500e-02, -6.88476562e-02,\n",
       "       -1.99218750e-01, -7.03125000e-02, -2.43164062e-01, -3.66210938e-02,\n",
       "       -7.37304688e-02, -1.77734375e-01,  9.17968750e-02, -1.25000000e-01,\n",
       "       -1.65039062e-01, -3.57421875e-01, -2.85156250e-01, -1.66992188e-01,\n",
       "        1.97265625e-01, -1.53320312e-01,  2.31933594e-02,  2.06054688e-01,\n",
       "        1.80664062e-01, -2.74658203e-02, -1.92382812e-01, -9.61914062e-02,\n",
       "       -1.06811523e-02, -4.73632812e-02,  6.54296875e-02, -1.25732422e-02,\n",
       "        1.78222656e-02, -8.00781250e-02, -2.59765625e-01,  9.37500000e-02,\n",
       "       -7.81250000e-02,  4.68750000e-02, -2.22167969e-02,  1.86767578e-02,\n",
       "        3.11279297e-02,  1.04980469e-02, -1.69921875e-01,  2.58789062e-02,\n",
       "       -3.41796875e-02, -1.44042969e-02, -5.46875000e-02, -8.78906250e-02,\n",
       "        1.96838379e-03,  2.23632812e-01, -1.36718750e-01,  1.75781250e-01,\n",
       "       -1.63085938e-01,  1.87500000e-01,  3.44238281e-02, -5.63964844e-02,\n",
       "       -2.27689743e-05,  4.27246094e-02,  5.81054688e-02, -1.07910156e-01,\n",
       "       -3.88183594e-02, -2.69531250e-01,  3.34472656e-02,  9.81445312e-02,\n",
       "        5.63964844e-02,  2.23632812e-01, -5.49316406e-02,  1.46484375e-01,\n",
       "        5.93261719e-02, -2.19726562e-01,  6.39648438e-02,  1.66015625e-02,\n",
       "        4.56542969e-02,  3.26171875e-01, -3.80859375e-01,  1.70898438e-01,\n",
       "        5.66406250e-02, -1.04492188e-01,  1.38671875e-01, -1.57226562e-01,\n",
       "        3.23486328e-03, -4.80957031e-02, -2.48046875e-01, -6.20117188e-02],\n",
       "      dtype=float32)"
      ]
     },
     "execution_count": 12,
     "metadata": {},
     "output_type": "execute_result"
    }
   ],
   "source": [
    "from gensim.models import KeyedVectors\n",
    "word2vec_path = os.getenv('HOME')+'/aiffel/sentiment_classification/GoogleNews-vectors-negative300.bin.gz'\n",
    "word2vec = KeyedVectors.load_word2vec_format(word2vec_path, binary=True)\n",
    "vector = word2vec['computer']\n",
    "vector     # 무려 300dim의 워드 벡터입니다."
   ]
  },
  {
   "cell_type": "markdown",
   "metadata": {},
   "source": [
    "### embedding_matrix 생성"
   ]
  },
  {
   "cell_type": "code",
   "execution_count": 13,
   "metadata": {
    "ExecuteTime": {
     "end_time": "2020-09-01T07:27:24.335933Z",
     "start_time": "2020-09-01T07:27:24.310686Z"
    }
   },
   "outputs": [],
   "source": [
    "vocab_size = 10000    # 어휘 사전의 크기입니다(10,000개의 단어)\n",
    "word_vector_dim = 300  # 워드 벡터의 차원수 (변경가능한 하이퍼파라미터)\n",
    "\n",
    "embedding_matrix = np.random.rand(vocab_size, word_vector_dim)\n",
    "\n",
    "# embedding_matrix에 Word2Vec 워드벡터를 단어 하나씩마다 차례차례 카피한다.\n",
    "for i in range(4,vocab_size):\n",
    "    if index_to_word[i] in word2vec:\n",
    "        embedding_matrix[i] = word2vec[index_to_word[i]]"
   ]
  },
  {
   "cell_type": "code",
   "execution_count": 14,
   "metadata": {
    "ExecuteTime": {
     "end_time": "2020-09-01T07:27:53.290636Z",
     "start_time": "2020-09-01T07:27:53.236591Z"
    }
   },
   "outputs": [
    {
     "name": "stdout",
     "output_type": "stream",
     "text": [
      "Model: \"sequential_1\"\n",
      "_________________________________________________________________\n",
      "Layer (type)                 Output Shape              Param #   \n",
      "=================================================================\n",
      "embedding_1 (Embedding)      (None, 41, 300)           3000000   \n",
      "_________________________________________________________________\n",
      "conv1d_2 (Conv1D)            (None, 35, 16)            33616     \n",
      "_________________________________________________________________\n",
      "max_pooling1d_1 (MaxPooling1 (None, 7, 16)             0         \n",
      "_________________________________________________________________\n",
      "conv1d_3 (Conv1D)            (None, 1, 16)             1808      \n",
      "_________________________________________________________________\n",
      "global_max_pooling1d_1 (Glob (None, 16)                0         \n",
      "_________________________________________________________________\n",
      "dense_2 (Dense)              (None, 8)                 136       \n",
      "_________________________________________________________________\n",
      "dense_3 (Dense)              (None, 1)                 9         \n",
      "=================================================================\n",
      "Total params: 3,035,569\n",
      "Trainable params: 3,035,569\n",
      "Non-trainable params: 0\n",
      "_________________________________________________________________\n"
     ]
    }
   ],
   "source": [
    "from tensorflow.keras.initializers import Constant\n",
    "\n",
    "vocab_size = 10000    # 어휘 사전의 크기입니다(10,000개의 단어)\n",
    "word_vector_dim = 300  # 워드 벡터의 차원수 (변경가능한 하이퍼파라미터)\n",
    "\n",
    "# 모델 구성\n",
    "Embed_model = keras.Sequential()\n",
    "Embed_model.add(keras.layers.Embedding(vocab_size, \n",
    "                                 word_vector_dim, \n",
    "                                 embeddings_initializer=Constant(embedding_matrix),  # 카피한 임베딩을 여기서 활용\n",
    "                                 input_length=maxlen, \n",
    "                                 trainable=True))   # trainable을 True로 주면 Fine-tuning\n",
    "Embed_model.add(keras.layers.Conv1D(16, 7, activation='relu'))\n",
    "Embed_model.add(keras.layers.MaxPooling1D(5))\n",
    "Embed_model.add(keras.layers.Conv1D(16, 7, activation='relu'))\n",
    "Embed_model.add(keras.layers.GlobalMaxPooling1D())\n",
    "Embed_model.add(keras.layers.Dense(8, activation='relu'))\n",
    "Embed_model.add(keras.layers.Dense(1, activation='sigmoid')) \n",
    "\n",
    "Embed_model.summary()"
   ]
  },
  {
   "cell_type": "markdown",
   "metadata": {},
   "source": [
    "## validation set 구성"
   ]
  },
  {
   "cell_type": "code",
   "execution_count": 110,
   "metadata": {
    "ExecuteTime": {
     "end_time": "2020-09-01T13:32:04.128952Z",
     "start_time": "2020-09-01T13:32:04.125086Z"
    }
   },
   "outputs": [
    {
     "name": "stdout",
     "output_type": "stream",
     "text": [
      "(146182, 41)\n",
      "(86182, 41)\n",
      "(86182,)\n",
      "(60000, 41)\n",
      "(60000,)\n"
     ]
    }
   ],
   "source": [
    "# 3:2의 비율로 train 과 valid 데이터를 나눠줍니다.\n",
    "# validation set 60000건 분리\n",
    "X_val = X_train[:60000]   \n",
    "y_val = y_train[:60000]\n",
    "\n",
    "# validation set을 제외한 나머지 86182건\n",
    "partial_X_train = X_train[60000:]  \n",
    "partial_y_train = y_train[60000:]\n",
    "\n",
    "print(X_train.shape)\n",
    "print(partial_X_train.shape)\n",
    "print(partial_y_train.shape)\n",
    "print(X_val.shape)\n",
    "print(y_val.shape)"
   ]
  },
  {
   "cell_type": "markdown",
   "metadata": {},
   "source": [
    "# 모델 훈련 개시"
   ]
  },
  {
   "cell_type": "markdown",
   "metadata": {},
   "source": [
    "## 1D CNN 모델 훈련"
   ]
  },
  {
   "cell_type": "code",
   "execution_count": 17,
   "metadata": {
    "ExecuteTime": {
     "end_time": "2020-09-01T07:30:42.900003Z",
     "start_time": "2020-09-01T07:29:54.706837Z"
    }
   },
   "outputs": [
    {
     "name": "stdout",
     "output_type": "stream",
     "text": [
      "Epoch 1/20\n",
      "169/169 [==============================] - 19s 111ms/step - loss: 0.5140 - accuracy: 0.7458 - val_loss: 0.3688 - val_accuracy: 0.8381\n",
      "Epoch 2/20\n",
      "169/169 [==============================] - 1s 5ms/step - loss: 0.3354 - accuracy: 0.8572 - val_loss: 0.3479 - val_accuracy: 0.8480\n",
      "Epoch 3/20\n",
      "169/169 [==============================] - 1s 5ms/step - loss: 0.2968 - accuracy: 0.8769 - val_loss: 0.3507 - val_accuracy: 0.8493\n",
      "Epoch 4/20\n",
      "169/169 [==============================] - 1s 5ms/step - loss: 0.2691 - accuracy: 0.8904 - val_loss: 0.3549 - val_accuracy: 0.8470\n",
      "Epoch 5/20\n",
      "169/169 [==============================] - 1s 5ms/step - loss: 0.2392 - accuracy: 0.9060 - val_loss: 0.3646 - val_accuracy: 0.8454\n",
      "Epoch 6/20\n",
      "169/169 [==============================] - 1s 5ms/step - loss: 0.2087 - accuracy: 0.9210 - val_loss: 0.3882 - val_accuracy: 0.8441\n",
      "Epoch 7/20\n",
      "169/169 [==============================] - 1s 4ms/step - loss: 0.1758 - accuracy: 0.9372 - val_loss: 0.4170 - val_accuracy: 0.8419\n",
      "Epoch 8/20\n",
      "169/169 [==============================] - 1s 5ms/step - loss: 0.1459 - accuracy: 0.9502 - val_loss: 0.4511 - val_accuracy: 0.8382\n",
      "Epoch 9/20\n",
      "169/169 [==============================] - 1s 5ms/step - loss: 0.1195 - accuracy: 0.9613 - val_loss: 0.4832 - val_accuracy: 0.8360\n",
      "Epoch 10/20\n",
      "169/169 [==============================] - 1s 4ms/step - loss: 0.0972 - accuracy: 0.9695 - val_loss: 0.5320 - val_accuracy: 0.8334\n",
      "Epoch 11/20\n",
      "169/169 [==============================] - 1s 5ms/step - loss: 0.0803 - accuracy: 0.9757 - val_loss: 0.5843 - val_accuracy: 0.8317\n",
      "Epoch 12/20\n",
      "169/169 [==============================] - 1s 5ms/step - loss: 0.0676 - accuracy: 0.9801 - val_loss: 0.6254 - val_accuracy: 0.8290\n",
      "Epoch 13/20\n",
      "169/169 [==============================] - 1s 4ms/step - loss: 0.0566 - accuracy: 0.9840 - val_loss: 0.6546 - val_accuracy: 0.8242\n",
      "Epoch 14/20\n",
      "169/169 [==============================] - 1s 5ms/step - loss: 0.0488 - accuracy: 0.9865 - val_loss: 0.7138 - val_accuracy: 0.8240\n",
      "Epoch 15/20\n",
      "169/169 [==============================] - 1s 5ms/step - loss: 0.0430 - accuracy: 0.9877 - val_loss: 0.7507 - val_accuracy: 0.8226\n",
      "Epoch 16/20\n",
      "169/169 [==============================] - 1s 5ms/step - loss: 0.0376 - accuracy: 0.9899 - val_loss: 0.8028 - val_accuracy: 0.8206\n",
      "Epoch 17/20\n",
      "169/169 [==============================] - 1s 4ms/step - loss: 0.0331 - accuracy: 0.9908 - val_loss: 0.8355 - val_accuracy: 0.8193\n",
      "Epoch 18/20\n",
      "169/169 [==============================] - 1s 4ms/step - loss: 0.0290 - accuracy: 0.9921 - val_loss: 0.8920 - val_accuracy: 0.8188\n",
      "Epoch 19/20\n",
      "169/169 [==============================] - 1s 5ms/step - loss: 0.0270 - accuracy: 0.9927 - val_loss: 0.9298 - val_accuracy: 0.8177\n",
      "Epoch 20/20\n",
      "169/169 [==============================] - 1s 4ms/step - loss: 0.0266 - accuracy: 0.9925 - val_loss: 0.9593 - val_accuracy: 0.8161\n"
     ]
    }
   ],
   "source": [
    "Cnn_model.compile(optimizer='adam',\n",
    "              loss='binary_crossentropy',\n",
    "              metrics=['accuracy'])\n",
    "              \n",
    "epochs=20  # 몇 epoch를 훈련하면 좋을지 결과를 보면서 바꾸어 봅시다. \n",
    "\n",
    "Cnn_history = Cnn_model.fit(partial_X_train,\n",
    "                    partial_y_train,\n",
    "                    epochs=epochs,\n",
    "                    batch_size=512,\n",
    "                    validation_data=(X_val, y_val),\n",
    "                    verbose=1)"
   ]
  },
  {
   "cell_type": "code",
   "execution_count": 18,
   "metadata": {
    "ExecuteTime": {
     "end_time": "2020-09-01T07:31:25.500083Z",
     "start_time": "2020-09-01T07:31:12.912241Z"
    }
   },
   "outputs": [
    {
     "name": "stdout",
     "output_type": "stream",
     "text": [
      "1537/1537 - 7s - loss: 0.9809 - accuracy: 0.8131\n",
      "[0.9809016585350037, 0.8130886554718018]\n"
     ]
    }
   ],
   "source": [
    "results = Cnn_model.evaluate(X_test,  y_test, verbose=2)\n",
    "\n",
    "print(results)"
   ]
  },
  {
   "cell_type": "markdown",
   "metadata": {},
   "source": [
    "## Embed 모델 훈련"
   ]
  },
  {
   "cell_type": "code",
   "execution_count": 22,
   "metadata": {
    "ExecuteTime": {
     "end_time": "2020-09-01T07:36:09.006171Z",
     "start_time": "2020-09-01T07:33:59.802623Z"
    }
   },
   "outputs": [
    {
     "name": "stdout",
     "output_type": "stream",
     "text": [
      "Epoch 1/20\n",
      "169/169 [==============================] - 16s 92ms/step - loss: 0.6932 - accuracy: 0.5066 - val_loss: 0.6927 - val_accuracy: 0.5105\n",
      "Epoch 2/20\n",
      "169/169 [==============================] - 6s 33ms/step - loss: 0.6571 - accuracy: 0.5899 - val_loss: 0.4957 - val_accuracy: 0.7629\n",
      "Epoch 3/20\n",
      "169/169 [==============================] - 6s 33ms/step - loss: 0.4136 - accuracy: 0.8144 - val_loss: 0.3935 - val_accuracy: 0.8201\n",
      "Epoch 4/20\n",
      "169/169 [==============================] - 6s 33ms/step - loss: 0.3441 - accuracy: 0.8530 - val_loss: 0.3723 - val_accuracy: 0.8378\n",
      "Epoch 5/20\n",
      "169/169 [==============================] - 6s 34ms/step - loss: 0.3115 - accuracy: 0.8699 - val_loss: 0.3671 - val_accuracy: 0.8426\n",
      "Epoch 6/20\n",
      "169/169 [==============================] - 6s 34ms/step - loss: 0.2893 - accuracy: 0.8803 - val_loss: 0.3579 - val_accuracy: 0.8458\n",
      "Epoch 7/20\n",
      "169/169 [==============================] - 6s 33ms/step - loss: 0.2625 - accuracy: 0.8954 - val_loss: 0.3663 - val_accuracy: 0.8452\n",
      "Epoch 8/20\n",
      "169/169 [==============================] - 6s 34ms/step - loss: 0.2454 - accuracy: 0.9038 - val_loss: 0.3795 - val_accuracy: 0.8397\n",
      "Epoch 9/20\n",
      "169/169 [==============================] - 6s 33ms/step - loss: 0.2207 - accuracy: 0.9151 - val_loss: 0.3912 - val_accuracy: 0.8421\n",
      "Epoch 10/20\n",
      "169/169 [==============================] - 6s 34ms/step - loss: 0.1994 - accuracy: 0.9263 - val_loss: 0.4053 - val_accuracy: 0.8418\n",
      "Epoch 11/20\n",
      "169/169 [==============================] - 6s 34ms/step - loss: 0.1778 - accuracy: 0.9358 - val_loss: 0.4386 - val_accuracy: 0.8326\n",
      "Epoch 12/20\n",
      "169/169 [==============================] - 6s 34ms/step - loss: 0.1573 - accuracy: 0.9457 - val_loss: 0.4473 - val_accuracy: 0.8358\n",
      "Epoch 13/20\n",
      "169/169 [==============================] - 6s 33ms/step - loss: 0.1379 - accuracy: 0.9535 - val_loss: 0.4727 - val_accuracy: 0.8341\n",
      "Epoch 14/20\n",
      "169/169 [==============================] - 6s 33ms/step - loss: 0.1202 - accuracy: 0.9617 - val_loss: 0.4941 - val_accuracy: 0.8325\n",
      "Epoch 15/20\n",
      "169/169 [==============================] - 6s 33ms/step - loss: 0.1066 - accuracy: 0.9665 - val_loss: 0.5180 - val_accuracy: 0.8307\n",
      "Epoch 16/20\n",
      "169/169 [==============================] - 6s 34ms/step - loss: 0.0938 - accuracy: 0.9710 - val_loss: 0.5530 - val_accuracy: 0.8290\n",
      "Epoch 17/20\n",
      "169/169 [==============================] - 6s 34ms/step - loss: 0.0789 - accuracy: 0.9772 - val_loss: 0.5824 - val_accuracy: 0.8289\n",
      "Epoch 18/20\n",
      "169/169 [==============================] - 6s 33ms/step - loss: 0.0719 - accuracy: 0.9796 - val_loss: 0.6127 - val_accuracy: 0.8270\n",
      "Epoch 19/20\n",
      "169/169 [==============================] - 6s 33ms/step - loss: 0.0657 - accuracy: 0.9811 - val_loss: 0.6357 - val_accuracy: 0.8250\n",
      "Epoch 20/20\n",
      "169/169 [==============================] - 6s 33ms/step - loss: 0.0596 - accuracy: 0.9830 - val_loss: 0.6880 - val_accuracy: 0.8174\n"
     ]
    }
   ],
   "source": [
    "Embed_model.compile(optimizer='adam',\n",
    "              loss='binary_crossentropy',\n",
    "              metrics=['accuracy'])\n",
    "              \n",
    "epochs=20  # 몇 epoch를 훈련하면 좋을지 결과를 보면서 바꾸어 봅시다. \n",
    "\n",
    "Embed_history = Embed_model.fit(partial_X_train,\n",
    "                    partial_y_train,\n",
    "                    epochs=epochs,\n",
    "                    batch_size=512,\n",
    "                    validation_data=(X_val, y_val),\n",
    "                    verbose=1)"
   ]
  },
  {
   "cell_type": "code",
   "execution_count": 23,
   "metadata": {
    "ExecuteTime": {
     "end_time": "2020-09-01T07:36:46.915727Z",
     "start_time": "2020-09-01T07:36:39.069727Z"
    }
   },
   "outputs": [
    {
     "name": "stdout",
     "output_type": "stream",
     "text": [
      "1537/1537 - 5s - loss: 0.7097 - accuracy: 0.8112\n",
      "[0.7096847891807556, 0.8111764192581177]\n"
     ]
    }
   ],
   "source": [
    "results = Embed_model.evaluate(X_test,  y_test, verbose=2)\n",
    "\n",
    "print(results)"
   ]
  },
  {
   "cell_type": "markdown",
   "metadata": {},
   "source": [
    "# Loss, Accuracy 그래프 시각화"
   ]
  },
  {
   "cell_type": "markdown",
   "metadata": {},
   "source": [
    "## 1D CNN model 그래프 시각화"
   ]
  },
  {
   "cell_type": "code",
   "execution_count": 19,
   "metadata": {
    "ExecuteTime": {
     "end_time": "2020-09-01T07:31:56.859491Z",
     "start_time": "2020-09-01T07:31:56.856897Z"
    }
   },
   "outputs": [
    {
     "name": "stdout",
     "output_type": "stream",
     "text": [
      "dict_keys(['loss', 'accuracy', 'val_loss', 'val_accuracy'])\n"
     ]
    }
   ],
   "source": [
    "Cnn_history_dict = Cnn_history.history\n",
    "print(Rnn_history_dict.keys())"
   ]
  },
  {
   "cell_type": "code",
   "execution_count": 20,
   "metadata": {
    "ExecuteTime": {
     "end_time": "2020-09-01T07:32:26.825938Z",
     "start_time": "2020-09-01T07:32:26.699966Z"
    },
    "scrolled": true
   },
   "outputs": [
    {
     "data": {
      "image/png": "[encoded data removed]",
      "text/plain": [
       "<Figure size 432x288 with 1 Axes>"
      ]
     },
     "metadata": {
      "needs_background": "light"
     },
     "output_type": "display_data"
    }
   ],
   "source": [
    "import matplotlib.pyplot as plt\n",
    "\n",
    "acc = Cnn_history_dict['accuracy']\n",
    "val_acc = Cnn_history_dict['val_accuracy']\n",
    "loss = Cnn_history_dict['loss']\n",
    "val_loss = Cnn_history_dict['val_loss']\n",
    "\n",
    "epochs = range(1, len(acc) + 1)\n",
    "\n",
    "# \"bo\"는 \"파란색 점\"입니다\n",
    "plt.plot(epochs, loss, 'bo', label='Training loss')\n",
    "# b는 \"파란 실선\"입니다\n",
    "plt.plot(epochs, val_loss, 'b', label='Validation loss')\n",
    "plt.title('Training and validation loss')\n",
    "plt.xlabel('Epochs')\n",
    "plt.ylabel('Loss')\n",
    "plt.legend()\n",
    "\n",
    "plt.show()"
   ]
  },
  {
   "cell_type": "markdown",
   "metadata": {},
   "source": [
    "Training loss는 지속적으로 줄어들지만, Validation loss는 급격하게 상승하고 있습니다."
   ]
  },
  {
   "cell_type": "code",
   "execution_count": 21,
   "metadata": {
    "ExecuteTime": {
     "end_time": "2020-09-01T07:32:56.829166Z",
     "start_time": "2020-09-01T07:32:56.718811Z"
    }
   },
   "outputs": [
    {
     "data": {
      "image/png": "[encoded data removed]",
      "text/plain": [
       "<Figure size 432x288 with 1 Axes>"
      ]
     },
     "metadata": {
      "needs_background": "light"
     },
     "output_type": "display_data"
    }
   ],
   "source": [
    "plt.clf()   # 그림을 초기화합니다\n",
    "\n",
    "plt.plot(epochs, acc, 'bo', label='Training acc')\n",
    "plt.plot(epochs, val_acc, 'b', label='Validation acc')\n",
    "plt.title('Training and validation accuracy')\n",
    "plt.xlabel('Epochs')\n",
    "plt.ylabel('Accuracy')\n",
    "plt.legend()\n",
    "\n",
    "plt.show()"
   ]
  },
  {
   "cell_type": "markdown",
   "metadata": {},
   "source": [
    "정확도의 측면에서 보니 모델 성능이 안좋은 모습을 더욱 확실하게 볼 수 있습니다."
   ]
  },
  {
   "cell_type": "markdown",
   "metadata": {},
   "source": [
    "## Embed model 그래프 시각화"
   ]
  },
  {
   "cell_type": "code",
   "execution_count": 24,
   "metadata": {
    "ExecuteTime": {
     "end_time": "2020-09-01T07:37:16.780241Z",
     "start_time": "2020-09-01T07:37:16.777599Z"
    }
   },
   "outputs": [
    {
     "name": "stdout",
     "output_type": "stream",
     "text": [
      "dict_keys(['loss', 'accuracy', 'val_loss', 'val_accuracy'])\n"
     ]
    }
   ],
   "source": [
    "Embed_history_dict = Embed_history.history\n",
    "print(Embed_history_dict.keys())"
   ]
  },
  {
   "cell_type": "code",
   "execution_count": 25,
   "metadata": {
    "ExecuteTime": {
     "end_time": "2020-09-01T07:37:47.482939Z",
     "start_time": "2020-09-01T07:37:47.377208Z"
    }
   },
   "outputs": [
    {
     "data": {
      "image/png": "[encoded data removed]",
      "text/plain": [
       "<Figure size 432x288 with 1 Axes>"
      ]
     },
     "metadata": {
      "needs_background": "light"
     },
     "output_type": "display_data"
    }
   ],
   "source": [
    "acc = Embed_history_dict['accuracy']\n",
    "val_acc = Embed_history_dict['val_accuracy']\n",
    "loss = Embed_history_dict['loss']\n",
    "val_loss = Embed_history_dict['val_loss']\n",
    "\n",
    "epochs = range(1, len(acc) + 1)\n",
    "\n",
    "# \"bo\"는 \"파란색 점\"입니다\n",
    "plt.plot(epochs, loss, 'bo', label='Training loss')\n",
    "# b는 \"파란 실선\"입니다\n",
    "plt.plot(epochs, val_loss, 'b', label='Validation loss')\n",
    "plt.title('Training and validation loss')\n",
    "plt.xlabel('Epochs')\n",
    "plt.ylabel('Loss')\n",
    "plt.legend()\n",
    "\n",
    "plt.show()"
   ]
  },
  {
   "cell_type": "code",
   "execution_count": 26,
   "metadata": {
    "ExecuteTime": {
     "end_time": "2020-09-01T07:38:18.090663Z",
     "start_time": "2020-09-01T07:38:17.983848Z"
    }
   },
   "outputs": [
    {
     "data": {
      "image/png": "[encoded data removed]",
      "text/plain": [
       "<Figure size 432x288 with 1 Axes>"
      ]
     },
     "metadata": {
      "needs_background": "light"
     },
     "output_type": "display_data"
    }
   ],
   "source": [
    "plt.clf()   # 그림을 초기화합니다\n",
    "\n",
    "plt.plot(epochs, acc, 'bo', label='Training acc')\n",
    "plt.plot(epochs, val_acc, 'b', label='Validation acc')\n",
    "plt.title('Training and validation accuracy')\n",
    "plt.xlabel('Epochs')\n",
    "plt.ylabel('Accuracy')\n",
    "plt.legend()\n",
    "\n",
    "plt.show()"
   ]
  },
  {
   "cell_type": "markdown",
   "metadata": {},
   "source": [
    "# 학습된 Embedding 레이어 분석"
   ]
  },
  {
   "cell_type": "code",
   "execution_count": 27,
   "metadata": {
    "ExecuteTime": {
     "end_time": "2020-09-01T07:39:00.416672Z",
     "start_time": "2020-09-01T07:39:00.404468Z"
    }
   },
   "outputs": [
    {
     "name": "stdout",
     "output_type": "stream",
     "text": [
      "(10000, 16)\n"
     ]
    }
   ],
   "source": [
    "embedding_layer = Rnn_model.layers[0]\n",
    "weights = embedding_layer.get_weights()[0]\n",
    "print(weights.shape)    # shape: (vocab_size, embedding_dim)"
   ]
  },
  {
   "cell_type": "code",
   "execution_count": 28,
   "metadata": {
    "ExecuteTime": {
     "end_time": "2020-09-01T07:39:30.152138Z",
     "start_time": "2020-09-01T07:39:30.132731Z"
    }
   },
   "outputs": [
    {
     "name": "stdout",
     "output_type": "stream",
     "text": [
      "(10000, 300)\n"
     ]
    }
   ],
   "source": [
    "embedding_layer = Embed_model.layers[0]\n",
    "weights = embedding_layer.get_weights()[0]\n",
    "print(weights.shape)    # shape: (vocab_size, embedding_dim)"
   ]
  },
  {
   "cell_type": "markdown",
   "metadata": {},
   "source": [
    "## 학습 파라미터 저장"
   ]
  },
  {
   "cell_type": "code",
   "execution_count": 45,
   "metadata": {
    "ExecuteTime": {
     "end_time": "2020-09-01T08:04:52.152472Z",
     "start_time": "2020-09-01T08:04:52.028702Z"
    }
   },
   "outputs": [],
   "source": [
    "import os\n",
    "word_vector_dim = 16\n",
    "# 학습한 Embedding 파라미터를 파일에 써서 저장합니다. \n",
    "Rnn_word2vec_file_path = os.getenv('HOME')+'/repo/data/sentiment_classification/rnn_word2vec.txt'\n",
    "f = open(word2vec_file_path, 'w')\n",
    "f.write('{} {}\\n'.format(vocab_size-4, word_vector_dim))  # 몇개의 벡터를 얼마 사이즈로 기재할지 타이틀을 씁니다.\n",
    "\n",
    "# 단어 개수(에서 특수문자 4개는 제외하고)만큼의 워드 벡터를 파일에 기록합니다. \n",
    "vectors = Rnn_model.get_weights()[0]\n",
    "for i in range(4,vocab_size):\n",
    "    f.write('{} {}\\n'.format(index_to_word[i], ' '.join(map(str, list(vectors[i, :])))))\n",
    "f.close()"
   ]
  },
  {
   "cell_type": "code",
   "execution_count": 33,
   "metadata": {
    "ExecuteTime": {
     "end_time": "2020-09-01T07:55:45.588103Z",
     "start_time": "2020-09-01T07:55:44.237964Z"
    }
   },
   "outputs": [],
   "source": [
    "# 학습한 Embedding 파라미터를 파일에 써서 저장합니다. \n",
    "word_vector_dim = 300\n",
    "Embed_word2vec_file_path = os.getenv('HOME')+'/repo/data/sentiment_classification/Embed_word2vec.txt'\n",
    "f = open(word2vec_file_path, 'w')\n",
    "f.write('{} {}\\n'.format(vocab_size-4, word_vector_dim))  # 몇개의 벡터를 얼마 사이즈로 기재할지 타이틀을 씁니다.\n",
    "\n",
    "# 단어 개수(에서 특수문자 4개는 제외하고)만큼의 워드 벡터를 파일에 기록합니다. \n",
    "vectors = Embed_model.get_weights()[0]\n",
    "for i in range(4,vocab_size):\n",
    "    f.write('{} {}\\n'.format(index_to_word[i], ' '.join(map(str, list(vectors[i, :])))))\n",
    "f.close()"
   ]
  },
  {
   "cell_type": "markdown",
   "metadata": {},
   "source": [
    "## 임베딩 파라미터 확인"
   ]
  },
  {
   "cell_type": "code",
   "execution_count": 35,
   "metadata": {
    "ExecuteTime": {
     "end_time": "2020-09-01T07:57:20.071080Z",
     "start_time": "2020-09-01T07:57:18.227034Z"
    }
   },
   "outputs": [
    {
     "data": {
      "text/plain": [
       "[('good', 0.8170008659362793),\n",
       " ('♡', 0.7520781755447388),\n",
       " ('very', 0.7394055724143982),\n",
       " ('great', 0.7380719780921936),\n",
       " ('Good', 0.7122794389724731),\n",
       " ('It', 0.6815780997276306),\n",
       " ('top', 0.6553778648376465),\n",
       " ('am', 0.6300632953643799),\n",
       " ('life', 0.5878876447677612),\n",
       " ('we', 0.5861154794692993)]"
      ]
     },
     "execution_count": 35,
     "metadata": {},
     "output_type": "execute_result"
    }
   ],
   "source": [
    "word_vectors = Word2VecKeyedVectors.load_word2vec_format(Embed_word2vec_file_path, binary=False)\n",
    "word_vectors.similar_by_word(\"love\")"
   ]
  },
  {
   "cell_type": "code",
   "execution_count": 11,
   "metadata": {
    "ExecuteTime": {
     "end_time": "2020-09-01T08:36:31.879489Z",
     "start_time": "2020-09-01T08:36:31.877654Z"
    }
   },
   "outputs": [],
   "source": [
    "import os"
   ]
  },
  {
   "cell_type": "markdown",
   "metadata": {},
   "source": [
    "# 한국어 Word2Vec 임베딩 활용하여 성능개선"
   ]
  },
  {
   "cell_type": "markdown",
   "metadata": {},
   "source": [
    "## 한국어 Word2Vec 모델을 가져와 적용"
   ]
  },
  {
   "cell_type": "code",
   "execution_count": 12,
   "metadata": {
    "ExecuteTime": {
     "end_time": "2020-09-01T08:36:33.026005Z",
     "start_time": "2020-09-01T08:36:32.690073Z"
    }
   },
   "outputs": [
    {
     "name": "stderr",
     "output_type": "stream",
     "text": [
      "/home/aiffel0042/anaconda3/envs/aiffel/lib/python3.7/site-packages/ipykernel_launcher.py:5: DeprecationWarning: Call to deprecated `__getitem__` (Method will be removed in 4.0.0, use self.wv.__getitem__() instead).\n",
      "  \"\"\"\n"
     ]
    },
    {
     "data": {
      "text/plain": [
       "array([-1.319586  , -1.6629723 ,  0.1505883 ,  0.5035253 , -2.6690226 ,\n",
       "       -1.0570946 ,  0.67788476,  2.796687  ,  1.4200262 , -0.39614034,\n",
       "        1.9018966 ,  2.9973626 , -0.01318461,  0.35922977,  1.4223385 ,\n",
       "        0.40999603, -0.42552626,  0.31498262,  0.87282205, -1.3778601 ,\n",
       "       -0.1918586 ,  0.9000629 , -1.8640414 ,  0.8167136 , -1.7011755 ,\n",
       "       -0.98501635,  0.66861403, -0.9031406 ,  0.3020793 ,  2.0629468 ,\n",
       "       -0.31631446, -0.7964669 ,  0.11580559, -0.9859846 ,  0.7692624 ,\n",
       "       -0.19869252,  0.56788325,  2.29683   ,  1.1519096 ,  1.5394832 ,\n",
       "       -1.0729129 ,  0.1502994 ,  1.2680385 , -2.249592  , -0.8000674 ,\n",
       "       -0.20292565, -0.40892753, -0.5215352 , -0.507804  , -1.3664671 ,\n",
       "        0.42219886, -0.31854075,  0.2340286 , -0.77383935, -1.5936835 ,\n",
       "        0.01904743,  1.177212  ,  1.6091572 , -0.5099399 ,  1.9581834 ,\n",
       "       -0.34881008,  0.37763453, -0.01511123, -0.58241713,  0.40495008,\n",
       "        0.8804171 ,  0.1846361 ,  1.0777823 , -0.7750021 , -1.0071819 ,\n",
       "        1.0358934 ,  0.39481607, -2.332866  , -0.93091285,  1.118224  ,\n",
       "       -0.7844368 ,  0.8555328 ,  0.5143765 ,  0.920763  , -0.39341557,\n",
       "       -0.16348092, -1.3929285 ,  0.15316974, -1.348279  , -1.1284426 ,\n",
       "       -1.8810023 ,  0.14855379, -0.6104502 , -1.2425994 ,  1.2390256 ,\n",
       "       -1.1444252 , -1.400823  , -1.3473312 ,  1.2239008 , -1.0127048 ,\n",
       "        1.1208295 ,  0.29893637,  0.7203714 ,  0.6036004 ,  0.42004064,\n",
       "        0.34347087, -0.7356937 , -0.3151368 ,  1.0694431 , -0.9154028 ,\n",
       "        1.7764895 ,  1.8720185 , -0.8843339 ,  1.3389271 , -0.80010563,\n",
       "       -0.94757986,  1.7570064 ,  1.2688855 ,  0.8684031 ,  1.4398359 ,\n",
       "       -0.17921753, -1.1272905 , -1.1046246 , -1.2999364 ,  0.07265015,\n",
       "        0.12994944, -0.11574648,  0.5862671 , -0.69233114, -0.12440029,\n",
       "        0.25522864,  0.29826164,  0.16584915,  1.6654814 , -0.8506304 ,\n",
       "        0.57840025,  0.6405582 ,  0.7529146 ,  1.7172095 ,  2.0997689 ,\n",
       "       -0.25057933,  0.2007252 , -2.4406729 , -1.0545708 , -1.2289436 ,\n",
       "       -0.22581457,  0.47242698,  1.3570354 ,  0.2401035 , -0.66484225,\n",
       "       -1.3534913 , -0.9827498 ,  1.3056269 , -0.14077377, -1.65661   ,\n",
       "       -0.5009824 ,  1.2256474 , -0.25854915,  0.78430426,  1.815638  ,\n",
       "       -0.558131  , -0.16077444,  1.3344697 ,  1.1771872 , -1.7810681 ,\n",
       "       -0.16537452,  0.19939929, -1.0561806 , -1.4022348 ,  0.35612556,\n",
       "       -1.0305912 , -0.1956434 , -0.9686804 ,  0.75609595, -0.1935044 ,\n",
       "       -0.22683689, -3.502733  ,  0.8300569 , -0.07755399, -0.11534574,\n",
       "       -1.2377417 ,  0.6012245 , -0.6889415 ,  0.37302938,  1.5514311 ,\n",
       "       -0.9978473 ,  0.197273  , -0.13099611, -1.0549966 , -1.7730215 ,\n",
       "        1.2698088 , -0.37557662, -0.02147526, -0.11407109,  0.2750356 ,\n",
       "       -0.36513284,  0.77137434,  1.5496976 , -1.2772565 , -0.08079113,\n",
       "        0.7655263 , -1.1677268 , -2.208896  ,  0.9165536 , -0.96396863],\n",
       "      dtype=float32)"
      ]
     },
     "execution_count": 12,
     "metadata": {},
     "output_type": "execute_result"
    }
   ],
   "source": [
    "import gensim\n",
    "from gensim.models import KeyedVectors\n",
    "word2vec_path = os.getenv('HOME')+'/aiffel/sentiment_classification/ko.bin'\n",
    "word2vec = gensim.models.Word2Vec.load(word2vec_path)\n",
    "vector = word2vec['집']\n",
    "vector     "
   ]
  },
  {
   "cell_type": "code",
   "execution_count": 13,
   "metadata": {
    "ExecuteTime": {
     "end_time": "2020-09-01T08:36:34.283686Z",
     "start_time": "2020-09-01T08:36:34.262344Z"
    }
   },
   "outputs": [
    {
     "name": "stderr",
     "output_type": "stream",
     "text": [
      "/home/aiffel0042/anaconda3/envs/aiffel/lib/python3.7/site-packages/ipykernel_launcher.py:1: DeprecationWarning: Call to deprecated `similar_by_word` (Method will be removed in 4.0.0, use self.wv.similar_by_word() instead).\n",
      "  \"\"\"Entry point for launching an IPython kernel.\n"
     ]
    },
    {
     "data": {
      "text/plain": [
       "[('사랑', 0.6759077310562134),\n",
       " ('기쁨', 0.6493781805038452),\n",
       " ('즐거움', 0.6396492719650269),\n",
       " ('삶', 0.629989743232727),\n",
       " ('젊음', 0.6187378764152527),\n",
       " ('즐겁', 0.6027448177337646),\n",
       " ('인생', 0.6002243161201477),\n",
       " ('존엄', 0.5952589511871338),\n",
       " ('고독', 0.5938762426376343),\n",
       " ('불행', 0.5894461870193481)]"
      ]
     },
     "execution_count": 13,
     "metadata": {},
     "output_type": "execute_result"
    }
   ],
   "source": [
    "word2vec.similar_by_word(\"행복\")"
   ]
  },
  {
   "cell_type": "code",
   "execution_count": 51,
   "metadata": {
    "ExecuteTime": {
     "end_time": "2020-09-01T09:14:46.576844Z",
     "start_time": "2020-09-01T09:14:46.521383Z"
    },
    "scrolled": true
   },
   "outputs": [
    {
     "name": "stderr",
     "output_type": "stream",
     "text": [
      "/home/aiffel0042/anaconda3/envs/aiffel/lib/python3.7/site-packages/ipykernel_launcher.py:8: DeprecationWarning: Call to deprecated `__contains__` (Method will be removed in 4.0.0, use self.wv.__contains__() instead).\n",
      "  \n",
      "/home/aiffel0042/anaconda3/envs/aiffel/lib/python3.7/site-packages/ipykernel_launcher.py:9: DeprecationWarning: Call to deprecated `__getitem__` (Method will be removed in 4.0.0, use self.wv.__getitem__() instead).\n",
      "  if __name__ == '__main__':\n"
     ]
    }
   ],
   "source": [
    "vocab_size = 10000    # 어휘 사전의 크기입니다(10,000개의 단어)\n",
    "word_vector_dim = 200  # 워드 벡터의 차원수 (변경가능한 하이퍼파라미터)\n",
    "\n",
    "embedding_matrix = np.random.rand(vocab_size, word_vector_dim)\n",
    "\n",
    "# embedding_matrix에 Word2Vec 워드벡터를 단어 하나씩마다 차례차례 카피한다.\n",
    "for i in range(4,vocab_size):\n",
    "    if index_to_word[i] in word2vec:\n",
    "        embedding_matrix[i] = word2vec[index_to_word[i]]"
   ]
  },
  {
   "cell_type": "markdown",
   "metadata": {},
   "source": [
    "## 모델구성"
   ]
  },
  {
   "cell_type": "code",
   "execution_count": 118,
   "metadata": {
    "ExecuteTime": {
     "end_time": "2020-09-01T14:05:05.100300Z",
     "start_time": "2020-09-01T14:05:04.718827Z"
    },
    "scrolled": true
   },
   "outputs": [
    {
     "name": "stdout",
     "output_type": "stream",
     "text": [
      "WARNING:tensorflow:Layer lstm_18 will not use cuDNN kernel since it doesn't meet the cuDNN kernel criteria. It will use generic GPU kernel as fallback when running on GPU\n",
      "WARNING:tensorflow:Layer lstm_19 will not use cuDNN kernel since it doesn't meet the cuDNN kernel criteria. It will use generic GPU kernel as fallback when running on GPU\n",
      "Model: \"sequential_24\"\n",
      "_________________________________________________________________\n",
      "Layer (type)                 Output Shape              Param #   \n",
      "=================================================================\n",
      "embedding_22 (Embedding)     (None, 41, 200)           2000000   \n",
      "_________________________________________________________________\n",
      "spatial_dropout1d_9 (Spatial (None, 41, 200)           0         \n",
      "_________________________________________________________________\n",
      "lstm_18 (LSTM)               (None, 41, 196)           311248    \n",
      "_________________________________________________________________\n",
      "lstm_19 (LSTM)               (None, 41, 196)           308112    \n",
      "_________________________________________________________________\n",
      "max_pooling1d_13 (MaxPooling (None, 20, 196)           0         \n",
      "_________________________________________________________________\n",
      "global_max_pooling1d_13 (Glo (None, 196)               0         \n",
      "_________________________________________________________________\n",
      "dense_36 (Dense)             (None, 784)               154448    \n",
      "_________________________________________________________________\n",
      "dense_37 (Dense)             (None, 784)               615440    \n",
      "_________________________________________________________________\n",
      "dense_38 (Dense)             (None, 1)                 785       \n",
      "=================================================================\n",
      "Total params: 3,390,033\n",
      "Trainable params: 3,390,033\n",
      "Non-trainable params: 0\n",
      "_________________________________________________________________\n"
     ]
    }
   ],
   "source": [
    "from tensorflow.keras.initializers import Constant\n",
    "\n",
    "vocab_size = 10000    # 어휘 사전의 크기입니다(10,000개의 단어)\n",
    "word_vector_dim = 200  # 워드 벡터의 차원수 (변경가능한 하이퍼파라미터)\n",
    "LSTM_UNITS = 196\n",
    "DENSE_HIDDEN_UNITS = 4 * LSTM_UNITS\n",
    "\n",
    "# 모델 구성\n",
    "kor_model = keras.Sequential()\n",
    "kor_model.add(keras.layers.Embedding(vocab_size, \n",
    "                                 word_vector_dim, \n",
    "                                 embeddings_initializer=Constant(embedding_matrix),  # 카피한 임베딩을 여기서 활용\n",
    "                                 input_length=maxlen, \n",
    "                                 trainable=True))   # trainable을 True로 주면 Fine-tuning\n",
    "kor_model.add(keras.layers.SpatialDropout1D(0.4))\n",
    "# kor_model.add(keras.layers.Conv1D(16, 7, activation='relu'))\n",
    "# kor_model.add(keras.layers.MaxPooling1D(5))\n",
    "# kor_model.add(keras.layers.Dropout(0.2))\n",
    "# kor_model.add(keras.layers.Conv1D(16, 7, activation='relu'))\n",
    "# kor_model.add(keras.layers.GlobalMaxPooling1D())\n",
    "# kor_model.add(keras.layers.Dropout(0.2))\n",
    "kor_model.add(keras.layers.LSTM(LSTM_UNITS, return_sequences=True, dropout=0.2, recurrent_dropout=0.2))  \n",
    "kor_model.add(keras.layers.LSTM(LSTM_UNITS, return_sequences=True, dropout=0.2, recurrent_dropout=0.2))  \n",
    "kor_model.add(keras.layers.MaxPooling1D())\n",
    "kor_model.add(keras.layers.GlobalMaxPooling1D())\n",
    "kor_model.add(keras.layers.Dense(DENSE_HIDDEN_UNITS, activation='relu'))\n",
    "kor_model.add(keras.layers.Dense(DENSE_HIDDEN_UNITS, activation='relu'))\n",
    "\n",
    "kor_model.add(keras.layers.Dense(1, activation='sigmoid')) \n",
    "\n",
    "kor_model.summary()"
   ]
  },
  {
   "cell_type": "markdown",
   "metadata": {},
   "source": [
    "## 모델 훈련 개시"
   ]
  },
  {
   "cell_type": "code",
   "execution_count": 119,
   "metadata": {
    "ExecuteTime": {
     "end_time": "2020-09-01T14:15:14.032312Z",
     "start_time": "2020-09-01T14:05:59.712795Z"
    },
    "scrolled": false
   },
   "outputs": [
    {
     "name": "stdout",
     "output_type": "stream",
     "text": [
      "Epoch 1/10\n",
      "337/337 [==============================] - 55s 164ms/step - loss: 0.5443 - accuracy: 0.7100 - val_loss: 0.4327 - val_accuracy: 0.8011\n",
      "Epoch 2/10\n",
      "337/337 [==============================] - 55s 163ms/step - loss: 0.4208 - accuracy: 0.8028 - val_loss: 0.3590 - val_accuracy: 0.8411\n",
      "Epoch 3/10\n",
      "337/337 [==============================] - 55s 163ms/step - loss: 0.3716 - accuracy: 0.8312 - val_loss: 0.3417 - val_accuracy: 0.8495\n",
      "Epoch 4/10\n",
      "337/337 [==============================] - 55s 163ms/step - loss: 0.3436 - accuracy: 0.8468 - val_loss: 0.3357 - val_accuracy: 0.8539\n",
      "Epoch 5/10\n",
      "337/337 [==============================] - 55s 163ms/step - loss: 0.3236 - accuracy: 0.8573 - val_loss: 0.3254 - val_accuracy: 0.8580\n",
      "Epoch 6/10\n",
      "337/337 [==============================] - 55s 163ms/step - loss: 0.3106 - accuracy: 0.8640 - val_loss: 0.3350 - val_accuracy: 0.8515\n",
      "Epoch 7/10\n",
      "337/337 [==============================] - 55s 164ms/step - loss: 0.2977 - accuracy: 0.8708 - val_loss: 0.3347 - val_accuracy: 0.8620\n",
      "Epoch 8/10\n",
      "337/337 [==============================] - 55s 163ms/step - loss: 0.2873 - accuracy: 0.8750 - val_loss: 0.3265 - val_accuracy: 0.8598\n",
      "Epoch 9/10\n",
      "337/337 [==============================] - 55s 163ms/step - loss: 0.2785 - accuracy: 0.8799 - val_loss: 0.3275 - val_accuracy: 0.8608\n",
      "Epoch 10/10\n",
      "337/337 [==============================] - 55s 163ms/step - loss: 0.2667 - accuracy: 0.8858 - val_loss: 0.3365 - val_accuracy: 0.8629\n"
     ]
    }
   ],
   "source": [
    "callbacks = keras.callbacks.EarlyStopping(monitor='val_loss', patience=10)\n",
    "\n",
    "kor_model.compile(optimizer='adam',\n",
    "              loss='binary_crossentropy',\n",
    "              metrics=['accuracy'])\n",
    "              \n",
    "epochs=10  # 몇 epoch를 훈련하면 좋을지 결과를 보면서 바꾸어 봅시다. \n",
    "\n",
    "kor_history = kor_model.fit(partial_X_train,\n",
    "                    partial_y_train,\n",
    "                    epochs=epochs,\n",
    "                    batch_size=256,\n",
    "                    callbacks=callbacks,\n",
    "                    validation_data=(X_val, y_val),\n",
    "                    verbose=1)"
   ]
  },
  {
   "cell_type": "code",
   "execution_count": 120,
   "metadata": {
    "ExecuteTime": {
     "end_time": "2020-09-01T14:17:47.713258Z",
     "start_time": "2020-09-01T14:17:25.229712Z"
    }
   },
   "outputs": [
    {
     "name": "stdout",
     "output_type": "stream",
     "text": [
      "1537/1537 - 22s - loss: 0.3430 - accuracy: 0.8594\n",
      "[0.34297406673431396, 0.8593893051147461]\n"
     ]
    }
   ],
   "source": [
    "results = kor_model.evaluate(X_test,  y_test, verbose=2)\n",
    "\n",
    "print(results)"
   ]
  },
  {
   "cell_type": "markdown",
   "metadata": {},
   "source": [
    "## Loss, Accuracy 그래프 시각화"
   ]
  },
  {
   "cell_type": "code",
   "execution_count": 97,
   "metadata": {
    "ExecuteTime": {
     "end_time": "2020-09-01T12:58:27.926092Z",
     "start_time": "2020-09-01T12:58:27.923344Z"
    }
   },
   "outputs": [
    {
     "name": "stdout",
     "output_type": "stream",
     "text": [
      "dict_keys(['loss', 'accuracy', 'val_loss', 'val_accuracy'])\n"
     ]
    }
   ],
   "source": [
    "kor_history_dict = kor_history.history\n",
    "print(kor_history_dict.keys())"
   ]
  },
  {
   "cell_type": "code",
   "execution_count": 98,
   "metadata": {
    "ExecuteTime": {
     "end_time": "2020-09-01T12:59:22.897697Z",
     "start_time": "2020-09-01T12:59:22.799289Z"
    }
   },
   "outputs": [
    {
     "data": {
      "image/png": "[encoded data removed]",
      "text/plain": [
       "<Figure size 432x288 with 1 Axes>"
      ]
     },
     "metadata": {
      "needs_background": "light"
     },
     "output_type": "display_data"
    }
   ],
   "source": [
    "acc = kor_history_dict['accuracy']\n",
    "val_acc = kor_history_dict['val_accuracy']\n",
    "loss = kor_history_dict['loss']\n",
    "val_loss = kor_history_dict['val_loss']\n",
    "\n",
    "epochs = range(1, len(acc) + 1)\n",
    "\n",
    "# \"bo\"는 \"파란색 점\"입니다\n",
    "plt.plot(epochs, loss, 'bo', label='Training loss')\n",
    "# b는 \"파란 실선\"입니다\n",
    "plt.plot(epochs, val_loss, 'b', label='Validation loss')\n",
    "plt.title('Training and validation loss')\n",
    "plt.xlabel('Epochs')\n",
    "plt.ylabel('Loss')\n",
    "plt.legend()\n",
    "\n",
    "plt.show()"
   ]
  },
  {
   "cell_type": "code",
   "execution_count": 99,
   "metadata": {
    "ExecuteTime": {
     "end_time": "2020-09-01T13:00:17.943580Z",
     "start_time": "2020-09-01T13:00:17.846363Z"
    }
   },
   "outputs": [
    {
     "data": {
      "image/png": "[encoded data removed]",
      "text/plain": [
       "<Figure size 432x288 with 1 Axes>"
      ]
     },
     "metadata": {
      "needs_background": "light"
     },
     "output_type": "display_data"
    }
   ],
   "source": [
    "plt.clf()   # 그림을 초기화합니다\n",
    "\n",
    "plt.plot(epochs, acc, 'bo', label='Training acc')\n",
    "plt.plot(epochs, val_acc, 'b', label='Validation acc')\n",
    "plt.title('Training and validation accuracy')\n",
    "plt.xlabel('Epochs')\n",
    "plt.ylabel('Accuracy')\n",
    "plt.legend()\n",
    "\n",
    "plt.show()"
   ]
  },
  {
   "cell_type": "markdown",
   "metadata": {},
   "source": [
    "# 마무리"
   ]
  },
  {
   "cell_type": "markdown",
   "metadata": {},
   "source": [
    "## 한국어 Word2Vec (Embedding만 사용) 경우"
   ]
  },
  {
   "cell_type": "markdown",
   "metadata": {},
   "source": [
    "- 1D CNN model의 Test accuracy: 0.8131  \n",
    "- Google Embedding model의 Test accuracy: 0.8112  \n",
    "<br>\n",
    "- Kor Embedding model의 Test accuracy: 0.8160\n",
    "\n",
    "네이버 영화리뷰의 경우 한국어이기 때문에 Kor Embedding를 쓸 경우 정확도가 많이 향상 될 줄 알았습니다.  \n",
    "하지만 모델을 잘 못 설계했는 지 앞의 2가지 모델과 거의 비슷한 정확도가 나왔습니다.  "
   ]
  },
  {
   "cell_type": "markdown",
   "metadata": {},
   "source": [
    "## Dropout 추가 한 경우"
   ]
  },
  {
   "cell_type": "markdown",
   "metadata": {},
   "source": [
    "Dropout 추가 한 경우 Test accuracy: 0.8131  \n",
    "<br>\n",
    "Kor Embedding 모델과 1D CNN을 합친 모델에 Dropout을 적용시키니까 성능은 비슷했습니다."
   ]
  },
  {
   "cell_type": "markdown",
   "metadata": {},
   "source": [
    "## LSTM 추가 한 경우"
   ]
  },
  {
   "cell_type": "markdown",
   "metadata": {},
   "source": [
    "LSTM 추가 한 경우 Test accuracy: 0.8311  \n",
    "<br>\n",
    "Kor Embedding 모델과 LSTM 모델을 적용시켜보니 성능이 더 좋아졌습니다."
   ]
  },
  {
   "cell_type": "markdown",
   "metadata": {},
   "source": [
    "## LSTM에 spatialDropout1D를 추가한 경우"
   ]
  },
  {
   "cell_type": "markdown",
   "metadata": {},
   "source": [
    "LSTM에 spatialDropout1D를 추가한 경우 Test accuracy: 0.8503   \n",
    "<br>\n",
    "DropOut을 추가한 경우에 확실히 과적합 오류가 적어져서 정확도가 올랐습니다. "
   ]
  },
  {
   "cell_type": "markdown",
   "metadata": {},
   "source": [
    "## LSTM을 2개 사용한 경우"
   ]
  },
  {
   "cell_type": "markdown",
   "metadata": {},
   "source": [
    "LSTM을 2개 사용한 경우 Test accuracy: 0.8540    \n",
    "<br>\n",
    "블로그를 찾아보니 LSTM을 2개를 적용한 경우도 있었습니다.  \n",
    "그래서 똑같이 적용시켜 보았지만, 효과는 미미했습니다.  "
   ]
  },
  {
   "cell_type": "markdown",
   "metadata": {},
   "source": [
    "## LSTM 안에 dropout과 recurrent_dropout를 추가한 경우"
   ]
  },
  {
   "cell_type": "markdown",
   "metadata": {},
   "source": [
    "LSTM 안에 dropout과 recurrent_dropout를 추가한 경우 Test accuracy: 0.8594  \n",
    "<br>\n",
    "LSTM의 파라미터에 직접 dropout과 recurrent_dropout를 추가했더니  \n",
    "성능이 더욱 오른 모습을 볼 수 있었습니다.  "
   ]
  }
 ],
 "metadata": {
  "kernelspec": {
   "display_name": "aiffel",
   "language": "python",
   "name": "aiffel"
  },
  "language_info": {
   "codemirror_mode": {
    "name": "ipython",
    "version": 3
   },
   "file_extension": ".py",
   "mimetype": "text/x-python",
   "name": "python",
   "nbconvert_exporter": "python",
   "pygments_lexer": "ipython3",
   "version": "3.7.6"
  },
  "toc": {
   "base_numbering": 1,
   "nav_menu": {},
   "number_sections": true,
   "sideBar": true,
   "skip_h1_title": false,
   "title_cell": "Table of Contents",
   "title_sidebar": "Contents",
   "toc_cell": false,
   "toc_position": {
    "height": "calc(100% - 180px)",
    "left": "10px",
    "top": "150px",
    "width": "384px"
   },
   "toc_section_display": true,
   "toc_window_display": false
  },
  "varInspector": {
   "cols": {
    "lenName": 16,
    "lenType": 16,
    "lenVar": 40
   },
   "kernels_config": {
    "python": {
     "delete_cmd_postfix": "",
     "delete_cmd_prefix": "del ",
     "library": "var_list.py",
     "varRefreshCmd": "print(var_dic_list())"
    },
    "r": {
     "delete_cmd_postfix": ") ",
     "delete_cmd_prefix": "rm(",
     "library": "var_list.r",
     "varRefreshCmd": "cat(var_dic_list()) "
    }
   },
   "types_to_exclude": [
    "module",
    "function",
    "builtin_function_or_method",
    "instance",
    "_Feature"
   ],
   "window_display": false
  }
 },
 "nbformat": 4,
 "nbformat_minor": 4
}
