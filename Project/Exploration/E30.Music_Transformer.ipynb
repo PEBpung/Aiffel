{
 "cells": [
  {
   "cell_type": "markdown",
   "metadata": {
    "id": "yfk_lb4QqakK"
   },
   "source": [
    "# 프로젝트 : 다양한 조건의 음악 생성하기"
   ]
  },
  {
   "cell_type": "markdown",
   "metadata": {},
   "source": [
    "Music Transformer 모델에 구현하고, 이를 이용해 실제로 음악을 생성하는 실습을 진행해볼 예정입니다.  \n",
    "그리고 다양한 조건으로 MIDI 파일을 생성해 볼 것입니다.  \n",
    "프로젝트는 다음과 같은 순서로 진행됩니다. "
   ]
  },
  {
   "cell_type": "markdown",
   "metadata": {
    "id": "w3KYF12JqakK"
   },
   "source": [
    "#### STEP 1 : MAESTRO 데이터셋을 전처리하여 훈련용 데이터셋 구성하기\n",
    "#### STEP 2 : Music Transformer 모델을 구현하여 학습 진행하기\n",
    "#### STEP 3 : 제공된 체크포인트 파일을 이용하여 다양한 midi 파일 생성하기"
   ]
  },
  {
   "cell_type": "code",
   "execution_count": 7,
   "metadata": {
    "executionInfo": {
     "elapsed": 663,
     "status": "ok",
     "timestamp": 1606702136747,
     "user": {
      "displayName": "박기민",
      "photoUrl": "https://lh3.googleusercontent.com/a-/AOh14GiDDxEgssGlksUIdJxxYDfFI220AJ7ehOcJhe8q2g=s64",
      "userId": "09786165050720479490"
     },
     "user_tz": -540
    },
    "id": "TXlHEzAbqakK"
   },
   "outputs": [],
   "source": [
    "import tensorflow as tf\n",
    "from tensorflow.keras import layers\n",
    "from tensorflow.keras.preprocessing.sequence import pad_sequences\n",
    "\n",
    "import pandas as pd\n",
    "import numpy as np\n",
    "\n",
    "import time\n",
    "import os\n",
    "os.environ[\"CUDA_VISIBLE_DEVICES\"]=\"0\"\n",
    "import concurrent.futures\n",
    "\n",
    "import mido"
   ]
  },
  {
   "cell_type": "code",
   "execution_count": 8,
   "metadata": {
    "colab": {
     "base_uri": "https://localhost:8080/"
    },
    "executionInfo": {
     "elapsed": 552,
     "status": "ok",
     "timestamp": 1606702137709,
     "user": {
      "displayName": "박기민",
      "photoUrl": "https://lh3.googleusercontent.com/a-/AOh14GiDDxEgssGlksUIdJxxYDfFI220AJ7ehOcJhe8q2g=s64",
      "userId": "09786165050720479490"
     },
     "user_tz": -540
    },
    "id": "TL--qu_15Kgf",
    "outputId": "1ab05547-bcf6-4a75-b61c-05fafc50cc43"
   },
   "outputs": [
    {
     "data": {
      "text/plain": [
       "[PhysicalDevice(name='/physical_device:GPU:0', device_type='GPU')]"
      ]
     },
     "execution_count": 8,
     "metadata": {},
     "output_type": "execute_result"
    }
   ],
   "source": [
    "tf.config.list_physical_devices('GPU')"
   ]
  },
  {
   "cell_type": "code",
   "execution_count": 11,
   "metadata": {
    "executionInfo": {
     "elapsed": 1083,
     "status": "ok",
     "timestamp": 1606702138991,
     "user": {
      "displayName": "박기민",
      "photoUrl": "https://lh3.googleusercontent.com/a-/AOh14GiDDxEgssGlksUIdJxxYDfFI220AJ7ehOcJhe8q2g=s64",
      "userId": "09786165050720479490"
     },
     "user_tz": -540
    },
    "id": "ll6wyq61qakL"
   },
   "outputs": [],
   "source": [
    "# 샘플로 1개의 MIDI 파일을 골라봅니다.\n",
    "midi_file = os.getenv('HOME')+'/aiffel/music_transformer/data/maestro-v2.0.0/2018/MIDI-Unprocessed_Chamber1_MID--AUDIO_07_R3_2018_wav--2.midi'\n",
    "\n",
    "midi = mido.MidiFile(midi_file)"
   ]
  },
  {
   "cell_type": "code",
   "execution_count": 12,
   "metadata": {
    "colab": {
     "base_uri": "https://localhost:8080/"
    },
    "executionInfo": {
     "elapsed": 1748,
     "status": "ok",
     "timestamp": 1606702141045,
     "user": {
      "displayName": "박기민",
      "photoUrl": "https://lh3.googleusercontent.com/a-/AOh14GiDDxEgssGlksUIdJxxYDfFI220AJ7ehOcJhe8q2g=s64",
      "userId": "09786165050720479490"
     },
     "user_tz": -540
    },
    "id": "OWXM2UidqakL",
    "outputId": "51b4f9d7-35fb-4083-edf4-a1f6704888f3"
   },
   "outputs": [
    {
     "name": "stdout",
     "output_type": "stream",
     "text": [
      "MSG [0]----------------\n",
      "0\n",
      "set_tempo\n",
      "MSG [1]----------------\n",
      "0\n",
      "time_signature\n",
      "MSG [2]----------------\n",
      "0\n",
      "program_change\n",
      "MSG [3]----------------\n",
      "0\n",
      "control_change\n",
      "MSG [4]----------------\n",
      "0\n",
      "control_change\n",
      "MSG [5]----------------\n",
      "0.5143229166666666\n",
      "control_change\n",
      "MSG [6]----------------\n",
      "0.6328125\n",
      "control_change\n",
      "MSG [7]----------------\n",
      "0.7903645833333333\n",
      "control_change\n",
      "MSG [8]----------------\n",
      "0.9999999999999999\n",
      "control_change\n",
      "MSG [9]----------------\n",
      "1.0325520833333333\n",
      "note_on\n",
      "[1.0325520833333333, 1, 74, 86]\n",
      "MSG [10]----------------\n",
      "1.0442708333333333\n",
      "note_on\n",
      "[1.0442708333333333, 1, 38, 77]\n",
      "MSG [11]----------------\n",
      "1.0794270833333333\n",
      "control_change\n",
      "MSG [12]----------------\n",
      "1.1184895833333333\n",
      "control_change\n",
      "MSG [13]----------------\n",
      "1.1588541666666665\n",
      "control_change\n",
      "MSG [14]----------------\n",
      "1.2174479166666665\n",
      "control_change\n",
      "MSG [15]----------------\n",
      "1.2265624999999998\n",
      "note_on\n",
      "[1.2265624999999998, 0, 74, 0]\n",
      "MSG [16]----------------\n",
      "1.2369791666666665\n",
      "control_change\n",
      "MSG [17]----------------\n",
      "1.2395833333333333\n",
      "note_on\n",
      "[1.2395833333333333, 1, 73, 69]\n",
      "MSG [18]----------------\n",
      "1.2408854166666665\n",
      "note_on\n",
      "[1.2408854166666665, 1, 37, 64]\n",
      "MSG [19]----------------\n",
      "1.2460937499999998\n",
      "note_on\n",
      "[1.2460937499999998, 0, 38, 0]\n",
      "MSG [20]----------------\n",
      "1.2565104166666665\n",
      "control_change\n",
      "MSG [21]----------------\n",
      "1.2695312499999998\n",
      "note_on\n",
      "[1.2695312499999998, 1, 34, 64]\n",
      "MSG [22]----------------\n",
      "1.2734374999999998\n",
      "note_on\n",
      "[1.2734374999999998, 1, 71, 71]\n",
      "MSG [23]----------------\n",
      "1.2760416666666665\n",
      "control_change\n",
      "MSG [24]----------------\n",
      "1.2968749999999998\n",
      "control_change\n",
      "MSG [25]----------------\n",
      "1.309895833333333\n",
      "note_on\n",
      "[1.309895833333333, 0, 34, 0]\n",
      "MSG [26]----------------\n",
      "1.3164062499999998\n",
      "control_change\n",
      "MSG [27]----------------\n",
      "1.3164062499999998\n",
      "note_on\n",
      "[1.3164062499999998, 0, 73, 0]\n",
      "MSG [28]----------------\n",
      "1.3242187499999998\n",
      "note_on\n",
      "[1.3242187499999998, 1, 35, 64]\n",
      "MSG [29]----------------\n",
      "1.3242187499999998\n",
      "note_on\n",
      "[1.3242187499999998, 0, 37, 0]\n",
      "MSG [30]----------------\n",
      "1.3359374999999998\n",
      "control_change\n",
      "MSG [31]----------------\n",
      "1.3437499999999998\n",
      "note_on\n",
      "[1.3437499999999998, 0, 71, 0]\n"
     ]
    }
   ],
   "source": [
    "ON = 1\n",
    "OFF = 0\n",
    "CC = 2\n",
    "\n",
    "current_time = 0\n",
    "eventlist = []\n",
    "cc = False\n",
    "for idx, msg in enumerate(midi):\n",
    "    print('MSG [{}]----------------'.format(idx))\n",
    "    current_time += msg.time\n",
    "    print(current_time)\n",
    "    print(msg.type)\n",
    "    if msg.type is 'note_on' and msg.velocity > 0:\n",
    "        event = [current_time, ON, msg.note, msg.velocity]\n",
    "        print(event)\n",
    "    elif msg.type is 'note_off' or (msg.type is 'note_on' and msg.velocity == 0):\n",
    "        event = [current_time, OFF, msg.note, msg.velocity]\n",
    "        print(event)\n",
    "        \n",
    "    if msg.type is 'control_change':\n",
    "        if msg.control != 64:\n",
    "            continue\n",
    "        if cc == False and msg.value > 0:\n",
    "            cc = True\n",
    "            event = [current_time, CC, 0, 1]\n",
    "            print(event)\n",
    "        elif cc == True and msg.value == 0:\n",
    "            cc = False\n",
    "            event = [current_time, CC, 0, 0]\n",
    "            print(event)\n",
    "\n",
    "    if idx > 30:\n",
    "        break"
   ]
  },
  {
   "cell_type": "markdown",
   "metadata": {
    "id": "wxb7tHQWqakL"
   },
   "source": [
    "출력 결과를 보면 앞부분의 30개 정도의 이벤트 구조가 어떻게 되어있는지 파악할 수 있습니다.  \n",
    "MIDI 앞부분의 이벤트 메시지 타입은 **control_change** 등의 세팅 부분입니다.  \n",
    "실제 악보 부분은 **note_on** 메세지를 통해 구현됩니다.  \n",
    "코드에서 이벤트 구조는 [음 지속시간, ON/OFF, 음고(pitch), 속도(velocity)]입니다.  "
   ]
  },
  {
   "cell_type": "code",
   "execution_count": 13,
   "metadata": {
    "executionInfo": {
     "elapsed": 923,
     "status": "ok",
     "timestamp": 1606702141045,
     "user": {
      "displayName": "박기민",
      "photoUrl": "https://lh3.googleusercontent.com/a-/AOh14GiDDxEgssGlksUIdJxxYDfFI220AJ7ehOcJhe8q2g=s64",
      "userId": "09786165050720479490"
     },
     "user_tz": -540
    },
    "id": "kNsgKxkYqakL"
   },
   "outputs": [],
   "source": [
    "IntervalDim = 100\n",
    "\n",
    "VelocityDim = 32\n",
    "VelocityOffset = IntervalDim\n",
    "\n",
    "NoteOnDim = NoteOffDim = 128\n",
    "NoteOnOffset = IntervalDim + VelocityDim\n",
    "NoteOffOffset = IntervalDim + VelocityDim + NoteOnDim\n",
    "\n",
    "CCDim = 2\n",
    "CCOffset = IntervalDim + VelocityDim + NoteOnDim + NoteOffDim\n",
    "\n",
    "EventDim = IntervalDim + VelocityDim + NoteOnDim + NoteOffDim + CCDim # 390\n",
    "\n",
    "# 전처리 로직 함수\n",
    "def get_data(data, length):    \n",
    "    # time augmentation\n",
    "    data[:, 0] *= np.random.uniform(0.80, 1.20)\n",
    "    \n",
    "    # absolute time to relative interval\n",
    "    data[1:, 0] = data[1:, 0] - data[:-1, 0]\n",
    "    data[0, 0] = 0\n",
    "    \n",
    "    # discretize interval into IntervalDim\n",
    "    data[:, 0] = np.clip(np.round(data[:, 0] * IntervalDim), 0, IntervalDim - 1)\n",
    "    \n",
    "    # Note augmentation\n",
    "    data[:, 2] += np.random.randint(-6, 6)\n",
    "    data[:, 2] = np.clip(data[:, 2], 0, NoteOnDim - 1)\n",
    "    \n",
    "    eventlist = []\n",
    "    for d in data:\n",
    "        # append interval\n",
    "        interval = d[0]\n",
    "        eventlist.append(interval)\n",
    "    \n",
    "        # note on case\n",
    "        if d[1] == 1:\n",
    "            velocity = (d[3] / 128) * VelocityDim + VelocityOffset\n",
    "            note = d[2] + NoteOnOffset\n",
    "            eventlist.append(velocity)\n",
    "            eventlist.append(note)\n",
    "            \n",
    "        # note off case\n",
    "        elif d[1] == 0:\n",
    "            note = d[2] + NoteOffOffset\n",
    "            eventlist.append(note)\n",
    "        # CC\n",
    "        elif d[1] == 2:\n",
    "            event = CCOffset + d[3]\n",
    "            eventlist.append(event)\n",
    "            \n",
    "    eventlist = np.array(eventlist).astype(np.int)\n",
    "    \n",
    "    if len(eventlist) > (length+1):\n",
    "        start_index = np.random.randint(0, len(eventlist) - (length+1))\n",
    "        eventlist = eventlist[start_index:start_index+(length+1)]\n",
    "        \n",
    "    # pad zeros\n",
    "    if len(eventlist) < (length+1):\n",
    "        pad = (length+1) - len(eventlist)\n",
    "        eventlist = np.pad(eventlist, (pad, 0), 'constant')\n",
    "        \n",
    "    x = eventlist[:length]\n",
    "    y = eventlist[1:length+1]\n",
    "    \n",
    "    return x, y"
   ]
  },
  {
   "cell_type": "markdown",
   "metadata": {},
   "source": [
    "위 함수는 전처리를 하는 역할을 합니다.  \n",
    "단순히 MIDI 파일만 가공하는 것이 아니라 augmentation까지 함께 진행합니다. "
   ]
  },
  {
   "cell_type": "markdown",
   "metadata": {
    "id": "SxR_vEYnqakL"
   },
   "source": [
    "### 데이터셋 구성"
   ]
  },
  {
   "cell_type": "code",
   "execution_count": 14,
   "metadata": {
    "colab": {
     "base_uri": "https://localhost:8080/"
    },
    "executionInfo": {
     "elapsed": 10391,
     "status": "ok",
     "timestamp": 1606702150899,
     "user": {
      "displayName": "박기민",
      "photoUrl": "https://lh3.googleusercontent.com/a-/AOh14GiDDxEgssGlksUIdJxxYDfFI220AJ7ehOcJhe8q2g=s64",
      "userId": "09786165050720479490"
     },
     "user_tz": -540
    },
    "id": "1VO3w7b-qakL",
    "outputId": "9bb34e86-bc8c-479d-e6b9-0296432f96d3"
   },
   "outputs": [
    {
     "data": {
      "text/plain": [
       "(1282,)"
      ]
     },
     "execution_count": 14,
     "metadata": {},
     "output_type": "execute_result"
    }
   ],
   "source": [
    "data_path = os.getenv('HOME')+'/aiffel/music_transformer/data/midi_test.npy'\n",
    "\n",
    "get_midi = np.load(data_path, allow_pickle=True)\n",
    "get_midi.shape"
   ]
  },
  {
   "cell_type": "code",
   "execution_count": 15,
   "metadata": {
    "executionInfo": {
     "elapsed": 53333,
     "status": "ok",
     "timestamp": 1606702193998,
     "user": {
      "displayName": "박기민",
      "photoUrl": "https://lh3.googleusercontent.com/a-/AOh14GiDDxEgssGlksUIdJxxYDfFI220AJ7ehOcJhe8q2g=s64",
      "userId": "09786165050720479490"
     },
     "user_tz": -540
    },
    "id": "ALLO2OQrqakM"
   },
   "outputs": [],
   "source": [
    "length = 256\n",
    "train = []\n",
    "labels = []\n",
    "\n",
    "for midi_list in get_midi:\n",
    "    cut_list = [midi_list[i:i+length] for i in range(0, len(midi_list), length)]\n",
    "    for sublist in cut_list:\n",
    "        x, y = get_data(np.array(sublist), length)\n",
    "        train.append(x)\n",
    "        labels.append(y)"
   ]
  },
  {
   "cell_type": "code",
   "execution_count": 16,
   "metadata": {
    "colab": {
     "base_uri": "https://localhost:8080/"
    },
    "executionInfo": {
     "elapsed": 53154,
     "status": "ok",
     "timestamp": 1606702194000,
     "user": {
      "displayName": "박기민",
      "photoUrl": "https://lh3.googleusercontent.com/a-/AOh14GiDDxEgssGlksUIdJxxYDfFI220AJ7ehOcJhe8q2g=s64",
      "userId": "09786165050720479490"
     },
     "user_tz": -540
    },
    "id": "k5oI-lMqqakM",
    "outputId": "163395eb-f91c-43b3-b508-3600a7d105cc"
   },
   "outputs": [
    {
     "name": "stdout",
     "output_type": "stream",
     "text": [
      "(59268, 256) (59268, 256)\n"
     ]
    }
   ],
   "source": [
    "train = np.array(train)\n",
    "labels = np.array(labels)\n",
    "\n",
    "print(train.shape, labels.shape)   # 학습을 위해 MIDI list를 256 길이로 나누었다."
   ]
  },
  {
   "cell_type": "markdown",
   "metadata": {},
   "source": [
    "총 256의 길이를 가지는 59,268개의 시퀀스가 생성되었습니다.  \n",
    "데이터셋은 마치 자연어처리에서의 language model 훈련용 데이터셋같은 구성을 가집니다."
   ]
  },
  {
   "cell_type": "code",
   "execution_count": 17,
   "metadata": {
    "executionInfo": {
     "elapsed": 53647,
     "status": "ok",
     "timestamp": 1606702194643,
     "user": {
      "displayName": "박기민",
      "photoUrl": "https://lh3.googleusercontent.com/a-/AOh14GiDDxEgssGlksUIdJxxYDfFI220AJ7ehOcJhe8q2g=s64",
      "userId": "09786165050720479490"
     },
     "user_tz": -540
    },
    "id": "T-jBUWI_qakM"
   },
   "outputs": [],
   "source": [
    "train_data_pad = pad_sequences(train,\n",
    "                               maxlen=length,\n",
    "                               padding='post',\n",
    "                               value=0)\n",
    "train_label_pad = pad_sequences(labels,\n",
    "                                maxlen=length,\n",
    "                                padding='post',\n",
    "                                value=0)"
   ]
  },
  {
   "cell_type": "code",
   "execution_count": 18,
   "metadata": {
    "executionInfo": {
     "elapsed": 53492,
     "status": "ok",
     "timestamp": 1606702194646,
     "user": {
      "displayName": "박기민",
      "photoUrl": "https://lh3.googleusercontent.com/a-/AOh14GiDDxEgssGlksUIdJxxYDfFI220AJ7ehOcJhe8q2g=s64",
      "userId": "09786165050720479490"
     },
     "user_tz": -540
    },
    "id": "ckw4jWSoqakM"
   },
   "outputs": [],
   "source": [
    "def tensor_casting(train, label):\n",
    "    train = tf.cast(train, tf.int64)\n",
    "    label = tf.cast(label, tf.int64)\n",
    "\n",
    "    return train, label"
   ]
  },
  {
   "cell_type": "code",
   "execution_count": 19,
   "metadata": {
    "executionInfo": {
     "elapsed": 57335,
     "status": "ok",
     "timestamp": 1606702198646,
     "user": {
      "displayName": "박기민",
      "photoUrl": "https://lh3.googleusercontent.com/a-/AOh14GiDDxEgssGlksUIdJxxYDfFI220AJ7ehOcJhe8q2g=s64",
      "userId": "09786165050720479490"
     },
     "user_tz": -540
    },
    "id": "ymgr6IwnqakM"
   },
   "outputs": [],
   "source": [
    "train_dataset = tf.data.Dataset.from_tensor_slices((train_data_pad, train_label_pad))\n",
    "train_dataset = train_dataset.map(tensor_casting)\n",
    "train_dataset = train_dataset.shuffle(10000).batch(batch_size=16)"
   ]
  },
  {
   "cell_type": "code",
   "execution_count": 20,
   "metadata": {
    "colab": {
     "base_uri": "https://localhost:8080/"
    },
    "executionInfo": {
     "elapsed": 57700,
     "status": "ok",
     "timestamp": 1606702199172,
     "user": {
      "displayName": "박기민",
      "photoUrl": "https://lh3.googleusercontent.com/a-/AOh14GiDDxEgssGlksUIdJxxYDfFI220AJ7ehOcJhe8q2g=s64",
      "userId": "09786165050720479490"
     },
     "user_tz": -540
    },
    "id": "cqJjir8NqakM",
    "outputId": "0bfa6de4-ace6-4ca4-954d-094ef7f3ccc2",
    "scrolled": true
   },
   "outputs": [
    {
     "name": "stdout",
     "output_type": "stream",
     "text": [
      "tf.Tensor(\n",
      "[[118 216   1 ...   4 332   2]\n",
      " [196   0 119 ...   1 118 188]\n",
      " [205   4 333 ... 191   4 319]\n",
      " ...\n",
      " [205   1 117 ...   6 121 210]\n",
      " [  1 316   1 ...   0 308  13]\n",
      " [114 211   2 ...   2 333   0]], shape=(16, 256), dtype=int64)\n",
      "tf.Tensor(\n",
      "[[216   1 117 ... 332   2 344]\n",
      " [  0 119 201 ... 118 188   0]\n",
      " [  4 333   5 ...   4 319   1]\n",
      " ...\n",
      " [  1 117 186 ... 121 210   0]\n",
      " [316   1 317 ... 308  13 120]\n",
      " [211   2 348 ... 333   0 327]], shape=(16, 256), dtype=int64)\n"
     ]
    }
   ],
   "source": [
    "for t,l in train_dataset.take(1):\n",
    "    print(t)\n",
    "    print(l)"
   ]
  },
  {
   "cell_type": "markdown",
   "metadata": {},
   "source": [
    "전처리가 성공적으로 처리된 모습을 볼 수 있습니다. "
   ]
  },
  {
   "cell_type": "markdown",
   "metadata": {
    "id": "5KKcb3ArqakM"
   },
   "source": [
    "### Music Transformer 모델 구현"
   ]
  },
  {
   "cell_type": "code",
   "execution_count": 21,
   "metadata": {
    "executionInfo": {
     "elapsed": 57365,
     "status": "ok",
     "timestamp": 1606702199173,
     "user": {
      "displayName": "박기민",
      "photoUrl": "https://lh3.googleusercontent.com/a-/AOh14GiDDxEgssGlksUIdJxxYDfFI220AJ7ehOcJhe8q2g=s64",
      "userId": "09786165050720479490"
     },
     "user_tz": -540
    },
    "id": "RakC1vA8qakM"
   },
   "outputs": [],
   "source": [
    "def create_padding_mask(seq):\n",
    "    seq = tf.cast(tf.math.equal(seq, 1), tf.float32)\n",
    "\n",
    "    # add extra dimensions to add the padding\n",
    "    # to the attention logits.\n",
    "    return seq[:, tf.newaxis, tf.newaxis, :]  # (batch_size, 1, 1, seq_len)\n",
    "\n",
    "\n",
    "def create_look_ahead_mask(size):\n",
    "    mask = tf.linalg.band_part(tf.ones((size, size)), -1, 0)\n",
    "    return mask  # (seq_len, seq_len)\n",
    "\n",
    "\n",
    "def point_wise_feed_forward_network(d_model, dff):\n",
    "    return tf.keras.Sequential([\n",
    "        tf.keras.layers.Dense(dff, activation='relu'),  # (batch_size, seq_len, dff)\n",
    "        tf.keras.layers.Dense(d_model)  # (batch_size, seq_len, d_model)\n",
    "    ])"
   ]
  },
  {
   "cell_type": "code",
   "execution_count": 22,
   "metadata": {
    "executionInfo": {
     "elapsed": 57185,
     "status": "ok",
     "timestamp": 1606702199173,
     "user": {
      "displayName": "박기민",
      "photoUrl": "https://lh3.googleusercontent.com/a-/AOh14GiDDxEgssGlksUIdJxxYDfFI220AJ7ehOcJhe8q2g=s64",
      "userId": "09786165050720479490"
     },
     "user_tz": -540
    },
    "id": "dt4icj1yqakM"
   },
   "outputs": [],
   "source": [
    "class RelativeGlobalAttention(tf.keras.layers.Layer):\n",
    "    def __init__(self, d_model, num_heads):\n",
    "        super(RelativeGlobalAttention, self).__init__()\n",
    "        self.num_heads = num_heads\n",
    "        self.d_model = d_model\n",
    "        self.headDim = d_model // num_heads\n",
    "        self.contextDim = int(self.headDim * self.num_heads)\n",
    "        self.eventDim = 390\n",
    "        self.E = self.add_weight('E', shape=[self.num_heads, length, self.headDim])\n",
    "\n",
    "        assert d_model % self.num_heads == 0\n",
    "\n",
    "        self.wq = tf.keras.layers.Dense(self.headDim)\n",
    "        self.wk = tf.keras.layers.Dense(self.headDim)\n",
    "        self.wv = tf.keras.layers.Dense(self.headDim)\n",
    "    \n",
    "    def call(self, v, k, q, mask):\n",
    "        # [Heads, Batch, Time, HeadDim]\n",
    "        q = tf.stack([self.wq(q) for _ in range(self.num_heads)])\n",
    "        k = tf.stack([self.wk(k) for _ in range(self.num_heads)])\n",
    "        v = tf.stack([self.wv(v) for _ in range(self.num_heads)])\n",
    "\n",
    "        self.batch_size = q.shape[1]\n",
    "        self.max_len = q.shape[2]\n",
    "        \n",
    "        #skewing\n",
    "        # E = Heads, Time, HeadDim\n",
    "        # [Heads, Batch * Time, HeadDim]\n",
    "        Q_ = tf.reshape(q, [self.num_heads, self.batch_size * self.max_len, self.headDim])\n",
    "        # [Heads, Batch * Time, Time]\n",
    "        S = tf.matmul(Q_, self.E, transpose_b=True)\n",
    "        # [Heads, Batch, Time, Time]\n",
    "        S = tf.reshape(S, [self.num_heads, self.batch_size, self.max_len, self.max_len])\n",
    "        # [Heads, Batch, Time, Time+1]\n",
    "        S = tf.pad(S, ((0, 0), (0, 0), (0, 0), (1, 0)))\n",
    "        # [Heads, Batch, Time+1, Time]\n",
    "        S = tf.reshape(S, [self.num_heads, self.batch_size, self.max_len + 1, self.max_len])   \n",
    "        # [Heads, Batch, Time, Time]\n",
    "        S = S[:, :, 1:]\n",
    "        # [Heads, Batch, Time, Time]\n",
    "        attention = (tf.matmul(q, k, transpose_b=True) + S) / np.sqrt(self.headDim)\n",
    "        # mask tf 2.0 == tf.linalg.band_part\n",
    "        get_mask = tf.linalg.band_part(tf.ones([self.max_len, self.max_len]), -1, 0)\n",
    "        attention = attention * get_mask - tf.cast(1e10, attention.dtype) * (1-get_mask)\n",
    "        score = tf.nn.softmax(attention, axis=3)\n",
    "\n",
    "        # [Heads, Batch, Time, HeadDim]\n",
    "        context = tf.matmul(score, v)\n",
    "        # [Batch, Time, Heads, HeadDim]\n",
    "        context = tf.transpose(context, [1, 2, 0, 3])\n",
    "        # [Batch, Time, ContextDim]\n",
    "        context = tf.reshape(context, [self.batch_size, self.max_len, self.d_model])\n",
    "        # [Batch, Time, ContextDim]\n",
    "        logits = tf.keras.layers.Dense(self.d_model)(context)\n",
    "\n",
    "        return logits, score"
   ]
  },
  {
   "cell_type": "markdown",
   "metadata": {},
   "source": [
    "위의 레이어가 Music Transformer의 가장 핵심적 RelativeGlobalAttention입니다.  \n",
    "Vanilla transformer에서의 self-attention을 대신하여 사용됩니다. "
   ]
  },
  {
   "cell_type": "code",
   "execution_count": 23,
   "metadata": {
    "executionInfo": {
     "elapsed": 57008,
     "status": "ok",
     "timestamp": 1606702199174,
     "user": {
      "displayName": "박기민",
      "photoUrl": "https://lh3.googleusercontent.com/a-/AOh14GiDDxEgssGlksUIdJxxYDfFI220AJ7ehOcJhe8q2g=s64",
      "userId": "09786165050720479490"
     },
     "user_tz": -540
    },
    "id": "2Q9XOEyKqakM"
   },
   "outputs": [],
   "source": [
    "class EncoderLayer(tf.keras.layers.Layer):\n",
    "    def __init__(self, d_model, num_heads, dff, rate=0.1):\n",
    "        super(EncoderLayer, self).__init__()\n",
    "\n",
    "        self.rga = RelativeGlobalAttention(d_model, num_heads)\n",
    "        self.ffn = point_wise_feed_forward_network(d_model, dff)\n",
    "\n",
    "        self.layernorm1 = tf.keras.layers.LayerNormalization(epsilon=1e-6)\n",
    "        self.layernorm2 = tf.keras.layers.LayerNormalization(epsilon=1e-6)\n",
    "\n",
    "        self.dropout1 = tf.keras.layers.Dropout(rate)\n",
    "        self.dropout2 = tf.keras.layers.Dropout(rate)\n",
    "\n",
    "    def call(self, x, training, mask):\n",
    "        attn_output, _ = self.rga(x, x, x, mask)  # (batch_size, input_seq_len, d_model)\n",
    "        attn_output = self.dropout1(attn_output, training=training)\n",
    "        out1 = self.layernorm1(x + attn_output)  # (batch_size, input_seq_len, d_model)\n",
    "\n",
    "        ffn_output = self.ffn(out1)  # (batch_size, input_seq_len, d_model)\n",
    "        ffn_output = self.dropout2(ffn_output, training=training)\n",
    "        out2 = self.layernorm2(out1 + ffn_output)  # (batch_size, input_seq_len, d_model)\n",
    "\n",
    "        return out2"
   ]
  },
  {
   "cell_type": "code",
   "execution_count": 24,
   "metadata": {
    "executionInfo": {
     "elapsed": 56827,
     "status": "ok",
     "timestamp": 1606702199174,
     "user": {
      "displayName": "박기민",
      "photoUrl": "https://lh3.googleusercontent.com/a-/AOh14GiDDxEgssGlksUIdJxxYDfFI220AJ7ehOcJhe8q2g=s64",
      "userId": "09786165050720479490"
     },
     "user_tz": -540
    },
    "id": "cPk6rPTUqakM"
   },
   "outputs": [],
   "source": [
    "class DecoderLayer(tf.keras.layers.Layer):\n",
    "    def __init__(self, d_model, num_heads, dff, rate=0.1):\n",
    "        super(DecoderLayer, self).__init__()\n",
    "\n",
    "        self.rga1 = RelativeGlobalAttention(d_model, num_heads)\n",
    "        self.rga2 = RelativeGlobalAttention(d_model, num_heads)\n",
    "\n",
    "        self.ffn = point_wise_feed_forward_network(d_model, dff)\n",
    "\n",
    "        self.layernorm1 = tf.keras.layers.LayerNormalization(epsilon=1e-6)\n",
    "        self.layernorm2 = tf.keras.layers.LayerNormalization(epsilon=1e-6)\n",
    "        self.layernorm3 = tf.keras.layers.LayerNormalization(epsilon=1e-6)\n",
    "\n",
    "        self.dropout1 = tf.keras.layers.Dropout(rate)\n",
    "        self.dropout2 = tf.keras.layers.Dropout(rate)\n",
    "        self.dropout3 = tf.keras.layers.Dropout(rate)\n",
    "\n",
    "    def call(self, x, enc_output, training, look_ahead_mask, padding_mask):\n",
    "        # enc_output.shape == (batch_size, input_seq_len, d_model)\n",
    "\n",
    "        attn1, attn_weights_block1 = self.rga1(x, x, x, look_ahead_mask)  # (batch_size, target_seq_len, d_model)\n",
    "        attn1 = self.dropout1(attn1, training=training)\n",
    "        out1 = self.layernorm1(attn1 + x)\n",
    "\n",
    "        attn2, attn_weights_block2 = self.rga2(\n",
    "            enc_output, enc_output, out1, padding_mask)  # (batch_size, target_seq_len, d_model)\n",
    "        attn2 = self.dropout2(attn2, training=training)\n",
    "        out2 = self.layernorm2(attn2 + out1)  # (batch_size, target_seq_len, d_model)\n",
    "\n",
    "        ffn_output = self.ffn(out2)  # (batch_size, target_seq_len, d_model)\n",
    "        ffn_output = self.dropout3(ffn_output, training=training)\n",
    "        out3 = self.layernorm3(ffn_output + out2)  # (batch_size, target_seq_len, d_model)\n",
    "\n",
    "        return out3, attn_weights_block1, attn_weights_block2"
   ]
  },
  {
   "cell_type": "code",
   "execution_count": 25,
   "metadata": {
    "executionInfo": {
     "elapsed": 56648,
     "status": "ok",
     "timestamp": 1606702199174,
     "user": {
      "displayName": "박기민",
      "photoUrl": "https://lh3.googleusercontent.com/a-/AOh14GiDDxEgssGlksUIdJxxYDfFI220AJ7ehOcJhe8q2g=s64",
      "userId": "09786165050720479490"
     },
     "user_tz": -540
    },
    "id": "IqxAskvmqakM"
   },
   "outputs": [],
   "source": [
    "class Encoder(tf.keras.layers.Layer):\n",
    "    def __init__(self, num_layers, d_model, num_heads, dff, rate=0.1):\n",
    "        super(Encoder, self).__init__()\n",
    "\n",
    "        self.num_layers = num_layers\n",
    "        self.enc_layers = [EncoderLayer(d_model, num_heads, dff, rate) \n",
    "                           for _ in range(num_layers)]\n",
    "\n",
    "        self.dropout = tf.keras.layers.Dropout(rate)\n",
    "\n",
    "    def call(self, x, training, mask):\n",
    "        seq_len = tf.shape(x)[1]\n",
    "        x = self.dropout(x, training=training)\n",
    "\n",
    "        for i in range(self.num_layers):\n",
    "            x = self.enc_layers[i](x, training, mask)\n",
    "\n",
    "        return x  # (batch_size, input_seq_len, d_model)"
   ]
  },
  {
   "cell_type": "code",
   "execution_count": 26,
   "metadata": {
    "executionInfo": {
     "elapsed": 56471,
     "status": "ok",
     "timestamp": 1606702199175,
     "user": {
      "displayName": "박기민",
      "photoUrl": "https://lh3.googleusercontent.com/a-/AOh14GiDDxEgssGlksUIdJxxYDfFI220AJ7ehOcJhe8q2g=s64",
      "userId": "09786165050720479490"
     },
     "user_tz": -540
    },
    "id": "yJS5JGzhqakM"
   },
   "outputs": [],
   "source": [
    "class Decoder(tf.keras.layers.Layer):\n",
    "    def __init__(self, num_layers, d_model, num_heads, dff, rate=0.1):\n",
    "        super(Decoder, self).__init__()\n",
    "        self.num_layers = num_layers\n",
    "        self.dec_layers = [DecoderLayer(d_model, num_heads, dff, rate) \n",
    "                           for _ in range(num_layers)]\n",
    "        self.dropout = tf.keras.layers.Dropout(rate)\n",
    "\n",
    "    def call(self, x, enc_output, training, look_ahead_mask, padding_mask):\n",
    "        attention_weights = {}\n",
    "        x = self.dropout(x, training=training)\n",
    "\n",
    "        for i in range(self.num_layers):\n",
    "            x, block1, block2 = self.dec_layers[i](x, enc_output, training,\n",
    "                                                   look_ahead_mask, padding_mask)\n",
    "\n",
    "            attention_weights['decoder_layer{}_block1'.format(i+1)] = block1\n",
    "            attention_weights['decoder_layer{}_block2'.format(i+1)] = block2\n",
    "\n",
    "        # x.shape == (batch_size, target_seq_len, d_model)\n",
    "        return x, attention_weights"
   ]
  },
  {
   "cell_type": "code",
   "execution_count": 27,
   "metadata": {
    "executionInfo": {
     "elapsed": 56294,
     "status": "ok",
     "timestamp": 1606702199175,
     "user": {
      "displayName": "박기민",
      "photoUrl": "https://lh3.googleusercontent.com/a-/AOh14GiDDxEgssGlksUIdJxxYDfFI220AJ7ehOcJhe8q2g=s64",
      "userId": "09786165050720479490"
     },
     "user_tz": -540
    },
    "id": "DDzmEOPOqakM"
   },
   "outputs": [],
   "source": [
    "class MusicTransformer(tf.keras.Model):\n",
    "    def __init__(self, num_layers, d_model, num_heads, dff, input_vocab_size, rate=0.1):\n",
    "        super(MusicTransformer, self).__init__()\n",
    "        self.d_model = d_model\n",
    "        self.embedding = tf.keras.layers.Embedding(input_vocab_size, d_model)\n",
    "\n",
    "        self.encoder = Encoder(num_layers, d_model, num_heads, dff, rate)\n",
    "        self.decoder = Decoder(num_layers, d_model, num_heads, dff, rate)\n",
    "\n",
    "        self.final_layer = tf.keras.layers.Dense(input_vocab_size)\n",
    "\n",
    "    def call(self, inp, training, enc_padding_mask, \n",
    "             look_ahead_mask, dec_padding_mask):\n",
    "        embed = self.embedding(inp)\n",
    "        embed *= tf.math.sqrt(tf.cast(self.d_model, tf.float32))\n",
    "\n",
    "        enc_output = self.encoder(embed, training, enc_padding_mask)  # (batch_size, inp_seq_len, d_model)\n",
    "\n",
    "        # dec_output.shape == (batch_size, tar_seq_len, d_model)\n",
    "        dec_output, attention_weights = self.decoder(\n",
    "            embed, enc_output, training, look_ahead_mask, dec_padding_mask)\n",
    "\n",
    "        final_output = self.final_layer(dec_output)  # (batch_size, tar_seq_len, target_vocab_size)\n",
    "\n",
    "        return final_output, attention_weights"
   ]
  },
  {
   "cell_type": "markdown",
   "metadata": {
    "id": "04pdTcSqqakM"
   },
   "source": [
    "### Music Transformer 모델 학습"
   ]
  },
  {
   "cell_type": "code",
   "execution_count": 28,
   "metadata": {
    "executionInfo": {
     "elapsed": 55942,
     "status": "ok",
     "timestamp": 1606702199175,
     "user": {
      "displayName": "박기민",
      "photoUrl": "https://lh3.googleusercontent.com/a-/AOh14GiDDxEgssGlksUIdJxxYDfFI220AJ7ehOcJhe8q2g=s64",
      "userId": "09786165050720479490"
     },
     "user_tz": -540
    },
    "id": "XEtNzweOqakM"
   },
   "outputs": [],
   "source": [
    "num_layers = 4\n",
    "d_model = 128\n",
    "dff = 512\n",
    "num_heads = 8\n",
    "\n",
    "input_vocab_size = 390   # MIDI가 낼 수 있는 소리의 종류\n",
    "dropout_rate = 0.1"
   ]
  },
  {
   "cell_type": "code",
   "execution_count": 29,
   "metadata": {
    "executionInfo": {
     "elapsed": 56090,
     "status": "ok",
     "timestamp": 1606702199468,
     "user": {
      "displayName": "박기민",
      "photoUrl": "https://lh3.googleusercontent.com/a-/AOh14GiDDxEgssGlksUIdJxxYDfFI220AJ7ehOcJhe8q2g=s64",
      "userId": "09786165050720479490"
     },
     "user_tz": -540
    },
    "id": "j9U5aK0eqakM"
   },
   "outputs": [],
   "source": [
    "# 모델 선언\n",
    "music_transformer = MusicTransformer(num_layers, d_model, num_heads, dff,\n",
    "                                     input_vocab_size, rate=dropout_rate)"
   ]
  },
  {
   "cell_type": "code",
   "execution_count": 30,
   "metadata": {
    "executionInfo": {
     "elapsed": 55913,
     "status": "ok",
     "timestamp": 1606702199468,
     "user": {
      "displayName": "박기민",
      "photoUrl": "https://lh3.googleusercontent.com/a-/AOh14GiDDxEgssGlksUIdJxxYDfFI220AJ7ehOcJhe8q2g=s64",
      "userId": "09786165050720479490"
     },
     "user_tz": -540
    },
    "id": "dpYt-b3lqakM"
   },
   "outputs": [],
   "source": [
    "class CustomSchedule(tf.keras.optimizers.schedules.LearningRateSchedule):\n",
    "    def __init__(self, d_model, warmup_steps=4000):\n",
    "        super(CustomSchedule, self).__init__()\n",
    "\n",
    "        self.d_model = d_model\n",
    "        self.d_model = tf.cast(self.d_model, tf.float32)\n",
    "\n",
    "        self.warmup_steps = warmup_steps\n",
    "\n",
    "    def __call__(self, step):\n",
    "        arg1 = tf.math.rsqrt(step)\n",
    "        arg2 = step * (self.warmup_steps ** -1.5)\n",
    "\n",
    "        return tf.math.rsqrt(self.d_model) * tf.math.minimum(arg1, arg2)"
   ]
  },
  {
   "cell_type": "code",
   "execution_count": 31,
   "metadata": {
    "executionInfo": {
     "elapsed": 55717,
     "status": "ok",
     "timestamp": 1606702199468,
     "user": {
      "displayName": "박기민",
      "photoUrl": "https://lh3.googleusercontent.com/a-/AOh14GiDDxEgssGlksUIdJxxYDfFI220AJ7ehOcJhe8q2g=s64",
      "userId": "09786165050720479490"
     },
     "user_tz": -540
    },
    "id": "AJykielwqakM"
   },
   "outputs": [],
   "source": [
    "learning_rate = CustomSchedule(d_model)\n",
    "\n",
    "optimizer = tf.keras.optimizers.Adam(learning_rate, beta_1=0.9, beta_2=0.98, \n",
    "                                     epsilon=1e-9)"
   ]
  },
  {
   "cell_type": "code",
   "execution_count": 32,
   "metadata": {
    "executionInfo": {
     "elapsed": 55539,
     "status": "ok",
     "timestamp": 1606702199469,
     "user": {
      "displayName": "박기민",
      "photoUrl": "https://lh3.googleusercontent.com/a-/AOh14GiDDxEgssGlksUIdJxxYDfFI220AJ7ehOcJhe8q2g=s64",
      "userId": "09786165050720479490"
     },
     "user_tz": -540
    },
    "id": "sVj7ml72qakM"
   },
   "outputs": [],
   "source": [
    "loss_object = tf.keras.losses.SparseCategoricalCrossentropy(\n",
    "    from_logits=True, reduction='none')"
   ]
  },
  {
   "cell_type": "markdown",
   "metadata": {},
   "source": [
    "390가지 음향 종류 중 어느 것이 올지를 맞추는 문제로 구성하였으므로 위와 같이 **SparseCategoricalCrossentropy**로 loss 함수를 정의합니다. "
   ]
  },
  {
   "cell_type": "code",
   "execution_count": 33,
   "metadata": {
    "executionInfo": {
     "elapsed": 55358,
     "status": "ok",
     "timestamp": 1606702199470,
     "user": {
      "displayName": "박기민",
      "photoUrl": "https://lh3.googleusercontent.com/a-/AOh14GiDDxEgssGlksUIdJxxYDfFI220AJ7ehOcJhe8q2g=s64",
      "userId": "09786165050720479490"
     },
     "user_tz": -540
    },
    "id": "ZoLbzPsLqakM"
   },
   "outputs": [],
   "source": [
    "def loss_function(real, pred):\n",
    "    mask = tf.math.logical_not(tf.math.equal(real, 0))\n",
    "    loss_ = loss_object(real, pred)\n",
    "\n",
    "    mask = tf.cast(mask, dtype=loss_.dtype)\n",
    "    loss_ *= mask\n",
    "\n",
    "    return tf.reduce_sum(loss_)/tf.reduce_sum(mask)"
   ]
  },
  {
   "cell_type": "code",
   "execution_count": 34,
   "metadata": {
    "executionInfo": {
     "elapsed": 55205,
     "status": "ok",
     "timestamp": 1606702199470,
     "user": {
      "displayName": "박기민",
      "photoUrl": "https://lh3.googleusercontent.com/a-/AOh14GiDDxEgssGlksUIdJxxYDfFI220AJ7ehOcJhe8q2g=s64",
      "userId": "09786165050720479490"
     },
     "user_tz": -540
    },
    "id": "Z5Rg46W1qakM"
   },
   "outputs": [],
   "source": [
    "train_loss = tf.keras.metrics.Mean(name='train_loss')"
   ]
  },
  {
   "cell_type": "code",
   "execution_count": 35,
   "metadata": {
    "executionInfo": {
     "elapsed": 55024,
     "status": "ok",
     "timestamp": 1606702199471,
     "user": {
      "displayName": "박기민",
      "photoUrl": "https://lh3.googleusercontent.com/a-/AOh14GiDDxEgssGlksUIdJxxYDfFI220AJ7ehOcJhe8q2g=s64",
      "userId": "09786165050720479490"
     },
     "user_tz": -540
    },
    "id": "cxKGUpwUqakM"
   },
   "outputs": [
    {
     "name": "stdout",
     "output_type": "stream",
     "text": [
      "Latest checkpoint restored!!\n"
     ]
    }
   ],
   "source": [
    "checkpoint_path = os.getenv('HOME')+'/aiffel/music_transformer/models/'\n",
    "\n",
    "ckpt = tf.train.Checkpoint(music_transformer=music_transformer,\n",
    "                           optimizer=optimizer)\n",
    "\n",
    "ckpt_manager = tf.train.CheckpointManager(ckpt, checkpoint_path, max_to_keep=5)\n",
    "\n",
    "# if a checkpoint exists, restore the latest checkpoint.\n",
    "if ckpt_manager.latest_checkpoint:\n",
    "    ckpt.restore(ckpt_manager.latest_checkpoint)\n",
    "    print ('Latest checkpoint restored!!')"
   ]
  },
  {
   "cell_type": "code",
   "execution_count": 36,
   "metadata": {
    "colab": {
     "base_uri": "https://localhost:8080/"
    },
    "executionInfo": {
     "elapsed": 54840,
     "status": "ok",
     "timestamp": 1606702199471,
     "user": {
      "displayName": "박기민",
      "photoUrl": "https://lh3.googleusercontent.com/a-/AOh14GiDDxEgssGlksUIdJxxYDfFI220AJ7ehOcJhe8q2g=s64",
      "userId": "09786165050720479490"
     },
     "user_tz": -540
    },
    "id": "d208BzEi2HrO",
    "outputId": "de7f0ec7-403b-4670-fb89-7d4ffcb3e171"
   },
   "outputs": [
    {
     "data": {
      "text/plain": [
       "[PhysicalDevice(name='/physical_device:GPU:0', device_type='GPU')]"
      ]
     },
     "execution_count": 36,
     "metadata": {},
     "output_type": "execute_result"
    }
   ],
   "source": [
    "import tensorflow as tf\n",
    "tf.config.list_physical_devices('GPU')"
   ]
  },
  {
   "cell_type": "code",
   "execution_count": 32,
   "metadata": {
    "colab": {
     "base_uri": "https://localhost:8080/"
    },
    "executionInfo": {
     "elapsed": 3809941,
     "status": "ok",
     "timestamp": 1606705954795,
     "user": {
      "displayName": "박기민",
      "photoUrl": "https://lh3.googleusercontent.com/a-/AOh14GiDDxEgssGlksUIdJxxYDfFI220AJ7ehOcJhe8q2g=s64",
      "userId": "09786165050720479490"
     },
     "user_tz": -540
    },
    "id": "xerICUcTqakM",
    "outputId": "db25aedc-d725-478b-ba81-34648bd2eaa2",
    "scrolled": false
   },
   "outputs": [
    {
     "name": "stdout",
     "output_type": "stream",
     "text": [
      "Epoch 1 Batch 0 Loss 6.3731\n",
      "Epoch 1 Batch 50 Loss 6.2041\n",
      "Epoch 1 Batch 100 Loss 6.1603\n",
      "Epoch 1 Batch 150 Loss 6.0936\n",
      "Epoch 1 Batch 200 Loss 5.9978\n",
      "Epoch 1 Batch 250 Loss 5.8842\n",
      "Epoch 1 Batch 300 Loss 5.7612\n",
      "Epoch 1 Batch 350 Loss 5.6411\n",
      "Epoch 1 Batch 400 Loss 5.5362\n",
      "Epoch 1 Batch 450 Loss 5.4495\n",
      "Epoch 1 Batch 500 Loss 5.3774\n",
      "Epoch 1 Batch 550 Loss 5.3129\n",
      "Epoch 1 Batch 600 Loss 5.2333\n",
      "Epoch 1 Batch 650 Loss 5.1501\n",
      "Epoch 1 Batch 700 Loss 5.0634\n",
      "Epoch 1 Batch 750 Loss 4.9771\n",
      "Epoch 1 Batch 800 Loss 4.8977\n",
      "Epoch 1 Batch 850 Loss 4.8257\n",
      "Epoch 1 Batch 900 Loss 4.7613\n",
      "Epoch 1 Batch 950 Loss 4.7032\n",
      "Epoch 1 Batch 1000 Loss 4.6506\n",
      "Epoch 1 Batch 1050 Loss 4.6029\n",
      "Epoch 1 Batch 1100 Loss 4.5596\n",
      "Epoch 1 Batch 1150 Loss 4.5199\n",
      "Epoch 1 Batch 1200 Loss 4.4824\n",
      "Epoch 1 Batch 1250 Loss 4.4480\n",
      "Epoch 1 Batch 1300 Loss 4.4165\n",
      "Epoch 1 Batch 1350 Loss 4.3869\n",
      "Epoch 1 Batch 1400 Loss 4.3594\n",
      "Epoch 1 Batch 1450 Loss 4.3340\n",
      "Epoch 1 Batch 1500 Loss 4.3093\n",
      "Epoch 1 Batch 1550 Loss 4.2866\n",
      "Epoch 1 Batch 1600 Loss 4.2652\n",
      "Epoch 1 Batch 1650 Loss 4.2449\n",
      "Epoch 1 Batch 1700 Loss 4.2258\n",
      "Epoch 1 Batch 1750 Loss 4.2080\n",
      "Epoch 1 Batch 1800 Loss 4.1911\n",
      "Epoch 1 Batch 1850 Loss 4.1750\n",
      "Epoch 1 Batch 1900 Loss 4.1598\n",
      "Epoch 1 Batch 1950 Loss 4.1455\n",
      "Epoch 1 Batch 2000 Loss 4.1317\n",
      "Epoch 1 Batch 2050 Loss 4.1191\n",
      "Epoch 1 Batch 2100 Loss 4.1066\n",
      "Epoch 1 Batch 2150 Loss 4.0948\n",
      "Epoch 1 Batch 2200 Loss 4.0836\n",
      "Epoch 1 Batch 2250 Loss 4.0730\n",
      "Epoch 1 Batch 2300 Loss 4.0623\n",
      "Epoch 1 Batch 2350 Loss 4.0525\n",
      "Epoch 1 Batch 2400 Loss 4.0431\n",
      "Epoch 1 Batch 2450 Loss 4.0340\n",
      "Epoch 1 Batch 2500 Loss 4.0253\n",
      "Epoch 1 Batch 2550 Loss 4.0169\n",
      "Epoch 1 Batch 2600 Loss 4.0091\n",
      "Epoch 1 Batch 2650 Loss 4.0012\n",
      "Epoch 1 Batch 2700 Loss 3.9942\n",
      "Epoch 1 Batch 2750 Loss 3.9867\n",
      "Epoch 1 Batch 2800 Loss 3.9794\n",
      "Epoch 1 Batch 2850 Loss 3.9725\n",
      "Epoch 1 Batch 2900 Loss 3.9655\n",
      "Epoch 1 Batch 2950 Loss 3.9590\n",
      "Epoch 1 Batch 3000 Loss 3.9525\n",
      "Epoch 1 Batch 3050 Loss 3.9460\n",
      "Epoch 1 Batch 3100 Loss 3.9397\n",
      "Epoch 1 Batch 3150 Loss 3.9339\n",
      "Epoch 1 Batch 3200 Loss 3.9283\n",
      "Epoch 1 Batch 3250 Loss 3.9223\n",
      "Epoch 1 Batch 3300 Loss 3.9167\n",
      "Epoch 1 Batch 3350 Loss 3.9113\n",
      "Epoch 1 Batch 3400 Loss 3.9060\n",
      "Epoch 1 Batch 3450 Loss 3.9010\n",
      "Epoch 1 Batch 3500 Loss 3.8960\n",
      "Epoch 1 Batch 3550 Loss 3.8909\n",
      "Epoch 1 Batch 3600 Loss 3.8861\n",
      "Epoch 1 Batch 3650 Loss 3.8814\n",
      "Epoch 1 Batch 3700 Loss 3.8771\n",
      "Epoch 1 Loss 3.8767\n",
      "Time taken for 1 epoch: 1835.855818271637 secs\n",
      "\n",
      "Epoch 2 Batch 0 Loss 3.5747\n",
      "Epoch 2 Batch 50 Loss 3.5762\n",
      "Epoch 2 Batch 100 Loss 3.5653\n",
      "Epoch 2 Batch 150 Loss 3.5602\n",
      "Epoch 2 Batch 200 Loss 3.5607\n",
      "Epoch 2 Batch 250 Loss 3.5605\n",
      "Epoch 2 Batch 300 Loss 3.5606\n",
      "Epoch 2 Batch 350 Loss 3.5578\n",
      "Epoch 2 Batch 400 Loss 3.5550\n",
      "Epoch 2 Batch 450 Loss 3.5537\n",
      "Epoch 2 Batch 500 Loss 3.5535\n",
      "Epoch 2 Batch 550 Loss 3.5533\n",
      "Epoch 2 Batch 600 Loss 3.5504\n",
      "Epoch 2 Batch 650 Loss 3.5500\n",
      "Epoch 2 Batch 700 Loss 3.5495\n",
      "Epoch 2 Batch 750 Loss 3.5489\n",
      "Epoch 2 Batch 800 Loss 3.5471\n",
      "Epoch 2 Batch 850 Loss 3.5454\n",
      "Epoch 2 Batch 900 Loss 3.5440\n",
      "Epoch 2 Batch 950 Loss 3.5425\n",
      "Epoch 2 Batch 1000 Loss 3.5414\n",
      "Epoch 2 Batch 1050 Loss 3.5402\n",
      "Epoch 2 Batch 1100 Loss 3.5395\n",
      "Epoch 2 Batch 1150 Loss 3.5379\n",
      "Epoch 2 Batch 1200 Loss 3.5373\n",
      "Epoch 2 Batch 1250 Loss 3.5356\n",
      "Epoch 2 Batch 1300 Loss 3.5344\n",
      "Epoch 2 Batch 1350 Loss 3.5334\n",
      "Epoch 2 Batch 1400 Loss 3.5325\n",
      "Epoch 2 Batch 1450 Loss 3.5309\n",
      "Epoch 2 Batch 1500 Loss 3.5299\n",
      "Epoch 2 Batch 1550 Loss 3.5289\n",
      "Epoch 2 Batch 1600 Loss 3.5277\n",
      "Epoch 2 Batch 1650 Loss 3.5263\n",
      "Epoch 2 Batch 1700 Loss 3.5253\n",
      "Epoch 2 Batch 1750 Loss 3.5239\n",
      "Epoch 2 Batch 1800 Loss 3.5234\n",
      "Epoch 2 Batch 1850 Loss 3.5229\n",
      "Epoch 2 Batch 1900 Loss 3.5220\n",
      "Epoch 2 Batch 1950 Loss 3.5211\n",
      "Epoch 2 Batch 2000 Loss 3.5206\n",
      "Epoch 2 Batch 2050 Loss 3.5198\n",
      "Epoch 2 Batch 2100 Loss 3.5192\n",
      "Epoch 2 Batch 2150 Loss 3.5183\n",
      "Epoch 2 Batch 2200 Loss 3.5173\n",
      "Epoch 2 Batch 2250 Loss 3.5168\n",
      "Epoch 2 Batch 2300 Loss 3.5160\n",
      "Epoch 2 Batch 2350 Loss 3.5152\n",
      "Epoch 2 Batch 2400 Loss 3.5145\n",
      "Epoch 2 Batch 2450 Loss 3.5139\n",
      "Epoch 2 Batch 2500 Loss 3.5132\n",
      "Epoch 2 Batch 2550 Loss 3.5127\n",
      "Epoch 2 Batch 2600 Loss 3.5123\n",
      "Epoch 2 Batch 2650 Loss 3.5115\n",
      "Epoch 2 Batch 2700 Loss 3.5108\n",
      "Epoch 2 Batch 2750 Loss 3.5102\n",
      "Epoch 2 Batch 2800 Loss 3.5096\n",
      "Epoch 2 Batch 2850 Loss 3.5091\n",
      "Epoch 2 Batch 2900 Loss 3.5083\n",
      "Epoch 2 Batch 2950 Loss 3.5078\n",
      "Epoch 2 Batch 3000 Loss 3.5071\n",
      "Epoch 2 Batch 3050 Loss 3.5064\n",
      "Epoch 2 Batch 3100 Loss 3.5058\n",
      "Epoch 2 Batch 3150 Loss 3.5053\n",
      "Epoch 2 Batch 3200 Loss 3.5044\n",
      "Epoch 2 Batch 3250 Loss 3.5038\n",
      "Epoch 2 Batch 3300 Loss 3.5033\n",
      "Epoch 2 Batch 3350 Loss 3.5025\n",
      "Epoch 2 Batch 3400 Loss 3.5019\n",
      "Epoch 2 Batch 3450 Loss 3.5013\n",
      "Epoch 2 Batch 3500 Loss 3.5008\n",
      "Epoch 2 Batch 3550 Loss 3.5002\n",
      "Epoch 2 Batch 3600 Loss 3.4997\n",
      "Epoch 2 Batch 3650 Loss 3.4992\n",
      "Epoch 2 Batch 3700 Loss 3.4987\n",
      "Saving checkpoint for epoch 2 at /content/models/ckpt-1\n",
      "Epoch 2 Loss 3.4986\n",
      "Time taken for 1 epoch: 1919.4570455551147 secs\n",
      "\n"
     ]
    }
   ],
   "source": [
    "#EPOCHS = 20  \n",
    "EPOCHS = 2  # 1epoch가 매우 오래 걸립니다. \n",
    "\n",
    "for epoch in range(EPOCHS):\n",
    "    start = time.time()\n",
    "\n",
    "    train_loss.reset_states()\n",
    "\n",
    "    for (batch, (inp, tar)) in enumerate(train_dataset):\n",
    "        with tf.GradientTape() as tape:\n",
    "            predictions, _ = music_transformer(inp, True, None, None, None)\n",
    "            loss = loss_function(tar, predictions)\n",
    "\n",
    "        gradients = tape.gradient(loss, music_transformer.trainable_variables)    \n",
    "        optimizer.apply_gradients(zip(gradients, music_transformer.trainable_variables))\n",
    "\n",
    "        train_loss(loss)\n",
    "\n",
    "        if batch % 50 == 0:\n",
    "            print ('Epoch {} Batch {} Loss {:.4f}'.format(\n",
    "                epoch + 1, batch, train_loss.result()))\n",
    "\n",
    "    if (epoch + 1) % 2 == 0:\n",
    "        ckpt_save_path = ckpt_manager.save()\n",
    "        print ('Saving checkpoint for epoch {} at {}'.format(epoch+1,\n",
    "                                                             ckpt_save_path))\n",
    "\n",
    "    print ('Epoch {} Loss {:.4f}'.format(epoch + 1, train_loss.result()))\n",
    "\n",
    "    print ('Time taken for 1 epoch: {} secs\\n'.format(time.time() - start))"
   ]
  },
  {
   "cell_type": "markdown",
   "metadata": {},
   "source": [
    "loss가 성공적으로 수렴하는 모습을 확인할 수 있습니다. "
   ]
  },
  {
   "cell_type": "markdown",
   "metadata": {
    "id": "CIZfWfAaqakM"
   },
   "source": [
    "### Music Generation 테스트"
   ]
  },
  {
   "cell_type": "code",
   "execution_count": 37,
   "metadata": {
    "colab": {
     "base_uri": "https://localhost:8080/",
     "height": 35
    },
    "executionInfo": {
     "elapsed": 3809198,
     "status": "ok",
     "timestamp": 1606705954796,
     "user": {
      "displayName": "박기민",
      "photoUrl": "https://lh3.googleusercontent.com/a-/AOh14GiDDxEgssGlksUIdJxxYDfFI220AJ7ehOcJhe8q2g=s64",
      "userId": "09786165050720479490"
     },
     "user_tz": -540
    },
    "id": "yn5WR0jJqakM",
    "outputId": "a5f7309c-a457-46d9-dbd1-4d2c92dd8acb"
   },
   "outputs": [
    {
     "data": {
      "text/plain": [
       "'/home/aiffel0042/aiffel/music_transformer/models/ckpt-10'"
      ]
     },
     "execution_count": 37,
     "metadata": {},
     "output_type": "execute_result"
    }
   ],
   "source": [
    "checkpoint_path = os.getenv('HOME')+'/aiffel/music_transformer/models/'\n",
    "\n",
    "tf.train.latest_checkpoint(checkpoint_path)"
   ]
  },
  {
   "cell_type": "markdown",
   "metadata": {},
   "source": [
    "20Epoch 진행한 모델 체크포인트 파일을 사용해서 다양한 실험을 해보겠습니다. "
   ]
  },
  {
   "cell_type": "code",
   "execution_count": 38,
   "metadata": {
    "executionInfo": {
     "elapsed": 719,
     "status": "ok",
     "timestamp": 1606706547672,
     "user": {
      "displayName": "박기민",
      "photoUrl": "https://lh3.googleusercontent.com/a-/AOh14GiDDxEgssGlksUIdJxxYDfFI220AJ7ehOcJhe8q2g=s64",
      "userId": "09786165050720479490"
     },
     "user_tz": -540
    },
    "id": "Bgn6mv5TLDPZ"
   },
   "outputs": [],
   "source": [
    "test_dataset = tf.data.Dataset.from_tensor_slices((train_data_pad, train_label_pad))\n",
    "test_dataset = test_dataset.map(tensor_casting)\n",
    "test_dataset = test_dataset.shuffle(10000).batch(batch_size=1)"
   ]
  },
  {
   "cell_type": "code",
   "execution_count": 55,
   "metadata": {
    "colab": {
     "base_uri": "https://localhost:8080/"
    },
    "executionInfo": {
     "elapsed": 226485,
     "status": "ok",
     "timestamp": 1606706780166,
     "user": {
      "displayName": "박기민",
      "photoUrl": "https://lh3.googleusercontent.com/a-/AOh14GiDDxEgssGlksUIdJxxYDfFI220AJ7ehOcJhe8q2g=s64",
      "userId": "09786165050720479490"
     },
     "user_tz": -540
    },
    "id": "zed3zhs8LEjp",
    "outputId": "e5b87b83-1ca9-47d0-d9ac-ad53434d941c"
   },
   "outputs": [
    {
     "data": {
      "text/plain": [
       "(1, 1000)"
      ]
     },
     "execution_count": 55,
     "metadata": {},
     "output_type": "execute_result"
    }
   ],
   "source": [
    "N = 1000\n",
    "_inputs = np.zeros([1, N], dtype=np.int32)\n",
    "\n",
    "for x, y in test_dataset.take(1):\n",
    "    _inputs[:, :length] = x[None, :]\n",
    "    \n",
    "for i in range(N - length):\n",
    "    predictions, _ = music_transformer(_inputs[:, i:i+length], False, None, None, None)\n",
    "    predictions = tf.squeeze(predictions, 0)    \n",
    "    \n",
    "    # select the last word from the seq_len dimension\n",
    "    predicted_id = tf.random.categorical(predictions, num_samples=1)[-1,0].numpy()\n",
    "    \n",
    "    # 예측된 단어를 다음 입력으로 모델에 전달\n",
    "    # 이전 은닉 상태와 함께\n",
    "    _inputs[:, i+length] = predicted_id\n",
    "\n",
    "_inputs.shape"
   ]
  },
  {
   "cell_type": "code",
   "execution_count": 56,
   "metadata": {
    "executionInfo": {
     "elapsed": 598,
     "status": "ok",
     "timestamp": 1606706781844,
     "user": {
      "displayName": "박기민",
      "photoUrl": "https://lh3.googleusercontent.com/a-/AOh14GiDDxEgssGlksUIdJxxYDfFI220AJ7ehOcJhe8q2g=s64",
      "userId": "09786165050720479490"
     },
     "user_tz": -540
    },
    "id": "9fHUaf7cLGMw"
   },
   "outputs": [],
   "source": [
    "class Event():\n",
    "    def __init__(self, time, note, cc, on, velocity):\n",
    "        self.time = time\n",
    "        self.note = note\n",
    "        self.on = on\n",
    "        self.cc = cc\n",
    "        self.velocity = velocity\n",
    "\n",
    "    def get_event_sequence(self):\n",
    "        return [self.time, self.note, int(self.on)]\n",
    "\n",
    "class Note():\n",
    "    def __init__(self):\n",
    "        self.pitch = 0\n",
    "        self.start_time = 0\n",
    "        self.end_time = 0"
   ]
  },
  {
   "cell_type": "code",
   "execution_count": 63,
   "metadata": {},
   "outputs": [],
   "source": [
    "# 간격\n",
    "IntervalDim = 150\n",
    "# 노트를 연주하는 강세\n",
    "VelocityDim = 32\n",
    "# Note ON/OFF\n",
    "NoteOnDim = NoteOffDim = 128"
   ]
  },
  {
   "cell_type": "code",
   "execution_count": 64,
   "metadata": {
    "executionInfo": {
     "elapsed": 597,
     "status": "ok",
     "timestamp": 1606706781846,
     "user": {
      "displayName": "박기민",
      "photoUrl": "https://lh3.googleusercontent.com/a-/AOh14GiDDxEgssGlksUIdJxxYDfFI220AJ7ehOcJhe8q2g=s64",
      "userId": "09786165050720479490"
     },
     "user_tz": -540
    },
    "id": "xCodBywKLIQW"
   },
   "outputs": [],
   "source": [
    "event_list = []\n",
    "time = 0\n",
    "event = None\n",
    "\n",
    "EventDim = IntervalDim + VelocityDim + NoteOnDim + NoteOffDim # 388\n",
    "\n",
    "for _input in _inputs[0]:\n",
    "    # interval\n",
    "    if _input < IntervalDim: \n",
    "        time += _input\n",
    "        event = Event(time, 0, False, 0, 0)\n",
    "\n",
    "    # velocity\n",
    "    elif _input < NoteOnOffset:\n",
    "        if event is None:\n",
    "            continue\n",
    "        event.velocity = (_input - VelocityOffset) / VelocityDim * 128\n",
    "\n",
    "    # note on\n",
    "    elif _input < NoteOffOffset:\n",
    "        if event is None:\n",
    "            continue\n",
    "\n",
    "        event.note = _input - NoteOnOffset\n",
    "        event.on = True\n",
    "        event_list.append(event)\n",
    "\n",
    "        event = None\n",
    "\n",
    "    # note off\n",
    "    elif _input < CCOffset:\n",
    "        if event is None:\n",
    "            continue\n",
    "        event.note = _input - NoteOffOffset\n",
    "        event.on = False\n",
    "        event_list.append(event)\n",
    "        event = None\n",
    "\n",
    "    ## CC\n",
    "    else:\n",
    "        if event is None:\n",
    "            continue\n",
    "        event.cc = True\n",
    "        on = _input - CCOffset == 1\n",
    "        event.on = on\n",
    "        event_list.append(event)\n",
    "        event = None"
   ]
  },
  {
   "cell_type": "code",
   "execution_count": 65,
   "metadata": {
    "colab": {
     "base_uri": "https://localhost:8080/"
    },
    "executionInfo": {
     "elapsed": 597,
     "status": "ok",
     "timestamp": 1606706781848,
     "user": {
      "displayName": "박기민",
      "photoUrl": "https://lh3.googleusercontent.com/a-/AOh14GiDDxEgssGlksUIdJxxYDfFI220AJ7ehOcJhe8q2g=s64",
      "userId": "09786165050720479490"
     },
     "user_tz": -540
    },
    "id": "bhyY6sHJLKgA",
    "outputId": "38eeb5cb-61ba-4148-c163-1d74edf60dbc",
    "scrolled": true
   },
   "outputs": [
    {
     "name": "stdout",
     "output_type": "stream",
     "text": [
      "Track 0: \n",
      "<meta message set_tempo tempo=500000 time=0>\n",
      "note_off channel=0 note=77 velocity=0 time=0\n",
      "note_off channel=0 note=74 velocity=0 time=0\n",
      "note_on channel=0 note=86 velocity=0 time=42\n",
      "note_on channel=0 note=83 velocity=0 time=41\n",
      "note_off channel=0 note=86 velocity=0 time=0\n",
      "note_on channel=0 note=80 velocity=0 time=39\n",
      "note_off channel=0 note=83 velocity=0 time=0\n",
      "note_off channel=0 note=86 velocity=0 time=2\n",
      "note_on channel=0 note=77 velocity=0 time=41\n",
      "note_off channel=0 note=80 velocity=0 time=0\n",
      "note_off channel=0 note=83 velocity=0 time=0\n",
      "note_off channel=0 note=80 velocity=0 time=0\n",
      "note_off channel=0 note=77 velocity=0 time=0\n",
      "note_on channel=0 note=75 velocity=0 time=39\n",
      "note_on channel=0 note=71 velocity=0 time=40\n",
      "note_off channel=0 note=75 velocity=0 time=0\n",
      "note_off channel=0 note=75 velocity=0 time=1\n",
      "note_on channel=0 note=68 velocity=0 time=39\n",
      "note_off channel=0 note=71 velocity=0 time=0\n",
      "note_off channel=0 note=71 velocity=0 time=0\n",
      "note_on channel=0 note=65 velocity=0 time=40\n",
      "note_off channel=0 note=68 velocity=0 time=0\n",
      "note_off channel=0 note=68 velocity=0 time=0\n",
      "note_off channel=0 note=65 velocity=0 time=1\n",
      "note_on channel=0 note=78 velocity=0 time=40\n",
      "note_on channel=0 note=74 velocity=0 time=41\n",
      "note_off channel=0 note=78 velocity=0 time=0\n",
      "note_on channel=0 note=71 velocity=0 time=41\n",
      "note_off channel=0 note=74 velocity=0 time=0\n",
      "note_off channel=0 note=74 velocity=0 time=1\n",
      "note_on channel=0 note=68 velocity=0 time=41\n",
      "note_off channel=0 note=71 velocity=0 time=0\n",
      "note_off channel=0 note=78 velocity=0 time=0\n",
      "note_off channel=0 note=71 velocity=0 time=0\n",
      "note_off channel=0 note=68 velocity=0 time=0\n",
      "note_on channel=0 note=70 velocity=0 time=40\n",
      "note_on channel=0 note=68 velocity=0 time=41\n",
      "note_off channel=0 note=70 velocity=0 time=0\n",
      "note_off channel=0 note=70 velocity=0 time=0\n",
      "note_off channel=0 note=68 velocity=0 time=1\n",
      "note_on channel=0 note=65 velocity=0 time=39\n",
      "note_on channel=0 note=62 velocity=0 time=41\n",
      "note_off channel=0 note=65 velocity=0 time=0\n",
      "note_off channel=0 note=65 velocity=0 time=0\n",
      "note_off channel=0 note=62 velocity=0 time=1\n",
      "note_on channel=0 note=74 velocity=0 time=41\n",
      "note_on channel=0 note=71 velocity=0 time=40\n",
      "note_off channel=0 note=74 velocity=0 time=0\n",
      "note_on channel=0 note=68 velocity=0 time=40\n",
      "note_off channel=0 note=71 velocity=0 time=0\n",
      "note_off channel=0 note=74 velocity=0 time=2\n",
      "note_off channel=0 note=71 velocity=0 time=1\n",
      "note_on channel=0 note=65 velocity=0 time=40\n",
      "note_off channel=0 note=68 velocity=0 time=0\n",
      "note_off channel=0 note=68 velocity=0 time=0\n",
      "note_off channel=0 note=65 velocity=0 time=0\n",
      "note_on channel=0 note=63 velocity=0 time=39\n",
      "note_on channel=0 note=59 velocity=0 time=40\n",
      "note_off channel=0 note=63 velocity=0 time=0\n",
      "note_off channel=0 note=63 velocity=0 time=0\n",
      "note_on channel=0 note=56 velocity=0 time=41\n",
      "note_off channel=0 note=59 velocity=0 time=0\n",
      "note_off channel=0 note=59 velocity=0 time=0\n",
      "note_on channel=0 note=53 velocity=0 time=39\n",
      "note_off channel=0 note=56 velocity=0 time=0\n",
      "note_off channel=0 note=56 velocity=0 time=0\n",
      "note_on channel=0 note=66 velocity=0 time=39\n",
      "note_off channel=0 note=53 velocity=0 time=0\n",
      "note_on channel=0 note=62 velocity=0 time=38\n",
      "note_off channel=0 note=66 velocity=0 time=0\n",
      "note_off channel=0 note=53 velocity=0 time=0\n",
      "note_on channel=0 note=59 velocity=0 time=39\n",
      "note_off channel=0 note=62 velocity=0 time=0\n",
      "note_off channel=0 note=62 velocity=0 time=1\n",
      "note_off channel=0 note=66 velocity=0 time=0\n",
      "note_off channel=0 note=59 velocity=0 time=0\n",
      "note_on channel=0 note=56 velocity=0 time=38\n",
      "note_off channel=0 note=56 velocity=0 time=5\n",
      "note_on channel=0 note=53 velocity=0 time=38\n",
      "note_off channel=0 note=53 velocity=0 time=2\n",
      "note_on channel=0 note=50 velocity=0 time=38\n",
      "note_on channel=0 note=62 velocity=0 time=39\n",
      "note_off channel=0 note=50 velocity=0 time=0\n",
      "note_off channel=0 note=50 velocity=0 time=0\n",
      "note_on channel=0 note=59 velocity=0 time=38\n",
      "note_off channel=0 note=62 velocity=0 time=0\n",
      "note_on channel=0 note=56 velocity=0 time=40\n",
      "note_off channel=0 note=59 velocity=0 time=0\n",
      "note_off channel=0 note=62 velocity=0 time=1\n",
      "note_off channel=0 note=59 velocity=0 time=1\n",
      "note_on channel=0 note=53 velocity=0 time=38\n",
      "note_off channel=0 note=56 velocity=0 time=0\n",
      "note_off channel=0 note=56 velocity=0 time=0\n",
      "note_off channel=0 note=53 velocity=0 time=0\n",
      "note_on channel=0 note=51 velocity=0 time=39\n",
      "note_off channel=0 note=51 velocity=0 time=1\n",
      "note_on channel=0 note=47 velocity=0 time=38\n",
      "note_off channel=0 note=47 velocity=0 time=1\n",
      "note_on channel=0 note=44 velocity=0 time=38\n",
      "note_on channel=0 note=54 velocity=0 time=41\n",
      "note_off channel=0 note=44 velocity=0 time=0\n",
      "note_off channel=0 note=44 velocity=0 time=0\n",
      "note_on channel=0 note=41 velocity=0 time=37\n",
      "note_off channel=0 note=54 velocity=0 time=0\n",
      "note_on channel=0 note=50 velocity=0 time=38\n",
      "note_off channel=0 note=41 velocity=0 time=0\n",
      "note_on channel=0 note=47 velocity=0 time=39\n",
      "note_off channel=0 note=50 velocity=0 time=0\n",
      "note_off channel=0 note=41 velocity=0 time=0\n",
      "note_off channel=0 note=54 velocity=0 time=2\n",
      "note_on channel=0 note=44 velocity=0 time=39\n",
      "note_off channel=0 note=47 velocity=0 time=0\n",
      "note_off channel=0 note=47 velocity=0 time=1\n",
      "note_off channel=0 note=44 velocity=0 time=0\n",
      "note_off channel=0 note=50 velocity=0 time=0\n",
      "note_on channel=0 note=46 velocity=0 time=40\n",
      "note_off channel=0 note=46 velocity=0 time=2\n",
      "note_on channel=0 note=44 velocity=0 time=37\n",
      "note_off channel=0 note=44 velocity=0 time=3\n",
      "note_on channel=0 note=41 velocity=0 time=39\n",
      "note_off channel=0 note=41 velocity=0 time=2\n",
      "note_on channel=0 note=38 velocity=0 time=38\n",
      "note_off channel=0 note=38 velocity=0 time=2\n",
      "note_on channel=0 note=38 velocity=0 time=46\n",
      "note_off channel=0 note=38 velocity=0 time=10\n",
      "note_on channel=0 note=40 velocity=0 time=38\n",
      "note_off channel=0 note=40 velocity=0 time=2\n",
      "note_on channel=0 note=40 velocity=0 time=41\n",
      "note_on channel=0 note=38 velocity=0 time=36\n",
      "note_off channel=0 note=40 velocity=0 time=0\n",
      "note_off channel=0 note=40 velocity=0 time=0\n",
      "note_off channel=0 note=38 velocity=0 time=2\n",
      "note_on channel=0 note=40 velocity=0 time=36\n",
      "note_off channel=0 note=62 velocity=0 time=2\n",
      "note_on channel=0 note=68 velocity=0 time=48\n",
      "note_off channel=0 note=40 velocity=0 time=0\n",
      "note_off channel=0 note=74 velocity=0 time=0\n",
      "note_on channel=0 note=38 velocity=0 time=37\n",
      "note_off channel=0 note=68 velocity=0 time=0\n",
      "note_on channel=0 note=68 velocity=0 time=39\n",
      "note_off channel=0 note=38 velocity=0 time=0\n",
      "note_off channel=0 note=54 velocity=0 time=0\n",
      "note_off channel=0 note=62 velocity=0 time=1\n",
      "note_on channel=0 note=63 velocity=0 time=37\n",
      "note_off channel=0 note=68 velocity=0 time=0\n",
      "control_change channel=0 control=64 value=127 time=0\n",
      "note_on channel=0 note=83 velocity=0 time=40\n",
      "note_off channel=0 note=63 velocity=0 time=0\n",
      "note_on channel=0 note=62 velocity=0 time=37\n",
      "note_off channel=0 note=83 velocity=0 time=0\n",
      "note_off channel=0 note=60 velocity=0 time=0\n",
      "note_off channel=0 note=78 velocity=0 time=1\n",
      "note_off channel=0 note=61 velocity=0 time=2\n",
      "note_off channel=0 note=67 velocity=0 time=4\n",
      "note_on channel=0 note=80 velocity=0 time=54\n",
      "note_off channel=0 note=62 velocity=0 time=0\n",
      "note_on channel=0 note=63 velocity=0 time=39\n",
      "note_off channel=0 note=80 velocity=0 time=0\n",
      "note_off channel=0 note=68 velocity=0 time=1\n",
      "note_on channel=0 note=81 velocity=0 time=49\n",
      "note_off channel=0 note=63 velocity=0 time=0\n",
      "note_on channel=0 note=73 velocity=0 time=39\n",
      "note_off channel=0 note=81 velocity=0 time=0\n",
      "note_off channel=0 note=64 velocity=0 time=3\n",
      "control_change channel=0 control=64 value=0 time=3\n",
      "note_off channel=0 note=76 velocity=0 time=1\n",
      "note_on channel=0 note=78 velocity=0 time=46\n",
      "note_off channel=0 note=73 velocity=0 time=0\n",
      "note_on channel=0 note=71 velocity=0 time=41\n",
      "note_off channel=0 note=78 velocity=0 time=0\n",
      "note_off channel=0 note=75 velocity=0 time=2\n",
      "note_off channel=0 note=89 velocity=0 time=0\n",
      "note_on channel=0 note=57 velocity=0 time=38\n",
      "note_off channel=0 note=71 velocity=0 time=0\n",
      "note_on channel=0 note=61 velocity=0 time=39\n",
      "note_off channel=0 note=57 velocity=0 time=0\n",
      "note_off channel=0 note=84 velocity=0 time=0\n",
      "control_change channel=0 control=64 value=127 time=3\n",
      "note_on channel=0 note=84 velocity=0 time=44\n",
      "note_off channel=0 note=61 velocity=0 time=0\n",
      "control_change channel=0 control=64 value=0 time=1\n",
      "note_on channel=0 note=90 velocity=0 time=41\n",
      "note_off channel=0 note=84 velocity=0 time=0\n",
      "control_change channel=0 control=64 value=127 time=3\n",
      "control_change channel=0 control=64 value=0 time=1\n",
      "note_on channel=0 note=55 velocity=0 time=42\n",
      "note_off channel=0 note=90 velocity=0 time=0\n",
      "note_on channel=0 note=59 velocity=0 time=45\n",
      "note_off channel=0 note=55 velocity=0 time=0\n",
      "note_on channel=0 note=58 velocity=0 time=46\n",
      "note_off channel=0 note=59 velocity=0 time=0\n",
      "note_off channel=0 note=49 velocity=0 time=0\n",
      "note_off channel=0 note=64 velocity=0 time=5\n",
      "note_on channel=0 note=53 velocity=0 time=42\n",
      "note_off channel=0 note=58 velocity=0 time=0\n",
      "note_on channel=0 note=64 velocity=0 time=43\n",
      "note_off channel=0 note=53 velocity=0 time=0\n",
      "note_off channel=0 note=69 velocity=0 time=0\n",
      "note_off channel=0 note=41 velocity=0 time=2\n",
      "note_on channel=0 note=75 velocity=0 time=38\n",
      "note_off channel=0 note=64 velocity=0 time=0\n",
      "note_off channel=0 note=63 velocity=0 time=2\n",
      "note_on channel=0 note=45 velocity=0 time=47\n",
      "note_off channel=0 note=75 velocity=0 time=0\n",
      "note_off channel=0 note=87 velocity=0 time=1\n",
      "note_on channel=0 note=59 velocity=0 time=45\n",
      "note_off channel=0 note=45 velocity=0 time=0\n",
      "note_off channel=0 note=59 velocity=0 time=3\n",
      "note_off channel=0 note=73 velocity=0 time=3\n",
      "note_on channel=0 note=58 velocity=0 time=44\n",
      "note_on channel=0 note=73 velocity=0 time=39\n",
      "note_off channel=0 note=58 velocity=0 time=0\n",
      "note_on channel=0 note=89 velocity=0 time=45\n",
      "note_off channel=0 note=73 velocity=0 time=0\n",
      "note_on channel=0 note=61 velocity=0 time=38\n",
      "note_off channel=0 note=89 velocity=0 time=0\n",
      "note_off channel=0 note=69 velocity=0 time=1\n",
      "note_off channel=0 note=85 velocity=0 time=0\n",
      "note_off channel=0 note=50 velocity=0 time=0\n",
      "note_on channel=0 note=71 velocity=0 time=45\n",
      "note_off channel=0 note=61 velocity=0 time=0\n",
      "note_on channel=0 note=66 velocity=0 time=40\n",
      "note_off channel=0 note=71 velocity=0 time=0\n",
      "note_on channel=0 note=67 velocity=0 time=36\n",
      "note_off channel=0 note=66 velocity=0 time=0\n",
      "note_on channel=0 note=76 velocity=0 time=42\n",
      "note_off channel=0 note=67 velocity=0 time=0\n",
      "note_on channel=0 note=68 velocity=0 time=41\n",
      "note_off channel=0 note=76 velocity=0 time=0\n",
      "note_on channel=0 note=59 velocity=0 time=40\n",
      "note_off channel=0 note=68 velocity=0 time=0\n",
      "note_off channel=0 note=57 velocity=0 time=0\n",
      "note_off channel=0 note=82 velocity=0 time=0\n",
      "note_on channel=0 note=82 velocity=0 time=43\n",
      "note_off channel=0 note=59 velocity=0 time=0\n",
      "note_off channel=0 note=89 velocity=0 time=0\n",
      "note_on channel=0 note=69 velocity=0 time=40\n",
      "note_off channel=0 note=82 velocity=0 time=0\n",
      "note_on channel=0 note=64 velocity=0 time=42\n",
      "note_off channel=0 note=69 velocity=0 time=0\n",
      "note_off channel=0 note=72 velocity=0 time=3\n",
      "control_change channel=0 control=64 value=127 time=6\n",
      "note_off channel=0 note=92 velocity=0 time=7\n",
      "note_off channel=0 note=72 velocity=0 time=5\n",
      "note_on channel=0 note=81 velocity=0 time=41\n",
      "note_off channel=0 note=64 velocity=0 time=0\n",
      "control_change channel=0 control=64 value=127 time=0\n",
      "note_on channel=0 note=89 velocity=0 time=37\n",
      "note_off channel=0 note=81 velocity=0 time=0\n",
      "note_on channel=0 note=85 velocity=0 time=40\n",
      "note_off channel=0 note=89 velocity=0 time=0\n",
      "note_on channel=0 note=91 velocity=0 time=38\n",
      "note_off channel=0 note=85 velocity=0 time=0\n",
      "note_off channel=0 note=75 velocity=0 time=0\n",
      "note_on channel=0 note=88 velocity=0 time=47\n",
      "note_off channel=0 note=91 velocity=0 time=0\n",
      "note_on channel=0 note=65 velocity=0 time=41\n",
      "note_off channel=0 note=88 velocity=0 time=0\n",
      "note_on channel=0 note=31 velocity=0 time=42\n",
      "note_off channel=0 note=65 velocity=0 time=0\n",
      "note_off channel=0 note=80 velocity=0 time=3\n",
      "note_off channel=0 note=79 velocity=0 time=1\n",
      "note_on channel=0 note=83 velocity=0 time=57\n",
      "note_off channel=0 note=31 velocity=0 time=0\n",
      "note_on channel=0 note=87 velocity=0 time=40\n",
      "note_off channel=0 note=83 velocity=0 time=0\n",
      "note_off channel=0 note=88 velocity=0 time=0\n",
      "control_change channel=0 control=64 value=127 time=2\n",
      "note_off channel=0 note=93 velocity=0 time=5\n",
      "note_on channel=0 note=76 velocity=0 time=55\n",
      "note_off channel=0 note=87 velocity=0 time=0\n",
      "note_off channel=0 note=85 velocity=0 time=2\n",
      "note_on channel=0 note=82 velocity=0 time=57\n",
      "note_off channel=0 note=76 velocity=0 time=0\n",
      "note_on channel=0 note=71 velocity=0 time=45\n",
      "note_off channel=0 note=82 velocity=0 time=0\n",
      "note_on channel=0 note=58 velocity=0 time=41\n",
      "note_off channel=0 note=71 velocity=0 time=0\n",
      "note_on channel=0 note=82 velocity=0 time=40\n",
      "note_off channel=0 note=58 velocity=0 time=0\n",
      "note_off channel=0 note=80 velocity=0 time=2\n",
      "note_off channel=0 note=79 velocity=0 time=0\n",
      "note_off channel=0 note=79 velocity=0 time=1\n",
      "note_off channel=0 note=61 velocity=0 time=1\n",
      "note_on channel=0 note=81 velocity=0 time=41\n",
      "note_off channel=0 note=82 velocity=0 time=0\n",
      "note_on channel=0 note=80 velocity=0 time=45\n",
      "note_off channel=0 note=81 velocity=0 time=0\n",
      "note_on channel=0 note=75 velocity=0 time=39\n",
      "note_off channel=0 note=80 velocity=0 time=0\n",
      "note_off channel=0 note=64 velocity=0 time=0\n",
      "note_off channel=0 note=74 velocity=0 time=2\n",
      "control_change channel=0 control=64 value=127 time=10\n",
      "control_change channel=0 control=64 value=0 time=0\n",
      "note_on channel=0 note=77 velocity=0 time=41\n",
      "note_off channel=0 note=75 velocity=0 time=0\n",
      "note_off channel=0 note=46 velocity=0 time=4\n",
      "control_change channel=0 control=64 value=127 time=1\n",
      "note_on channel=0 note=62 velocity=0 time=43\n",
      "note_off channel=0 note=77 velocity=0 time=0\n",
      "note_on channel=0 note=70 velocity=0 time=41\n",
      "note_off channel=0 note=62 velocity=0 time=0\n",
      "note_on channel=0 note=42 velocity=0 time=41\n",
      "note_off channel=0 note=70 velocity=0 time=0\n",
      "note_on channel=0 note=64 velocity=0 time=36\n",
      "note_off channel=0 note=42 velocity=0 time=0\n",
      "note_off channel=0 note=87 velocity=0 time=4\n",
      "control_change channel=0 control=64 value=127 time=4\n",
      "note_off channel=0 note=69 velocity=0 time=2\n",
      "control_change channel=0 control=64 value=0 time=1\n",
      "note_on channel=0 note=68 velocity=0 time=41\n",
      "note_off channel=0 note=64 velocity=0 time=0\n",
      "note_off channel=0 note=74 velocity=0 time=3\n",
      "note_on channel=0 note=77 velocity=0 time=40\n",
      "note_off channel=0 note=68 velocity=0 time=0\n",
      "control_change channel=0 control=64 value=127 time=1\n",
      "note_on channel=0 note=50 velocity=0 time=45\n",
      "note_off channel=0 note=77 velocity=0 time=0\n",
      "note_on channel=0 note=83 velocity=0 time=41\n",
      "note_off channel=0 note=50 velocity=0 time=0\n",
      "note_off channel=0 note=49 velocity=0 time=1\n",
      "note_on channel=0 note=76 velocity=0 time=45\n",
      "note_off channel=0 note=83 velocity=0 time=0\n",
      "note_off channel=0 note=77 velocity=0 time=0\n",
      "note_on channel=0 note=37 velocity=0 time=45\n",
      "note_off channel=0 note=76 velocity=0 time=0\n",
      "note_off channel=0 note=55 velocity=0 time=0\n",
      "note_on channel=0 note=76 velocity=0 time=43\n",
      "note_off channel=0 note=37 velocity=0 time=0\n",
      "note_off channel=0 note=56 velocity=0 time=6\n",
      "note_off channel=0 note=74 velocity=0 time=1\n",
      "note_on channel=0 note=83 velocity=0 time=42\n",
      "note_off channel=0 note=76 velocity=0 time=0\n",
      "note_on channel=0 note=76 velocity=0 time=40\n",
      "note_off channel=0 note=83 velocity=0 time=0\n",
      "note_off channel=0 note=69 velocity=0 time=0\n",
      "note_off channel=0 note=53 velocity=0 time=3\n",
      "note_on channel=0 note=78 velocity=0 time=40\n",
      "note_off channel=0 note=76 velocity=0 time=0\n",
      "note_off channel=0 note=46 velocity=0 time=3\n",
      "note_off channel=0 note=40 velocity=0 time=4\n",
      "note_off channel=0 note=78 velocity=0 time=0\n",
      "note_on channel=0 note=78 velocity=0 time=43\n",
      "note_on channel=0 note=61 velocity=0 time=36\n",
      "note_off channel=0 note=78 velocity=0 time=0\n",
      "note_off channel=0 note=84 velocity=0 time=1\n",
      "note_on channel=0 note=88 velocity=0 time=43\n",
      "note_off channel=0 note=61 velocity=0 time=0\n",
      "note_off channel=0 note=65 velocity=0 time=0\n",
      "note_off channel=0 note=55 velocity=0 time=0\n",
      "note_on channel=0 note=77 velocity=0 time=43\n",
      "note_off channel=0 note=88 velocity=0 time=0\n",
      "note_off channel=0 note=47 velocity=0 time=5\n",
      "note_off channel=0 note=76 velocity=0 time=0\n",
      "note_on channel=0 note=63 velocity=0 time=40\n",
      "note_off channel=0 note=77 velocity=0 time=0\n",
      "note_on channel=0 note=61 velocity=0 time=41\n",
      "note_off channel=0 note=63 velocity=0 time=0\n",
      "note_off channel=0 note=68 velocity=0 time=1\n",
      "note_off channel=0 note=85 velocity=0 time=0\n",
      "note_on channel=0 note=78 velocity=0 time=50\n",
      "note_off channel=0 note=61 velocity=0 time=0\n",
      "note_off channel=0 note=81 velocity=0 time=1\n",
      "note_on channel=0 note=85 velocity=0 time=48\n",
      "note_off channel=0 note=78 velocity=0 time=0\n",
      "note_on channel=0 note=70 velocity=0 time=42\n",
      "note_off channel=0 note=85 velocity=0 time=0\n",
      "note_on channel=0 note=85 velocity=0 time=41\n",
      "note_off channel=0 note=70 velocity=0 time=0\n",
      "note_on channel=0 note=78 velocity=0 time=42\n",
      "note_off channel=0 note=85 velocity=0 time=0\n",
      "note_off channel=0 note=78 velocity=0 time=1\n",
      "note_on channel=0 note=69 velocity=0 time=51\n",
      "note_on channel=0 note=71 velocity=0 time=39\n",
      "note_off channel=0 note=69 velocity=0 time=0\n",
      "note_on channel=0 note=83 velocity=0 time=40\n",
      "note_off channel=0 note=71 velocity=0 time=0\n",
      "note_on channel=0 note=68 velocity=0 time=37\n",
      "note_off channel=0 note=83 velocity=0 time=0\n",
      "note_off channel=0 note=71 velocity=0 time=2\n",
      "note_off channel=0 note=73 velocity=0 time=1\n",
      "note_off channel=0 note=88 velocity=0 time=2\n",
      "note_off channel=0 note=81 velocity=0 time=0\n",
      "note_on channel=0 note=85 velocity=0 time=44\n",
      "note_off channel=0 note=68 velocity=0 time=0\n",
      "note_on channel=0 note=76 velocity=0 time=40\n",
      "note_off channel=0 note=85 velocity=0 time=0\n",
      "note_off channel=0 note=74 velocity=0 time=0\n",
      "note_on channel=0 note=77 velocity=0 time=43\n",
      "note_off channel=0 note=76 velocity=0 time=0\n",
      "note_off channel=0 note=63 velocity=0 time=4\n",
      "note_on channel=0 note=75 velocity=0 time=42\n",
      "note_off channel=0 note=77 velocity=0 time=0\n",
      "note_off channel=0 note=57 velocity=0 time=0\n",
      "note_on channel=0 note=83 velocity=0 time=40\n",
      "note_off channel=0 note=75 velocity=0 time=0\n",
      "note_on channel=0 note=66 velocity=0 time=40\n",
      "note_off channel=0 note=83 velocity=0 time=0\n",
      "control_change channel=0 control=64 value=0 time=1\n",
      "note_on channel=0 note=76 velocity=0 time=41\n",
      "note_off channel=0 note=66 velocity=0 time=0\n",
      "note_off channel=0 note=70 velocity=0 time=2\n",
      "control_change channel=0 control=64 value=127 time=13\n",
      "note_off channel=0 note=71 velocity=0 time=2\n",
      "note_on channel=0 note=84 velocity=0 time=49\n",
      "note_off channel=0 note=76 velocity=0 time=0\n",
      "note_on channel=0 note=53 velocity=0 time=42\n",
      "note_off channel=0 note=84 velocity=0 time=0\n",
      "note_on channel=0 note=62 velocity=0 time=39\n",
      "note_off channel=0 note=53 velocity=0 time=0\n",
      "note_on channel=0 note=60 velocity=0 time=34\n",
      "note_off channel=0 note=62 velocity=0 time=0\n",
      "note_off channel=0 note=46 velocity=0 time=2\n",
      "note_on channel=0 note=77 velocity=0 time=41\n",
      "note_off channel=0 note=60 velocity=0 time=0\n",
      "note_off channel=0 note=94 velocity=0 time=0\n",
      "note_on channel=0 note=87 velocity=0 time=44\n",
      "note_off channel=0 note=77 velocity=0 time=0\n",
      "note_off channel=0 note=56 velocity=0 time=0\n",
      "note_on channel=0 note=89 velocity=0 time=39\n",
      "note_off channel=0 note=87 velocity=0 time=0\n",
      "control_change channel=0 control=64 value=0 time=1\n",
      "note_on channel=0 note=75 velocity=0 time=46\n",
      "note_off channel=0 note=89 velocity=0 time=0\n",
      "note_off channel=0 note=76 velocity=0 time=1\n",
      "note_off channel=0 note=82 velocity=0 time=2\n",
      "note_off channel=0 note=42 velocity=0 time=3\n",
      "note_on channel=0 note=89 velocity=0 time=41\n",
      "note_off channel=0 note=75 velocity=0 time=0\n",
      "note_on channel=0 note=49 velocity=0 time=40\n",
      "note_off channel=0 note=89 velocity=0 time=0\n",
      "note_on channel=0 note=87 velocity=0 time=44\n",
      "note_off channel=0 note=49 velocity=0 time=0\n",
      "control_change channel=0 control=64 value=127 time=1\n",
      "note_on channel=0 note=79 velocity=0 time=48\n",
      "note_off channel=0 note=87 velocity=0 time=0\n",
      "note_on channel=0 note=88 velocity=0 time=39\n",
      "note_off channel=0 note=79 velocity=0 time=0\n",
      "note_off channel=0 note=84 velocity=0 time=3\n",
      "note_off channel=0 note=96 velocity=0 time=2\n",
      "note_on channel=0 note=76 velocity=0 time=46\n",
      "note_off channel=0 note=88 velocity=0 time=0\n",
      "note_off channel=0 note=52 velocity=0 time=1\n",
      "note_on channel=0 note=90 velocity=0 time=48\n",
      "note_off channel=0 note=76 velocity=0 time=0\n",
      "note_off channel=0 note=96 velocity=0 time=2\n",
      "note_on channel=0 note=35 velocity=0 time=40\n",
      "note_off channel=0 note=90 velocity=0 time=0\n",
      "note_off channel=0 note=90 velocity=0 time=1\n",
      "note_off channel=0 note=73 velocity=0 time=0\n",
      "note_on channel=0 note=87 velocity=0 time=42\n",
      "note_off channel=0 note=35 velocity=0 time=0\n",
      "note_on channel=0 note=84 velocity=0 time=41\n",
      "note_off channel=0 note=87 velocity=0 time=0\n",
      "note_off channel=0 note=83 velocity=0 time=1\n",
      "note_off channel=0 note=49 velocity=0 time=7\n",
      "note_on channel=0 note=77 velocity=0 time=45\n",
      "note_off channel=0 note=84 velocity=0 time=0\n",
      "note_on channel=0 note=49 velocity=0 time=41\n",
      "note_off channel=0 note=77 velocity=0 time=0\n",
      "note_off channel=0 note=90 velocity=0 time=0\n",
      "control_change channel=0 control=64 value=127 time=9\n",
      "control_change channel=0 control=64 value=0 time=0\n",
      "note_on channel=0 note=53 velocity=0 time=41\n",
      "note_off channel=0 note=49 velocity=0 time=0\n",
      "note_off channel=0 note=79 velocity=0 time=1\n",
      "note_on channel=0 note=52 velocity=0 time=45\n",
      "note_off channel=0 note=53 velocity=0 time=0\n",
      "note_on channel=0 note=57 velocity=0 time=41\n",
      "note_off channel=0 note=52 velocity=0 time=0\n",
      "note_off channel=0 note=68 velocity=0 time=1\n",
      "control_change channel=0 control=64 value=0 time=3\n",
      "note_off channel=0 note=64 velocity=0 time=2\n",
      "note_on channel=0 note=77 velocity=0 time=46\n",
      "note_off channel=0 note=57 velocity=0 time=0\n",
      "note_on channel=0 note=83 velocity=0 time=41\n",
      "note_off channel=0 note=77 velocity=0 time=0\n",
      "note_off channel=0 note=38 velocity=0 time=0\n",
      "note_on channel=0 note=68 velocity=0 time=43\n",
      "note_off channel=0 note=83 velocity=0 time=0\n",
      "note_off channel=0 note=84 velocity=0 time=1\n",
      "note_on channel=0 note=57 velocity=0 time=50\n",
      "note_off channel=0 note=68 velocity=0 time=0\n",
      "note_off channel=0 note=65 velocity=0 time=3\n",
      "note_on channel=0 note=53 velocity=0 time=41\n",
      "note_off channel=0 note=57 velocity=0 time=0\n",
      "note_on channel=0 note=49 velocity=0 time=38\n",
      "note_off channel=0 note=53 velocity=0 time=0\n",
      "note_on channel=0 note=71 velocity=0 time=38\n",
      "note_off channel=0 note=49 velocity=0 time=0\n",
      "note_off channel=0 note=75 velocity=0 time=1\n",
      "note_off channel=0 note=64 velocity=0 time=0\n",
      "note_off channel=0 note=54 velocity=0 time=1\n",
      "note_off channel=0 note=73 velocity=0 time=0\n",
      "note_off channel=0 note=57 velocity=0 time=8\n",
      "note_on channel=0 note=81 velocity=0 time=39\n",
      "note_off channel=0 note=71 velocity=0 time=0\n",
      "note_on channel=0 note=67 velocity=0 time=42\n",
      "note_off channel=0 note=81 velocity=0 time=0\n",
      "note_on channel=0 note=66 velocity=0 time=47\n",
      "note_off channel=0 note=67 velocity=0 time=0\n",
      "note_off channel=0 note=45 velocity=0 time=0\n",
      "note_on channel=0 note=50 velocity=0 time=49\n",
      "note_off channel=0 note=66 velocity=0 time=0\n",
      "note_off channel=0 note=79 velocity=0 time=0\n",
      "note_off channel=0 note=72 velocity=0 time=2\n",
      "note_off channel=0 note=49 velocity=0 time=1\n",
      "note_on channel=0 note=80 velocity=0 time=46\n",
      "note_off channel=0 note=50 velocity=0 time=0\n",
      "note_off channel=0 note=78 velocity=0 time=2\n",
      "note_on channel=0 note=73 velocity=0 time=41\n",
      "note_off channel=0 note=80 velocity=0 time=0\n",
      "note_off channel=0 note=71 velocity=0 time=0\n",
      "note_on channel=0 note=87 velocity=0 time=45\n",
      "note_off channel=0 note=73 velocity=0 time=0\n",
      "note_on channel=0 note=73 velocity=0 time=37\n",
      "note_off channel=0 note=87 velocity=0 time=0\n",
      "control_change channel=0 control=64 value=127 time=10\n",
      "note_off channel=0 note=83 velocity=0 time=0\n",
      "note_off channel=0 note=78 velocity=0 time=0\n",
      "note_on channel=0 note=55 velocity=0 time=41\n",
      "note_off channel=0 note=73 velocity=0 time=0\n",
      "control_change channel=0 control=64 value=127 time=1\n",
      "note_on channel=0 note=63 velocity=0 time=39\n",
      "note_off channel=0 note=55 velocity=0 time=0\n",
      "note_off channel=0 note=36 velocity=0 time=0\n",
      "note_off channel=0 note=67 velocity=0 time=1\n",
      "note_on channel=0 note=56 velocity=0 time=48\n",
      "note_off channel=0 note=63 velocity=0 time=0\n",
      "note_on channel=0 note=69 velocity=0 time=38\n",
      "note_off channel=0 note=56 velocity=0 time=0\n",
      "note_off channel=0 note=49 velocity=0 time=0\n",
      "note_off channel=0 note=42 velocity=0 time=0\n",
      "note_on channel=0 note=83 velocity=0 time=40\n",
      "note_off channel=0 note=69 velocity=0 time=0\n",
      "note_off channel=0 note=80 velocity=0 time=1\n",
      "note_off channel=0 note=65 velocity=0 time=6\n",
      "note_off channel=0 note=71 velocity=0 time=0\n",
      "note_off channel=0 note=70 velocity=0 time=0\n",
      "note_on channel=0 note=80 velocity=0 time=50\n",
      "note_off channel=0 note=83 velocity=0 time=0\n",
      "note_off channel=0 note=80 velocity=0 time=3\n",
      "note_off channel=0 note=70 velocity=0 time=1\n",
      "note_on channel=0 note=85 velocity=0 time=46\n",
      "note_off channel=0 note=96 velocity=0 time=2\n",
      "note_on channel=0 note=75 velocity=0 time=43\n",
      "note_off channel=0 note=85 velocity=0 time=0\n",
      "note_on channel=0 note=87 velocity=0 time=41\n",
      "note_off channel=0 note=75 velocity=0 time=0\n",
      "note_off channel=0 note=78 velocity=0 time=0\n",
      "note_on channel=0 note=73 velocity=0 time=46\n",
      "note_off channel=0 note=87 velocity=0 time=0\n",
      "note_on channel=0 note=58 velocity=0 time=43\n",
      "note_off channel=0 note=73 velocity=0 time=0\n",
      "note_off channel=0 note=87 velocity=0 time=3\n",
      "note_on channel=0 note=83 velocity=0 time=42\n",
      "note_off channel=0 note=58 velocity=0 time=0\n",
      "note_off channel=0 note=86 velocity=0 time=4\n",
      "note_on channel=0 note=54 velocity=0 time=44\n",
      "note_off channel=0 note=83 velocity=0 time=0\n",
      "note_off channel=0 note=82 velocity=0 time=2\n",
      "note_on channel=0 note=57 velocity=0 time=44\n",
      "note_off channel=0 note=54 velocity=0 time=0\n",
      "note_off channel=0 note=65 velocity=0 time=1\n",
      "note_off channel=0 note=44 velocity=0 time=0\n",
      "note_on channel=0 note=83 velocity=0 time=41\n",
      "note_off channel=0 note=57 velocity=0 time=0\n",
      "note_off channel=0 note=84 velocity=0 time=1\n",
      "note_on channel=0 note=89 velocity=0 time=42\n",
      "note_off channel=0 note=83 velocity=0 time=0\n",
      "note_on channel=0 note=87 velocity=0 time=41\n",
      "note_off channel=0 note=89 velocity=0 time=0\n",
      "note_off channel=0 note=92 velocity=0 time=1\n",
      "note_on channel=0 note=69 velocity=0 time=38\n",
      "note_off channel=0 note=87 velocity=0 time=0\n",
      "<meta message end_of_track time=0>\n",
      "done\n"
     ]
    }
   ],
   "source": [
    "from mido import Message, MidiFile, MidiTrack, MetaMessage, bpm2tempo\n",
    "\n",
    "midi = MidiFile()\n",
    "output_midi_path = os.getenv('HOME')+'/aiffel/music_transformer/data/output_file5.mid'\n",
    "\n",
    "# Instantiate a MIDI Track (contains a list of MIDI events)\n",
    "track = MidiTrack()\n",
    "track.append(MetaMessage(\"set_tempo\", tempo=bpm2tempo(120)))\n",
    "# Append the track to the pattern\n",
    "midi.tracks.append(track)\n",
    "\n",
    "prev_time = 0\n",
    "pitches = [None for _ in range(128)]\n",
    "for event in event_list:\n",
    "    tick = (event.time - prev_time) // 3\n",
    "    midi.ticks_per_beat = 8\n",
    "    prev_time = event.time\n",
    "\n",
    "    # case NOTE:\n",
    "    if not event.cc:\n",
    "        if event.on:\n",
    "            if pitches[event.note] is not None:\n",
    "                # Instantiate a MIDI note off event, append it to the track\n",
    "                off = Message('note_off', note=event.note, velocity=0, time=0)\n",
    "                track.append(off)\n",
    "                pitches[event.note] = None\n",
    "\n",
    "            # Instantiate a MIDI note on event, append it to the track\n",
    "            on = Message('note_on', note=event.note, velocity=int(event.velocity), time=tick)\n",
    "            track.append(on)\n",
    "            pitches[event.note] = prev_time\n",
    "        else:\n",
    "            # Instantiate a MIDI note off event, append it to the track\n",
    "            off = Message('note_off', note=event.note, velocity=0, time=tick)\n",
    "            track.append(off)\n",
    "            pitches[event.note] = None\n",
    "\n",
    "#     case CC:\n",
    "    elif event.cc:\n",
    "        if event.on:\n",
    "            cc = Message('control_change', control=64, time=tick, value=127)\n",
    "        else:\n",
    "            cc = Message('control_change', control=64, time=tick, value=0)\n",
    "\n",
    "        track.append(cc)\n",
    "\n",
    "    for pitch in range(128):\n",
    "        if pitches[pitch] is not None and pitches[pitch] + 100 < prev_time:\n",
    "            off = Message('note_off', note=pitch, velocity=0, time=0)\n",
    "            track.append(off)\n",
    "            pitches[pitch] = None\n",
    "\n",
    "\n",
    "# Add the end of track event, append it to the track\n",
    "track.append(MetaMessage(\"end_of_track\"))\n",
    "\n",
    "# Save the pattern to disk\n",
    "midi.save(output_midi_path)\n",
    "\n",
    "for i, track in enumerate(midi.tracks):\n",
    "    print('Track {}: {}'.format(i, track.name))\n",
    "    for msg in track:\n",
    "        print(msg)\n",
    "\n",
    "print('done')"
   ]
  },
  {
   "cell_type": "markdown",
   "metadata": {},
   "source": [
    "## Report"
   ]
  },
  {
   "cell_type": "markdown",
   "metadata": {},
   "source": [
    "#### 실험 요약\n",
    "IntervalDim, VelocityDim, NoteOn/Off 총 3개의 파라미터를 변경하며 실험을 진행했습니다.  \n",
    "Interval은 음의 높이 차이입니다. 숫자가 클수록 더 높은 음을 냅니다.  \n",
    "Velocity는 연주하는 강세입니다. 숫자가 작을수록 더 큰 소리가 납니다.  \n",
    "NoteOn/Off는 건반을 누르고 때는 역할입니다. 숫자가 작을수록 삘라집니다. "
   ]
  },
  {
   "cell_type": "markdown",
   "metadata": {},
   "source": [
    "#### 실험 1"
   ]
  },
  {
   "cell_type": "markdown",
   "metadata": {},
   "source": [
    "IntervalDim = 100\n",
    "\n",
    "VelocityDim = 32\n",
    "\n",
    "NoteOnDim = NoteOffDim = 128"
   ]
  },
  {
   "cell_type": "markdown",
   "metadata": {},
   "source": [
    "기본으로 설정한 파라미터 값입니다. 약간 정신없는 음악입니다. "
   ]
  },
  {
   "cell_type": "markdown",
   "metadata": {},
   "source": [
    "#### 실험 2"
   ]
  },
  {
   "cell_type": "markdown",
   "metadata": {
    "id": "Ts7hmSu1LaX3"
   },
   "source": [
    "IntervalDim = 80\n",
    "\n",
    "VelocityDim = 64\n",
    "\n",
    "NoteOnDim = NoteOffDim = 128"
   ]
  },
  {
   "cell_type": "markdown",
   "metadata": {},
   "source": [
    "훨씬 듣기가 편해졌습니다. 음정은 80정도가 적당한 것 같습니다. "
   ]
  },
  {
   "cell_type": "markdown",
   "metadata": {},
   "source": [
    "#### 실험 3"
   ]
  },
  {
   "cell_type": "markdown",
   "metadata": {},
   "source": [
    "IntervalDim = 80\n",
    "\n",
    "VelocityDim = 128\n",
    "\n",
    "NoteOnDim = NoteOffDim = 128"
   ]
  },
  {
   "cell_type": "markdown",
   "metadata": {},
   "source": [
    "velocity를 더 높게 했더니 소리가 많이 작아졌습니다. "
   ]
  },
  {
   "cell_type": "markdown",
   "metadata": {},
   "source": [
    "#### 실험 4"
   ]
  },
  {
   "cell_type": "markdown",
   "metadata": {},
   "source": [
    "IntervalDim = 80\n",
    "\n",
    "VelocityDim = 64\n",
    "\n",
    "NoteOnDim = NoteOffDim = 64"
   ]
  },
  {
   "cell_type": "markdown",
   "metadata": {},
   "source": [
    "NoteOn/Off를 작게했더니 건반속도가 빨라졌습니다. "
   ]
  },
  {
   "cell_type": "markdown",
   "metadata": {},
   "source": [
    "#### 실험 5"
   ]
  },
  {
   "cell_type": "markdown",
   "metadata": {},
   "source": [
    "IntervalDim = 150\n",
    "\n",
    "VelocityDim = 32\n",
    "\n",
    "NoteOnDim = NoteOffDim = 128"
   ]
  },
  {
   "cell_type": "markdown",
   "metadata": {},
   "source": [
    "Interval을 높게 설정했더니 아예 들리지 않았습니다. "
   ]
  },
  {
   "cell_type": "markdown",
   "metadata": {},
   "source": [
    "### 실험 결과"
   ]
  },
  {
   "cell_type": "markdown",
   "metadata": {},
   "source": [
    "개인적으로 잘 생성되었던 음악은 실험 2번의 파일입니다.  \n",
    "아래 링크로 가면 확인할 수 있습니다.  \n",
    "<br>\n",
    "[midi 첨부파일 링크](data/mid/)"
   ]
  }
 ],
 "metadata": {
  "accelerator": "GPU",
  "colab": {
   "collapsed_sections": [],
   "name": "E30.Music_Transformer.ipynb",
   "provenance": []
  },
  "kernelspec": {
   "display_name": "aiffel",
   "language": "python",
   "name": "aiffel"
  },
  "language_info": {
   "codemirror_mode": {
    "name": "ipython",
    "version": 3
   },
   "file_extension": ".py",
   "mimetype": "text/x-python",
   "name": "python",
   "nbconvert_exporter": "python",
   "pygments_lexer": "ipython3",
   "version": "3.7.7"
  }
 },
 "nbformat": 4,
 "nbformat_minor": 1
}
