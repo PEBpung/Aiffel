{
 "cells": [
  {
   "cell_type": "markdown",
   "metadata": {},
   "source": [
    "##  train, validation 데이터셋 구성하기"
   ]
  },
  {
   "cell_type": "code",
   "execution_count": 1,
   "metadata": {
    "ExecuteTime": {
     "end_time": "2020-09-18T09:08:32.745084Z",
     "start_time": "2020-09-18T09:08:06.284803Z"
    },
    "scrolled": true
   },
   "outputs": [
    {
     "name": "stderr",
     "output_type": "stream",
     "text": [
      "100%|██████████| 35887/35887 [00:25<00:00, 1385.76it/s]"
     ]
    },
    {
     "name": "stdout",
     "output_type": "stream",
     "text": [
      "train : 32298, eval :3589\n"
     ]
    },
    {
     "name": "stderr",
     "output_type": "stream",
     "text": [
      "\n"
     ]
    }
   ],
   "source": [
    "import numpy as np\n",
    "import tqdm\n",
    "import os\n",
    "\n",
    "train_x = []\n",
    "train_y = []\n",
    "eval_x = []\n",
    "eval_y = []\n",
    "\n",
    "csv_path = os.getenv('HOME')+'/aiffel/tfjs_mobile/data/fer2013.csv'\n",
    "\n",
    "with open(csv_path) as f:\n",
    "  for line in tqdm.tqdm(f.read().splitlines()[1:]):\n",
    "    emotion, pixels, usage = line.split(',')\n",
    "    \n",
    "    x = np.array(pixels.split(' ')).astype(float).reshape(48, 48, 1) / 255\n",
    "    y = int(emotion)\n",
    "\n",
    "    if usage == 'PrivateTest':\n",
    "      eval_x.append(x)\n",
    "      eval_y.append(y)\n",
    "    else:\n",
    "      train_x.append(x)\n",
    "      train_y.append(y)\n",
    "\n",
    "print('train : {}, eval :{}'.format(len(train_x), len(eval_x)))"
   ]
  },
  {
   "cell_type": "code",
   "execution_count": null,
   "metadata": {
    "ExecuteTime": {
     "end_time": "2020-09-18T09:08:53.108728Z",
     "start_time": "2020-09-18T09:08:06.757Z"
    }
   },
   "outputs": [],
   "source": [
    "def plot_curve(epochs, hist, list_of_metrics):\n",
    "    \n",
    "    fig, ax = plt.subplots(1,2,figsize = (12, 8))\n",
    "    \n",
    "    for i in range(len(ax)):\n",
    "        ax[i].set_xlabel('Epochs')\n",
    "        ax[i].set_ylabel('Value')\n",
    "        \n",
    "        for n in range(len(list_of_metrics)):\n",
    "            if i == 0:\n",
    "                y = hist[list_of_metrics[n]]\n",
    "                if n == 0:\n",
    "                    ax[i].plot(epochs, y, label=\"train\")\n",
    "                else:\n",
    "                    ax[i].plot(epochs, y, label=\"val\")\n",
    "                ax[i].set_title('Loss')\n",
    "                ax[i].legend(loc='upper right')\n",
    "                if n == 1:\n",
    "                    break\n",
    "            else:\n",
    "                if n >= 2:\n",
    "                    y = hist[list_of_metrics[n]]\n",
    "                    if n == 2:\n",
    "                        ax[i].plot(epochs, y, label=\"train\")\n",
    "                    else:\n",
    "                        ax[i].plot(epochs, y, label=\"val\")\n",
    "                    ax[i].set_title('Accuracy')\n",
    "                    ax[i].legend(loc='lower right')\n",
    "                    \n",
    "    plt.show()"
   ]
  },
  {
   "cell_type": "markdown",
   "metadata": {},
   "source": [
    "## 첫번째 데이터의 이미지와 라벨 값을 확인"
   ]
  },
  {
   "cell_type": "code",
   "execution_count": 3,
   "metadata": {
    "ExecuteTime": {
     "end_time": "2020-09-16T09:00:45.560939Z",
     "start_time": "2020-09-16T09:00:45.438896Z"
    }
   },
   "outputs": [
    {
     "data": {
      "text/plain": [
       "(32298, 48, 48, 1)"
      ]
     },
     "execution_count": 3,
     "metadata": {},
     "output_type": "execute_result"
    }
   ],
   "source": [
    "np.shape(train_x)"
   ]
  },
  {
   "cell_type": "code",
   "execution_count": 4,
   "metadata": {
    "ExecuteTime": {
     "end_time": "2020-09-16T09:01:09.278555Z",
     "start_time": "2020-09-16T09:01:09.041320Z"
    },
    "scrolled": true
   },
   "outputs": [
    {
     "name": "stdout",
     "output_type": "stream",
     "text": [
      "Angry\n"
     ]
    },
    {
     "data": {
      "text/plain": [
       "<matplotlib.image.AxesImage at 0x7f6f7c0b4890>"
      ]
     },
     "execution_count": 4,
     "metadata": {},
     "output_type": "execute_result"
    },
    {
     "data": {
      "image/png": "[encoded data removed]",
      "text/plain": [
       "<Figure size 432x288 with 1 Axes>"
      ]
     },
     "metadata": {
      "needs_background": "light"
     },
     "output_type": "display_data"
    }
   ],
   "source": [
    "from matplotlib import pyplot as plt\n",
    "\n",
    "LABELS = ['Angry', 'Disgust', 'Fear', 'Happy', 'Sad', 'Surprise', 'Neutral']\n",
    "\n",
    "print(LABELS[train_y[0]])\n",
    "plt.imshow(train_x[0].reshape([48, 48]), cmap='gray')"
   ]
  },
  {
   "cell_type": "markdown",
   "metadata": {},
   "source": [
    "##  MobileNet 모델 학습하기"
   ]
  },
  {
   "cell_type": "code",
   "execution_count": 5,
   "metadata": {
    "ExecuteTime": {
     "end_time": "2020-09-16T09:01:34.983986Z",
     "start_time": "2020-09-16T09:01:33.072332Z"
    }
   },
   "outputs": [],
   "source": [
    "from tensorflow.keras.callbacks import EarlyStopping, ReduceLROnPlateau"
   ]
  },
  {
   "cell_type": "code",
   "execution_count": 7,
   "metadata": {
    "ExecuteTime": {
     "end_time": "2020-09-16T09:31:13.767990Z",
     "start_time": "2020-09-16T09:05:26.645844Z"
    }
   },
   "outputs": [
    {
     "name": "stdout",
     "output_type": "stream",
     "text": [
      "Epoch 1/100\n",
      "1010/1010 [==============================] - 99s 98ms/step - loss: 1.7794 - categorical_accuracy: 0.2764 - val_loss: 1.9171 - val_categorical_accuracy: 0.1471 - lr: 0.0010\n",
      "Epoch 2/100\n",
      "1010/1010 [==============================] - 15s 15ms/step - loss: 1.5817 - categorical_accuracy: 0.3892 - val_loss: 1.9017 - val_categorical_accuracy: 0.1471 - lr: 0.0010\n",
      "Epoch 3/100\n",
      "1010/1010 [==============================] - 15s 15ms/step - loss: 1.4727 - categorical_accuracy: 0.4323 - val_loss: 1.8541 - val_categorical_accuracy: 0.1471 - lr: 0.0010\n",
      "Epoch 4/100\n",
      "1010/1010 [==============================] - 15s 15ms/step - loss: 1.3986 - categorical_accuracy: 0.4609 - val_loss: 1.8265 - val_categorical_accuracy: 0.2641 - lr: 0.0010\n",
      "Epoch 5/100\n",
      "1010/1010 [==============================] - 15s 15ms/step - loss: 1.3349 - categorical_accuracy: 0.4934 - val_loss: 1.5415 - val_categorical_accuracy: 0.3957 - lr: 0.0010\n",
      "Epoch 6/100\n",
      "1010/1010 [==============================] - 15s 15ms/step - loss: 1.2778 - categorical_accuracy: 0.5179 - val_loss: 1.6382 - val_categorical_accuracy: 0.4918 - lr: 0.0010\n",
      "Epoch 7/100\n",
      "1010/1010 [==============================] - 14s 14ms/step - loss: 1.2348 - categorical_accuracy: 0.5301 - val_loss: 3.1311 - val_categorical_accuracy: 0.4455 - lr: 0.0010\n",
      "Epoch 8/100\n",
      "1010/1010 [==============================] - 14s 14ms/step - loss: 1.1973 - categorical_accuracy: 0.5484 - val_loss: 1.7900 - val_categorical_accuracy: 0.4857 - lr: 0.0010\n",
      "Epoch 9/100\n",
      "1010/1010 [==============================] - 14s 14ms/step - loss: 1.1389 - categorical_accuracy: 0.5706 - val_loss: 1.6426 - val_categorical_accuracy: 0.4968 - lr: 0.0010\n",
      "Epoch 10/100\n",
      "1010/1010 [==============================] - 14s 14ms/step - loss: 1.0491 - categorical_accuracy: 0.6077 - val_loss: 1.7490 - val_categorical_accuracy: 0.5021 - lr: 8.0000e-04\n",
      "Epoch 11/100\n",
      "1010/1010 [==============================] - 14s 14ms/step - loss: 0.9982 - categorical_accuracy: 0.6285 - val_loss: 1.5301 - val_categorical_accuracy: 0.5235 - lr: 8.0000e-04\n",
      "Epoch 12/100\n",
      "1010/1010 [==============================] - 14s 14ms/step - loss: 0.9541 - categorical_accuracy: 0.6452 - val_loss: 1.7530 - val_categorical_accuracy: 0.5157 - lr: 8.0000e-04\n",
      "Epoch 13/100\n",
      "1010/1010 [==============================] - 14s 14ms/step - loss: 0.8970 - categorical_accuracy: 0.6681 - val_loss: 1.5546 - val_categorical_accuracy: 0.5302 - lr: 8.0000e-04\n",
      "Epoch 14/100\n",
      "1010/1010 [==============================] - 15s 15ms/step - loss: 0.8523 - categorical_accuracy: 0.6877 - val_loss: 1.5485 - val_categorical_accuracy: 0.5213 - lr: 8.0000e-04\n",
      "Epoch 15/100\n",
      "1010/1010 [==============================] - 15s 15ms/step - loss: 0.8378 - categorical_accuracy: 0.6925 - val_loss: 1.5028 - val_categorical_accuracy: 0.5358 - lr: 8.0000e-04\n",
      "Epoch 16/100\n",
      "1010/1010 [==============================] - 15s 15ms/step - loss: 0.7631 - categorical_accuracy: 0.7210 - val_loss: 1.6108 - val_categorical_accuracy: 0.5191 - lr: 8.0000e-04\n",
      "Epoch 17/100\n",
      "1010/1010 [==============================] - 15s 15ms/step - loss: 0.7260 - categorical_accuracy: 0.7351 - val_loss: 1.6570 - val_categorical_accuracy: 0.5378 - lr: 8.0000e-04\n",
      "Epoch 18/100\n",
      "1010/1010 [==============================] - 15s 15ms/step - loss: 0.6797 - categorical_accuracy: 0.7532 - val_loss: 1.4833 - val_categorical_accuracy: 0.5492 - lr: 8.0000e-04\n",
      "Epoch 19/100\n",
      "1010/1010 [==============================] - 14s 14ms/step - loss: 0.7108 - categorical_accuracy: 0.7412 - val_loss: 1.6692 - val_categorical_accuracy: 0.5358 - lr: 8.0000e-04\n",
      "Epoch 20/100\n",
      "1010/1010 [==============================] - 14s 14ms/step - loss: 0.6578 - categorical_accuracy: 0.7605 - val_loss: 1.5794 - val_categorical_accuracy: 0.5297 - lr: 8.0000e-04\n",
      "Epoch 21/100\n",
      "1010/1010 [==============================] - 14s 13ms/step - loss: 0.5948 - categorical_accuracy: 0.7850 - val_loss: 1.6044 - val_categorical_accuracy: 0.5561 - lr: 8.0000e-04\n",
      "Epoch 22/100\n",
      "1010/1010 [==============================] - 13s 13ms/step - loss: 0.5485 - categorical_accuracy: 0.8009 - val_loss: 1.8521 - val_categorical_accuracy: 0.5403 - lr: 8.0000e-04\n",
      "Epoch 23/100\n",
      "1010/1010 [==============================] - 14s 14ms/step - loss: 0.4547 - categorical_accuracy: 0.8371 - val_loss: 1.6371 - val_categorical_accuracy: 0.5740 - lr: 6.4000e-04\n",
      "Epoch 24/100\n",
      "1010/1010 [==============================] - 13s 13ms/step - loss: 0.4120 - categorical_accuracy: 0.8526 - val_loss: 1.7388 - val_categorical_accuracy: 0.5556 - lr: 6.4000e-04\n",
      "Epoch 25/100\n",
      "1010/1010 [==============================] - 13s 13ms/step - loss: 0.3702 - categorical_accuracy: 0.8694 - val_loss: 1.7960 - val_categorical_accuracy: 0.5612 - lr: 6.4000e-04\n",
      "Epoch 26/100\n",
      "1010/1010 [==============================] - 13s 13ms/step - loss: 0.3576 - categorical_accuracy: 0.8716 - val_loss: 1.8180 - val_categorical_accuracy: 0.5717 - lr: 6.4000e-04\n",
      "Epoch 27/100\n",
      "1010/1010 [==============================] - 13s 13ms/step - loss: 0.2721 - categorical_accuracy: 0.9045 - val_loss: 1.9137 - val_categorical_accuracy: 0.5676 - lr: 5.1200e-04\n",
      "Epoch 28/100\n",
      "1010/1010 [==============================] - 13s 13ms/step - loss: 0.2463 - categorical_accuracy: 0.9131 - val_loss: 1.9655 - val_categorical_accuracy: 0.5617 - lr: 5.1200e-04\n",
      "Epoch 29/100\n",
      "1010/1010 [==============================] - 13s 13ms/step - loss: 0.2354 - categorical_accuracy: 0.9169 - val_loss: 2.0054 - val_categorical_accuracy: 0.5712 - lr: 5.1200e-04\n",
      "Epoch 30/100\n",
      "1010/1010 [==============================] - 14s 14ms/step - loss: 0.2095 - categorical_accuracy: 0.9260 - val_loss: 2.0662 - val_categorical_accuracy: 0.5667 - lr: 5.1200e-04\n",
      "Epoch 31/100\n",
      "1010/1010 [==============================] - 14s 14ms/step - loss: 0.1584 - categorical_accuracy: 0.9451 - val_loss: 2.1356 - val_categorical_accuracy: 0.5595 - lr: 4.0960e-04\n",
      "Epoch 32/100\n",
      "1010/1010 [==============================] - 13s 13ms/step - loss: 0.1437 - categorical_accuracy: 0.9502 - val_loss: 2.2269 - val_categorical_accuracy: 0.5678 - lr: 4.0960e-04\n",
      "Epoch 33/100\n",
      "1010/1010 [==============================] - 13s 13ms/step - loss: 0.1364 - categorical_accuracy: 0.9523 - val_loss: 2.3820 - val_categorical_accuracy: 0.5575 - lr: 4.0960e-04\n",
      "Epoch 34/100\n",
      "1010/1010 [==============================] - 14s 13ms/step - loss: 0.1357 - categorical_accuracy: 0.9530 - val_loss: 2.3520 - val_categorical_accuracy: 0.5706 - lr: 4.0960e-04\n",
      "Epoch 35/100\n",
      "1010/1010 [==============================] - 14s 14ms/step - loss: 0.1043 - categorical_accuracy: 0.9637 - val_loss: 2.3744 - val_categorical_accuracy: 0.5804 - lr: 3.2768e-04\n",
      "Epoch 36/100\n",
      "1010/1010 [==============================] - 13s 13ms/step - loss: 0.0894 - categorical_accuracy: 0.9691 - val_loss: 2.4595 - val_categorical_accuracy: 0.5804 - lr: 3.2768e-04\n",
      "Epoch 37/100\n",
      "1010/1010 [==============================] - 14s 14ms/step - loss: 0.0823 - categorical_accuracy: 0.9713 - val_loss: 2.5166 - val_categorical_accuracy: 0.5743 - lr: 3.2768e-04\n",
      "Epoch 38/100\n",
      "1010/1010 [==============================] - 13s 13ms/step - loss: 0.0905 - categorical_accuracy: 0.9698 - val_loss: 2.6211 - val_categorical_accuracy: 0.5645 - lr: 3.2768e-04\n",
      "Epoch 39/100\n",
      "1010/1010 [==============================] - 13s 13ms/step - loss: 0.0704 - categorical_accuracy: 0.9767 - val_loss: 2.6392 - val_categorical_accuracy: 0.5734 - lr: 2.6214e-04\n",
      "Epoch 40/100\n",
      "1010/1010 [==============================] - 13s 12ms/step - loss: 0.0618 - categorical_accuracy: 0.9789 - val_loss: 2.6486 - val_categorical_accuracy: 0.5804 - lr: 2.6214e-04\n",
      "Epoch 41/100\n",
      "1010/1010 [==============================] - 13s 13ms/step - loss: 0.0532 - categorical_accuracy: 0.9821 - val_loss: 2.8530 - val_categorical_accuracy: 0.5734 - lr: 2.6214e-04\n",
      "Epoch 42/100\n",
      "1010/1010 [==============================] - 14s 13ms/step - loss: 0.0635 - categorical_accuracy: 0.9775 - val_loss: 2.7087 - val_categorical_accuracy: 0.5770 - lr: 2.6214e-04\n",
      "Epoch 43/100\n",
      "1010/1010 [==============================] - 14s 14ms/step - loss: 0.0449 - categorical_accuracy: 0.9846 - val_loss: 2.8392 - val_categorical_accuracy: 0.5790 - lr: 2.0972e-04\n",
      "Epoch 44/100\n",
      "1010/1010 [==============================] - 14s 14ms/step - loss: 0.0395 - categorical_accuracy: 0.9870 - val_loss: 2.9295 - val_categorical_accuracy: 0.5782 - lr: 2.0972e-04\n",
      "Epoch 45/100\n",
      "1010/1010 [==============================] - 14s 14ms/step - loss: 0.0452 - categorical_accuracy: 0.9838 - val_loss: 2.9712 - val_categorical_accuracy: 0.5804 - lr: 2.0972e-04\n",
      "Epoch 46/100\n",
      "1010/1010 [==============================] - 14s 14ms/step - loss: 0.0403 - categorical_accuracy: 0.9856 - val_loss: 2.9549 - val_categorical_accuracy: 0.5779 - lr: 2.0972e-04\n",
      "Epoch 47/100\n",
      "1010/1010 [==============================] - 14s 14ms/step - loss: 0.0311 - categorical_accuracy: 0.9895 - val_loss: 3.0385 - val_categorical_accuracy: 0.5812 - lr: 1.6777e-04\n",
      "Epoch 48/100\n",
      "1010/1010 [==============================] - 14s 14ms/step - loss: 0.0302 - categorical_accuracy: 0.9895 - val_loss: 3.1056 - val_categorical_accuracy: 0.5762 - lr: 1.6777e-04\n",
      "Epoch 49/100\n",
      "1010/1010 [==============================] - 14s 13ms/step - loss: 0.0306 - categorical_accuracy: 0.9896 - val_loss: 3.0876 - val_categorical_accuracy: 0.5840 - lr: 1.6777e-04\n",
      "Epoch 50/100\n",
      "1010/1010 [==============================] - 13s 13ms/step - loss: 0.0282 - categorical_accuracy: 0.9898 - val_loss: 3.0613 - val_categorical_accuracy: 0.5851 - lr: 1.6777e-04\n",
      "Epoch 51/100\n",
      "1010/1010 [==============================] - 13s 13ms/step - loss: 0.0246 - categorical_accuracy: 0.9918 - val_loss: 3.2111 - val_categorical_accuracy: 0.5854 - lr: 1.3422e-04\n",
      "Epoch 52/100\n",
      "1010/1010 [==============================] - 13s 13ms/step - loss: 0.0237 - categorical_accuracy: 0.9914 - val_loss: 3.2177 - val_categorical_accuracy: 0.5890 - lr: 1.3422e-04\n",
      "Epoch 53/100\n",
      "1010/1010 [==============================] - 13s 13ms/step - loss: 0.0220 - categorical_accuracy: 0.9928 - val_loss: 3.2695 - val_categorical_accuracy: 0.5812 - lr: 1.3422e-04\n",
      "Epoch 54/100\n",
      "1010/1010 [==============================] - 13s 13ms/step - loss: 0.0222 - categorical_accuracy: 0.9917 - val_loss: 3.2697 - val_categorical_accuracy: 0.5768 - lr: 1.3422e-04\n",
      "Epoch 55/100\n",
      "1010/1010 [==============================] - 13s 13ms/step - loss: 0.0179 - categorical_accuracy: 0.9937 - val_loss: 3.3769 - val_categorical_accuracy: 0.5787 - lr: 1.0737e-04\n",
      "Epoch 56/100\n",
      "1010/1010 [==============================] - 13s 13ms/step - loss: 0.0189 - categorical_accuracy: 0.9931 - val_loss: 3.3143 - val_categorical_accuracy: 0.5843 - lr: 1.0737e-04\n",
      "Epoch 57/100\n",
      "1010/1010 [==============================] - 13s 13ms/step - loss: 0.0161 - categorical_accuracy: 0.9938 - val_loss: 3.4680 - val_categorical_accuracy: 0.5851 - lr: 1.0737e-04\n",
      "Epoch 58/100\n",
      "1010/1010 [==============================] - 14s 14ms/step - loss: 0.0133 - categorical_accuracy: 0.9952 - val_loss: 3.5501 - val_categorical_accuracy: 0.5876 - lr: 1.0737e-04\n",
      "Epoch 59/100\n",
      "1010/1010 [==============================] - 14s 14ms/step - loss: 0.0174 - categorical_accuracy: 0.9936 - val_loss: 3.4498 - val_categorical_accuracy: 0.5868 - lr: 1.0000e-04\n",
      "Epoch 60/100\n",
      "1010/1010 [==============================] - 14s 14ms/step - loss: 0.0137 - categorical_accuracy: 0.9947 - val_loss: 3.5531 - val_categorical_accuracy: 0.5868 - lr: 1.0000e-04\n",
      "Epoch 61/100\n",
      "1010/1010 [==============================] - 14s 14ms/step - loss: 0.0156 - categorical_accuracy: 0.9941 - val_loss: 3.5435 - val_categorical_accuracy: 0.5882 - lr: 1.0000e-04\n",
      "Epoch 62/100\n",
      "1010/1010 [==============================] - 14s 14ms/step - loss: 0.0122 - categorical_accuracy: 0.9954 - val_loss: 3.5679 - val_categorical_accuracy: 0.5815 - lr: 1.0000e-04\n",
      "Epoch 63/100\n",
      "1010/1010 [==============================] - 14s 14ms/step - loss: 0.0136 - categorical_accuracy: 0.9945 - val_loss: 3.6010 - val_categorical_accuracy: 0.5793 - lr: 1.0000e-04\n",
      "Epoch 64/100\n",
      "1010/1010 [==============================] - 14s 14ms/step - loss: 0.0155 - categorical_accuracy: 0.9941 - val_loss: 3.6285 - val_categorical_accuracy: 0.5801 - lr: 1.0000e-04\n",
      "Epoch 65/100\n",
      "1010/1010 [==============================] - 14s 14ms/step - loss: 0.0152 - categorical_accuracy: 0.9940 - val_loss: 3.5622 - val_categorical_accuracy: 0.5846 - lr: 1.0000e-04\n",
      "Epoch 66/100\n",
      "1010/1010 [==============================] - 14s 14ms/step - loss: 0.0157 - categorical_accuracy: 0.9941 - val_loss: 3.6865 - val_categorical_accuracy: 0.5770 - lr: 1.0000e-04\n",
      "Epoch 67/100\n",
      "1010/1010 [==============================] - 14s 14ms/step - loss: 0.0146 - categorical_accuracy: 0.9946 - val_loss: 3.6411 - val_categorical_accuracy: 0.5782 - lr: 1.0000e-04\n",
      "Epoch 68/100\n",
      "1010/1010 [==============================] - 14s 14ms/step - loss: 0.0144 - categorical_accuracy: 0.9938 - val_loss: 3.5170 - val_categorical_accuracy: 0.5854 - lr: 1.0000e-04\n",
      "Epoch 69/100\n",
      "1010/1010 [==============================] - 14s 14ms/step - loss: 0.0145 - categorical_accuracy: 0.9946 - val_loss: 3.5041 - val_categorical_accuracy: 0.5809 - lr: 1.0000e-04\n",
      "Epoch 70/100\n",
      "1010/1010 [==============================] - 14s 14ms/step - loss: 0.0126 - categorical_accuracy: 0.9952 - val_loss: 3.5866 - val_categorical_accuracy: 0.5821 - lr: 1.0000e-04\n",
      "Epoch 71/100\n",
      "1010/1010 [==============================] - 14s 14ms/step - loss: 0.0127 - categorical_accuracy: 0.9951 - val_loss: 3.6421 - val_categorical_accuracy: 0.5818 - lr: 1.0000e-04\n",
      "Epoch 72/100\n",
      "1010/1010 [==============================] - 14s 14ms/step - loss: 0.0158 - categorical_accuracy: 0.9937 - val_loss: 3.6041 - val_categorical_accuracy: 0.5840 - lr: 1.0000e-04\n",
      "Epoch 73/100\n",
      "1010/1010 [==============================] - 14s 14ms/step - loss: 0.0153 - categorical_accuracy: 0.9939 - val_loss: 3.6094 - val_categorical_accuracy: 0.5795 - lr: 1.0000e-04\n",
      "Epoch 74/100\n",
      "1010/1010 [==============================] - 14s 14ms/step - loss: 0.0134 - categorical_accuracy: 0.9944 - val_loss: 3.6421 - val_categorical_accuracy: 0.5745 - lr: 1.0000e-04\n",
      "Epoch 75/100\n",
      "1010/1010 [==============================] - 14s 14ms/step - loss: 0.0127 - categorical_accuracy: 0.9950 - val_loss: 3.6079 - val_categorical_accuracy: 0.5848 - lr: 1.0000e-04\n",
      "Epoch 76/100\n",
      "1010/1010 [==============================] - 14s 13ms/step - loss: 0.0116 - categorical_accuracy: 0.9955 - val_loss: 3.7106 - val_categorical_accuracy: 0.5759 - lr: 1.0000e-04\n",
      "Epoch 77/100\n",
      "1010/1010 [==============================] - 14s 14ms/step - loss: 0.0147 - categorical_accuracy: 0.9948 - val_loss: 3.6276 - val_categorical_accuracy: 0.5801 - lr: 1.0000e-04\n",
      "Epoch 78/100\n",
      "1010/1010 [==============================] - 14s 14ms/step - loss: 0.0125 - categorical_accuracy: 0.9951 - val_loss: 3.7337 - val_categorical_accuracy: 0.5854 - lr: 1.0000e-04\n",
      "Epoch 79/100\n",
      "1010/1010 [==============================] - 14s 14ms/step - loss: 0.0127 - categorical_accuracy: 0.9950 - val_loss: 3.7243 - val_categorical_accuracy: 0.5857 - lr: 1.0000e-04\n",
      "Epoch 80/100\n",
      "1010/1010 [==============================] - 14s 14ms/step - loss: 0.0136 - categorical_accuracy: 0.9947 - val_loss: 3.7687 - val_categorical_accuracy: 0.5862 - lr: 1.0000e-04\n",
      "Epoch 81/100\n",
      "1010/1010 [==============================] - 14s 14ms/step - loss: 0.0128 - categorical_accuracy: 0.9948 - val_loss: 3.7547 - val_categorical_accuracy: 0.5837 - lr: 1.0000e-04\n",
      "Epoch 82/100\n",
      "1010/1010 [==============================] - 14s 14ms/step - loss: 0.0142 - categorical_accuracy: 0.9944 - val_loss: 3.7359 - val_categorical_accuracy: 0.5807 - lr: 1.0000e-04\n",
      "Epoch 83/100\n",
      "1010/1010 [==============================] - 14s 14ms/step - loss: 0.0122 - categorical_accuracy: 0.9946 - val_loss: 3.7108 - val_categorical_accuracy: 0.5784 - lr: 1.0000e-04\n",
      "Epoch 84/100\n",
      "1010/1010 [==============================] - 14s 14ms/step - loss: 0.0140 - categorical_accuracy: 0.9944 - val_loss: 3.7726 - val_categorical_accuracy: 0.5812 - lr: 1.0000e-04\n",
      "Epoch 85/100\n",
      "1010/1010 [==============================] - 13s 13ms/step - loss: 0.0142 - categorical_accuracy: 0.9948 - val_loss: 3.6498 - val_categorical_accuracy: 0.5846 - lr: 1.0000e-04\n",
      "Epoch 86/100\n",
      "1010/1010 [==============================] - 12s 12ms/step - loss: 0.0123 - categorical_accuracy: 0.9950 - val_loss: 3.6781 - val_categorical_accuracy: 0.5793 - lr: 1.0000e-04\n",
      "Epoch 87/100\n"
     ]
    },
    {
     "name": "stdout",
     "output_type": "stream",
     "text": [
      "1010/1010 [==============================] - 13s 12ms/step - loss: 0.0135 - categorical_accuracy: 0.9946 - val_loss: 3.7063 - val_categorical_accuracy: 0.5801 - lr: 1.0000e-04\n",
      "Epoch 88/100\n",
      "1010/1010 [==============================] - 12s 12ms/step - loss: 0.0117 - categorical_accuracy: 0.9950 - val_loss: 3.8129 - val_categorical_accuracy: 0.5798 - lr: 1.0000e-04\n",
      "Epoch 89/100\n",
      "1010/1010 [==============================] - 13s 13ms/step - loss: 0.0117 - categorical_accuracy: 0.9952 - val_loss: 3.8338 - val_categorical_accuracy: 0.5801 - lr: 1.0000e-04\n",
      "Epoch 90/100\n",
      "1010/1010 [==============================] - 13s 13ms/step - loss: 0.0132 - categorical_accuracy: 0.9948 - val_loss: 3.7016 - val_categorical_accuracy: 0.5832 - lr: 1.0000e-04\n",
      "Epoch 91/100\n",
      "1010/1010 [==============================] - 13s 13ms/step - loss: 0.0114 - categorical_accuracy: 0.9955 - val_loss: 3.7622 - val_categorical_accuracy: 0.5865 - lr: 1.0000e-04\n",
      "Epoch 92/100\n",
      "1010/1010 [==============================] - 14s 13ms/step - loss: 0.0159 - categorical_accuracy: 0.9938 - val_loss: 3.7085 - val_categorical_accuracy: 0.5804 - lr: 1.0000e-04\n",
      "Epoch 93/100\n",
      "1010/1010 [==============================] - 13s 13ms/step - loss: 0.0122 - categorical_accuracy: 0.9953 - val_loss: 3.6856 - val_categorical_accuracy: 0.5776 - lr: 1.0000e-04\n",
      "Epoch 94/100\n",
      "1010/1010 [==============================] - 14s 13ms/step - loss: 0.0115 - categorical_accuracy: 0.9954 - val_loss: 3.6128 - val_categorical_accuracy: 0.5784 - lr: 1.0000e-04\n",
      "Epoch 95/100\n",
      "1010/1010 [==============================] - 14s 13ms/step - loss: 0.0140 - categorical_accuracy: 0.9944 - val_loss: 3.6959 - val_categorical_accuracy: 0.5829 - lr: 1.0000e-04\n",
      "Epoch 96/100\n",
      "1010/1010 [==============================] - 14s 14ms/step - loss: 0.0128 - categorical_accuracy: 0.9942 - val_loss: 3.8043 - val_categorical_accuracy: 0.5860 - lr: 1.0000e-04\n",
      "Epoch 97/100\n",
      "1010/1010 [==============================] - 13s 13ms/step - loss: 0.0144 - categorical_accuracy: 0.9945 - val_loss: 3.7099 - val_categorical_accuracy: 0.5887 - lr: 1.0000e-04\n",
      "Epoch 98/100\n",
      "1010/1010 [==============================] - 14s 14ms/step - loss: 0.0147 - categorical_accuracy: 0.9944 - val_loss: 3.7415 - val_categorical_accuracy: 0.5887 - lr: 1.0000e-04\n",
      "Epoch 99/100\n",
      "1010/1010 [==============================] - 14s 14ms/step - loss: 0.0118 - categorical_accuracy: 0.9954 - val_loss: 3.6288 - val_categorical_accuracy: 0.5885 - lr: 1.0000e-04\n",
      "Epoch 100/100\n",
      "1010/1010 [==============================] - 13s 13ms/step - loss: 0.0104 - categorical_accuracy: 0.9956 - val_loss: 3.8565 - val_categorical_accuracy: 0.5759 - lr: 1.0000e-04\n"
     ]
    },
    {
     "data": {
      "image/png": "[encoded data removed]",
      "text/plain": [
       "<Figure size 864x576 with 2 Axes>"
      ]
     },
     "metadata": {
      "needs_background": "light"
     },
     "output_type": "display_data"
    }
   ],
   "source": [
    "import tensorflow as tf\n",
    "\n",
    "# model 선언 \n",
    "model = tf.keras.applications.MobileNetV2(input_shape=(48, 48, 1), weights=None, classes=7)\n",
    "\n",
    "# model.compile\n",
    "model.compile(optimizer=tf.keras.optimizers.Adam(lr=0.001, beta_1=0.9, beta_2=0.999, epsilon=1e-07),\n",
    "              loss=tf.keras.losses.CategoricalCrossentropy(),\n",
    "              metrics=[tf.keras.metrics.CategoricalAccuracy()])\n",
    "\n",
    "rlp = ReduceLROnPlateau(monitor='val_loss', patience=4, factor=0.8, min_lr=0.0001)\n",
    "\n",
    "#model.fit\n",
    "history = model.fit(np.stack(train_x),\n",
    "          tf.keras.utils.to_categorical(train_y),\n",
    "          epochs=100,\n",
    "          batch_size=32,\n",
    "          validation_data=(np.stack(eval_x),\n",
    "                           tf.keras.utils.to_categorical(eval_y)),\n",
    "          callbacks=[rlp]\n",
    "         )\n",
    "\n",
    "plot_curve(history.epoch, history.history, ['loss', 'val_loss', 'categorical_accuracy', 'val_categorical_accuracy'])"
   ]
  },
  {
   "cell_type": "code",
   "execution_count": null,
   "metadata": {},
   "outputs": [],
   "source": [
    "import os\n",
    "model_path = os.getenv('HOME')+'/repo/tfjs_mobile/model.h5'\n",
    "model.save(model_path)"
   ]
  },
  {
   "cell_type": "markdown",
   "metadata": {},
   "source": [
    "## 마무리"
   ]
  },
  {
   "cell_type": "markdown",
   "metadata": {},
   "source": [
    "### 현재 버전의 모바일 웹앱의 문제점"
   ]
  },
  {
   "cell_type": "markdown",
   "metadata": {},
   "source": [
    "1. 얼굴 영역이 아닌 사진 중 임의로 설정한 부분을 검출한다.  \n",
    "    - 사진에서 얼굴이 중앙이 아닌 측면에 있을 때 얼굴이 아닌 배경을 대상으로 Detect한다.\n",
    "    - 학습 데이터는 얼굴 위주의 사진으로 학습했지만, 얼굴 이외의 배경이 들어가면 성능이 떨어진다.\n",
    "2. 웹앱이 디자인이 사용자 친화적이지 않다.  \n",
    "    - 감정의 LABELS가 한정적이다.  \n",
    "    - UI가 친절하지 못하다.\n",
    "3. 정확도가 50% 보다 낮다.  \n",
    "    - 확률이 반도 안돼서 신빙성이 없어보인다.  "
   ]
  },
  {
   "cell_type": "markdown",
   "metadata": {},
   "source": [
    "### 개선을 위한 해결 방안"
   ]
  },
  {
   "cell_type": "markdown",
   "metadata": {},
   "source": [
    "1. 얼굴 영역을 인식해주는 `face_recognition` 모듈을 사용해서, 얼굴영역을 잘라준다.  \n",
    "<br> \n",
    "\n",
    "2. 노드에서 언급된 `google-facial-expression`의 정제된 감정 데이터를 사용한다.\n",
    "<br>\n",
    "\n",
    "3. 감정 분석에 사용하는 모델을 바꿔본다.\n",
    "<br>\n",
    "\n",
    "4. 데이터 전처리에 더 신경을 쓰고, 추가로 noise 섞인 이미지를 generate한다. "
   ]
  },
  {
   "cell_type": "markdown",
   "metadata": {},
   "source": [
    "### 웹앱 url"
   ]
  },
  {
   "cell_type": "markdown",
   "metadata": {},
   "source": [
    "https://pebpung.github.io/tfjs_mobile/"
   ]
  }
 ],
 "metadata": {
  "kernelspec": {
   "display_name": "aiffel",
   "language": "python",
   "name": "aiffel"
  },
  "language_info": {
   "codemirror_mode": {
    "name": "ipython",
    "version": 3
   },
   "file_extension": ".py",
   "mimetype": "text/x-python",
   "name": "python",
   "nbconvert_exporter": "python",
   "pygments_lexer": "ipython3",
   "version": "3.7.6"
  },
  "toc": {
   "base_numbering": 1,
   "nav_menu": {},
   "number_sections": true,
   "sideBar": true,
   "skip_h1_title": false,
   "title_cell": "Table of Contents",
   "title_sidebar": "Contents",
   "toc_cell": false,
   "toc_position": {},
   "toc_section_display": true,
   "toc_window_display": false
  },
  "varInspector": {
   "cols": {
    "lenName": 16,
    "lenType": 16,
    "lenVar": 40
   },
   "kernels_config": {
    "python": {
     "delete_cmd_postfix": "",
     "delete_cmd_prefix": "del ",
     "library": "var_list.py",
     "varRefreshCmd": "print(var_dic_list())"
    },
    "r": {
     "delete_cmd_postfix": ") ",
     "delete_cmd_prefix": "rm(",
     "library": "var_list.r",
     "varRefreshCmd": "cat(var_dic_list()) "
    }
   },
   "types_to_exclude": [
    "module",
    "function",
    "builtin_function_or_method",
    "instance",
    "_Feature"
   ],
   "window_display": false
  }
 },
 "nbformat": 4,
 "nbformat_minor": 4
}
