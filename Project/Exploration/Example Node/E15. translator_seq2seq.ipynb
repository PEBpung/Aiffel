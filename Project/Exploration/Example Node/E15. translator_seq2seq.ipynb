{
 "cells": [
  {
   "cell_type": "code",
   "execution_count": 1,
   "metadata": {
    "ExecuteTime": {
     "end_time": "2020-09-22T13:44:24.668770Z",
     "start_time": "2020-09-22T13:44:23.524214Z"
    }
   },
   "outputs": [],
   "source": [
    "import pandas as pd\n",
    "from tensorflow.keras.preprocessing.text import Tokenizer\n",
    "from tensorflow.keras.preprocessing.sequence import pad_sequences\n",
    "from tensorflow.keras.utils import to_categorical\n",
    "import numpy as np"
   ]
  },
  {
   "cell_type": "code",
   "execution_count": 2,
   "metadata": {
    "ExecuteTime": {
     "end_time": "2020-09-22T13:44:25.021467Z",
     "start_time": "2020-09-22T13:44:24.670032Z"
    }
   },
   "outputs": [
    {
     "name": "stdout",
     "output_type": "stream",
     "text": [
      "전체 샘플의 수: 178009\n"
     ]
    },
    {
     "data": {
      "text/html": [
       "<div>\n",
       "<style scoped>\n",
       "    .dataframe tbody tr th:only-of-type {\n",
       "        vertical-align: middle;\n",
       "    }\n",
       "\n",
       "    .dataframe tbody tr th {\n",
       "        vertical-align: top;\n",
       "    }\n",
       "\n",
       "    .dataframe thead th {\n",
       "        text-align: right;\n",
       "    }\n",
       "</style>\n",
       "<table border=\"1\" class=\"dataframe\">\n",
       "  <thead>\n",
       "    <tr style=\"text-align: right;\">\n",
       "      <th></th>\n",
       "      <th>eng</th>\n",
       "      <th>fra</th>\n",
       "      <th>cc</th>\n",
       "    </tr>\n",
       "  </thead>\n",
       "  <tbody>\n",
       "    <tr>\n",
       "      <th>129384</th>\n",
       "      <td>What kind of car were they driving?</td>\n",
       "      <td>Quel genre de voiture conduisaient-elles ?</td>\n",
       "      <td>CC-BY 2.0 (France) Attribution: tatoeba.org #3...</td>\n",
       "    </tr>\n",
       "    <tr>\n",
       "      <th>45903</th>\n",
       "      <td>Who built the snowman?</td>\n",
       "      <td>Qui a fait le bonhomme de neige ?</td>\n",
       "      <td>CC-BY 2.0 (France) Attribution: tatoeba.org #2...</td>\n",
       "    </tr>\n",
       "    <tr>\n",
       "      <th>148573</th>\n",
       "      <td>He proposed that we should play baseball.</td>\n",
       "      <td>Il a proposé que nous jouions au base-ball.</td>\n",
       "      <td>CC-BY 2.0 (France) Attribution: tatoeba.org #3...</td>\n",
       "    </tr>\n",
       "    <tr>\n",
       "      <th>89538</th>\n",
       "      <td>Don't ask too many questions.</td>\n",
       "      <td>Ne posez pas trop de questions.</td>\n",
       "      <td>CC-BY 2.0 (France) Attribution: tatoeba.org #1...</td>\n",
       "    </tr>\n",
       "    <tr>\n",
       "      <th>82471</th>\n",
       "      <td>Do you want me to paint you?</td>\n",
       "      <td>Veux-tu que je te peigne ?</td>\n",
       "      <td>CC-BY 2.0 (France) Attribution: tatoeba.org #4...</td>\n",
       "    </tr>\n",
       "  </tbody>\n",
       "</table>\n",
       "</div>"
      ],
      "text/plain": [
       "                                              eng  \\\n",
       "129384        What kind of car were they driving?   \n",
       "45903                      Who built the snowman?   \n",
       "148573  He proposed that we should play baseball.   \n",
       "89538               Don't ask too many questions.   \n",
       "82471                Do you want me to paint you?   \n",
       "\n",
       "                                                fra  \\\n",
       "129384   Quel genre de voiture conduisaient-elles ?   \n",
       "45903             Qui a fait le bonhomme de neige ?   \n",
       "148573  Il a proposé que nous jouions au base-ball.   \n",
       "89538               Ne posez pas trop de questions.   \n",
       "82471                    Veux-tu que je te peigne ?   \n",
       "\n",
       "                                                       cc  \n",
       "129384  CC-BY 2.0 (France) Attribution: tatoeba.org #3...  \n",
       "45903   CC-BY 2.0 (France) Attribution: tatoeba.org #2...  \n",
       "148573  CC-BY 2.0 (France) Attribution: tatoeba.org #3...  \n",
       "89538   CC-BY 2.0 (France) Attribution: tatoeba.org #1...  \n",
       "82471   CC-BY 2.0 (France) Attribution: tatoeba.org #4...  "
      ]
     },
     "execution_count": 2,
     "metadata": {},
     "output_type": "execute_result"
    }
   ],
   "source": [
    "import os\n",
    "file_path = os.getenv('HOME')+'/aiffel/translator_seq2seq/data/fra.txt'\n",
    "lines = pd.read_csv(file_path, names=['eng', 'fra', 'cc'], sep='\\t')\n",
    "print('전체 샘플의 수:', len(lines))\n",
    "lines.sample(5)"
   ]
  },
  {
   "cell_type": "code",
   "execution_count": 3,
   "metadata": {
    "ExecuteTime": {
     "end_time": "2020-09-22T13:44:25.039626Z",
     "start_time": "2020-09-22T13:44:25.022704Z"
    }
   },
   "outputs": [
    {
     "data": {
      "text/html": [
       "<div>\n",
       "<style scoped>\n",
       "    .dataframe tbody tr th:only-of-type {\n",
       "        vertical-align: middle;\n",
       "    }\n",
       "\n",
       "    .dataframe tbody tr th {\n",
       "        vertical-align: top;\n",
       "    }\n",
       "\n",
       "    .dataframe thead th {\n",
       "        text-align: right;\n",
       "    }\n",
       "</style>\n",
       "<table border=\"1\" class=\"dataframe\">\n",
       "  <thead>\n",
       "    <tr style=\"text-align: right;\">\n",
       "      <th></th>\n",
       "      <th>eng</th>\n",
       "      <th>fra</th>\n",
       "    </tr>\n",
       "  </thead>\n",
       "  <tbody>\n",
       "    <tr>\n",
       "      <th>34205</th>\n",
       "      <td>Do you know that guy?</td>\n",
       "      <td>Connaissez-vous ce type ?</td>\n",
       "    </tr>\n",
       "    <tr>\n",
       "      <th>22833</th>\n",
       "      <td>You're very timid.</td>\n",
       "      <td>Vous êtes très timide.</td>\n",
       "    </tr>\n",
       "    <tr>\n",
       "      <th>5745</th>\n",
       "      <td>I stole a gun.</td>\n",
       "      <td>J'ai volé une arme à feu.</td>\n",
       "    </tr>\n",
       "    <tr>\n",
       "      <th>5652</th>\n",
       "      <td>I miss my cat.</td>\n",
       "      <td>Mon chat me manque.</td>\n",
       "    </tr>\n",
       "    <tr>\n",
       "      <th>19021</th>\n",
       "      <td>I can handle this.</td>\n",
       "      <td>Je sais m'y prendre.</td>\n",
       "    </tr>\n",
       "  </tbody>\n",
       "</table>\n",
       "</div>"
      ],
      "text/plain": [
       "                         eng                        fra\n",
       "34205  Do you know that guy?  Connaissez-vous ce type ?\n",
       "22833     You're very timid.     Vous êtes très timide.\n",
       "5745          I stole a gun.  J'ai volé une arme à feu.\n",
       "5652          I miss my cat.        Mon chat me manque.\n",
       "19021     I can handle this.       Je sais m'y prendre."
      ]
     },
     "execution_count": 3,
     "metadata": {},
     "output_type": "execute_result"
    }
   ],
   "source": [
    "lines = lines[['eng', 'fra']][:50000]\n",
    "lines.sample(5)"
   ]
  },
  {
   "cell_type": "code",
   "execution_count": 4,
   "metadata": {
    "ExecuteTime": {
     "end_time": "2020-09-22T13:44:25.060113Z",
     "start_time": "2020-09-22T13:44:25.040842Z"
    }
   },
   "outputs": [
    {
     "name": "stdout",
     "output_type": "stream",
     "text": [
      "전체 샘플의 수: 50000\n"
     ]
    },
    {
     "data": {
      "text/html": [
       "<div>\n",
       "<style scoped>\n",
       "    .dataframe tbody tr th:only-of-type {\n",
       "        vertical-align: middle;\n",
       "    }\n",
       "\n",
       "    .dataframe tbody tr th {\n",
       "        vertical-align: top;\n",
       "    }\n",
       "\n",
       "    .dataframe thead th {\n",
       "        text-align: right;\n",
       "    }\n",
       "</style>\n",
       "<table border=\"1\" class=\"dataframe\">\n",
       "  <thead>\n",
       "    <tr style=\"text-align: right;\">\n",
       "      <th></th>\n",
       "      <th>eng</th>\n",
       "      <th>fra</th>\n",
       "    </tr>\n",
       "  </thead>\n",
       "  <tbody>\n",
       "    <tr>\n",
       "      <th>36819</th>\n",
       "      <td>I've got one for you.</td>\n",
       "      <td>\\tJ'en ai un pour vous.\\n</td>\n",
       "    </tr>\n",
       "    <tr>\n",
       "      <th>15896</th>\n",
       "      <td>Keep me informed.</td>\n",
       "      <td>\\tTiens-moi informé !\\n</td>\n",
       "    </tr>\n",
       "    <tr>\n",
       "      <th>22903</th>\n",
       "      <td>Are they all ready?</td>\n",
       "      <td>\\tSont-ils tous prêts ?\\n</td>\n",
       "    </tr>\n",
       "    <tr>\n",
       "      <th>49653</th>\n",
       "      <td>I've broken my glasses.</td>\n",
       "      <td>\\tJ'ai cassé mes lunettes.\\n</td>\n",
       "    </tr>\n",
       "    <tr>\n",
       "      <th>36352</th>\n",
       "      <td>I work in a pharmacy.</td>\n",
       "      <td>\\tJe travaille dans une pharmacie.\\n</td>\n",
       "    </tr>\n",
       "  </tbody>\n",
       "</table>\n",
       "</div>"
      ],
      "text/plain": [
       "                           eng                                   fra\n",
       "36819    I've got one for you.             \\tJ'en ai un pour vous.\\n\n",
       "15896        Keep me informed.               \\tTiens-moi informé !\\n\n",
       "22903      Are they all ready?             \\tSont-ils tous prêts ?\\n\n",
       "49653  I've broken my glasses.          \\tJ'ai cassé mes lunettes.\\n\n",
       "36352    I work in a pharmacy.  \\tJe travaille dans une pharmacie.\\n"
      ]
     },
     "execution_count": 4,
     "metadata": {},
     "output_type": "execute_result"
    }
   ],
   "source": [
    "sos_token = '\\t'\n",
    "eos_token = '\\n'\n",
    "lines.fra = lines.fra.apply(lambda x: '\\t'+x+'\\n')\n",
    "print('전체 샘플의 수:', len(lines))\n",
    "lines.sample(5)"
   ]
  },
  {
   "cell_type": "code",
   "execution_count": 5,
   "metadata": {
    "ExecuteTime": {
     "end_time": "2020-09-22T13:44:25.373181Z",
     "start_time": "2020-09-22T13:44:25.061337Z"
    }
   },
   "outputs": [
    {
     "data": {
      "text/plain": [
       "[[19, 3, 8], [10, 5, 8], [10, 5, 8]]"
      ]
     },
     "execution_count": 5,
     "metadata": {},
     "output_type": "execute_result"
    }
   ],
   "source": [
    "eng_tokenizer = Tokenizer(char_level=True)\n",
    "eng_tokenizer.fit_on_texts(lines.eng)\n",
    "input_text = eng_tokenizer.texts_to_sequences(lines.eng)\n",
    "input_text[:3]"
   ]
  },
  {
   "cell_type": "code",
   "execution_count": 6,
   "metadata": {
    "ExecuteTime": {
     "end_time": "2020-09-22T13:44:25.850739Z",
     "start_time": "2020-09-22T13:44:25.374144Z"
    }
   },
   "outputs": [
    {
     "data": {
      "text/plain": [
       "[[11, 19, 4, 1, 33, 12],\n",
       " [11, 3, 4, 13, 7, 5, 1, 33, 12],\n",
       " [11, 3, 4, 13, 7, 5, 14, 12]]"
      ]
     },
     "execution_count": 6,
     "metadata": {},
     "output_type": "execute_result"
    }
   ],
   "source": [
    "fra_tokenizer = Tokenizer(char_level=True)\n",
    "fra_tokenizer.fit_on_texts(lines.fra)\n",
    "target_text = fra_tokenizer.texts_to_sequences(lines.fra)\n",
    "target_text[:3]"
   ]
  },
  {
   "cell_type": "code",
   "execution_count": 7,
   "metadata": {
    "ExecuteTime": {
     "end_time": "2020-09-22T13:44:25.854020Z",
     "start_time": "2020-09-22T13:44:25.851781Z"
    }
   },
   "outputs": [
    {
     "name": "stdout",
     "output_type": "stream",
     "text": [
      "영어 단어장 크기: 51\n",
      "프랑스어 단어장 크기: 73\n"
     ]
    }
   ],
   "source": [
    "eng_vocab_size = len(eng_tokenizer.word_index)+1\n",
    "fra_vocab_size = len(fra_tokenizer.word_index)+1\n",
    "print('영어 단어장 크기:', eng_vocab_size)\n",
    "print('프랑스어 단어장 크기:', fra_vocab_size)"
   ]
  },
  {
   "cell_type": "code",
   "execution_count": 8,
   "metadata": {
    "ExecuteTime": {
     "end_time": "2020-09-22T13:44:25.867162Z",
     "start_time": "2020-09-22T13:44:25.854862Z"
    }
   },
   "outputs": [
    {
     "name": "stdout",
     "output_type": "stream",
     "text": [
      "영어 시퀀스의 최대 길이 23\n",
      "프랑스어 시퀀스의 최대 길이 74\n"
     ]
    }
   ],
   "source": [
    "max_eng_seq_len = max([len(line) for line in input_text])\n",
    "max_fra_seq_len = max([len(line) for line in target_text])\n",
    "print('영어 시퀀스의 최대 길이', max_eng_seq_len)\n",
    "print('프랑스어 시퀀스의 최대 길이', max_fra_seq_len)"
   ]
  },
  {
   "cell_type": "code",
   "execution_count": 9,
   "metadata": {
    "ExecuteTime": {
     "end_time": "2020-09-22T13:44:26.157351Z",
     "start_time": "2020-09-22T13:44:25.868094Z"
    }
   },
   "outputs": [],
   "source": [
    "encoder_input = input_text\n",
    "# 종료 토큰 제거\n",
    "decoder_input = [[char for char in line if char != fra_tokenizer.word_index[eos_token]] for line in target_text]\n",
    "# 시자가 토큰 제거\n",
    "decoder_target = [[char for char in line if char != fra_tokenizer.word_index[sos_token]] for line in target_text]"
   ]
  },
  {
   "cell_type": "code",
   "execution_count": 10,
   "metadata": {
    "ExecuteTime": {
     "end_time": "2020-09-22T13:44:26.161278Z",
     "start_time": "2020-09-22T13:44:26.158522Z"
    }
   },
   "outputs": [
    {
     "name": "stdout",
     "output_type": "stream",
     "text": [
      "[[11, 19, 4, 1, 33], [11, 3, 4, 13, 7, 5, 1, 33], [11, 3, 4, 13, 7, 5, 14]]\n",
      "[[19, 4, 1, 33, 12], [3, 4, 13, 7, 5, 1, 33, 12], [3, 4, 13, 7, 5, 14, 12]]\n"
     ]
    }
   ],
   "source": [
    "print(decoder_input[:3])\n",
    "print(decoder_target[:3])"
   ]
  },
  {
   "cell_type": "code",
   "execution_count": 11,
   "metadata": {
    "ExecuteTime": {
     "end_time": "2020-09-22T13:44:26.652943Z",
     "start_time": "2020-09-22T13:44:26.162423Z"
    }
   },
   "outputs": [
    {
     "name": "stdout",
     "output_type": "stream",
     "text": [
      "영어 데이터의 크기(shape) : (50000, 23)\n",
      "프랑스어 입력데이터의 크기(shape) : (50000, 74)\n",
      "프랑스어 출력데이터의 크기(shape) : (50000, 74)\n"
     ]
    }
   ],
   "source": [
    "encoder_input = pad_sequences(encoder_input, maxlen = max_eng_seq_len, padding='post')\n",
    "decoder_input = pad_sequences(decoder_input, maxlen = max_fra_seq_len, padding='post')\n",
    "decoder_target = pad_sequences(decoder_target, maxlen = max_fra_seq_len, padding='post')\n",
    "print('영어 데이터의 크기(shape) :',np.shape(encoder_input))\n",
    "print('프랑스어 입력데이터의 크기(shape) :',np.shape(decoder_input))\n",
    "print('프랑스어 출력데이터의 크기(shape) :',np.shape(decoder_target))"
   ]
  },
  {
   "cell_type": "code",
   "execution_count": 12,
   "metadata": {
    "ExecuteTime": {
     "end_time": "2020-09-22T13:44:26.656242Z",
     "start_time": "2020-09-22T13:44:26.653811Z"
    }
   },
   "outputs": [
    {
     "name": "stdout",
     "output_type": "stream",
     "text": [
      "[19  3  8  0  0  0  0  0  0  0  0  0  0  0  0  0  0  0  0  0  0  0  0]\n"
     ]
    }
   ],
   "source": [
    "print(encoder_input[0])"
   ]
  },
  {
   "cell_type": "code",
   "execution_count": 13,
   "metadata": {
    "ExecuteTime": {
     "end_time": "2020-09-22T13:44:27.172766Z",
     "start_time": "2020-09-22T13:44:26.657363Z"
    }
   },
   "outputs": [
    {
     "name": "stdout",
     "output_type": "stream",
     "text": [
      "영어 데이터의 크기(shape) : (50000, 23, 51)\n",
      "프랑스어 입력데이터의 크기(shape) : (50000, 74, 73)\n",
      "프랑스어 출력데이터의 크기(shape) : (50000, 74, 73)\n"
     ]
    }
   ],
   "source": [
    "encoder_input = to_categorical(encoder_input)\n",
    "decoder_input = to_categorical(decoder_input)\n",
    "decoder_target = to_categorical(decoder_target)\n",
    "print('영어 데이터의 크기(shape) :',np.shape(encoder_input))\n",
    "print('프랑스어 입력데이터의 크기(shape) :',np.shape(decoder_input))\n",
    "print('프랑스어 출력데이터의 크기(shape) :',np.shape(decoder_target))"
   ]
  },
  {
   "cell_type": "code",
   "execution_count": 14,
   "metadata": {
    "ExecuteTime": {
     "end_time": "2020-09-22T13:44:27.177090Z",
     "start_time": "2020-09-22T13:44:27.173774Z"
    },
    "scrolled": true
   },
   "outputs": [
    {
     "name": "stdout",
     "output_type": "stream",
     "text": [
      "영어 학습데이터의 크기(shape) : (47000, 23, 51)\n",
      "프랑스어 학습 입력데이터의 크기(shape) : (47000, 74, 73)\n",
      "프랑스어 학습 출력데이터의 크기(shape) : (47000, 74, 73)\n"
     ]
    }
   ],
   "source": [
    "n_of_val = 3000\n",
    "\n",
    "encoder_input_train = encoder_input[:-n_of_val]\n",
    "decoder_input_train = decoder_input[:-n_of_val]\n",
    "decoder_target_train = decoder_target[:-n_of_val]\n",
    "\n",
    "encoder_input_test = encoder_input[-n_of_val:]\n",
    "decoder_input_test = decoder_input[-n_of_val:]\n",
    "decoder_target_test = decoder_target[-n_of_val:]\n",
    "\n",
    "print('영어 학습데이터의 크기(shape) :',np.shape(encoder_input_train))\n",
    "print('프랑스어 학습 입력데이터의 크기(shape) :',np.shape(decoder_input_train))\n",
    "print('프랑스어 학습 출력데이터의 크기(shape) :',np.shape(decoder_target_train))"
   ]
  },
  {
   "cell_type": "markdown",
   "metadata": {},
   "source": [
    "## 모델 훈련하기"
   ]
  },
  {
   "cell_type": "code",
   "execution_count": 15,
   "metadata": {
    "ExecuteTime": {
     "end_time": "2020-09-22T13:44:27.186221Z",
     "start_time": "2020-09-22T13:44:27.178030Z"
    }
   },
   "outputs": [],
   "source": [
    "from tensorflow.keras.layers import Input, LSTM, Embedding, Dense\n",
    "from tensorflow.keras.models import Model"
   ]
  },
  {
   "cell_type": "code",
   "execution_count": 22,
   "metadata": {
    "ExecuteTime": {
     "end_time": "2020-09-22T13:45:21.986144Z",
     "start_time": "2020-09-22T13:45:21.821504Z"
    }
   },
   "outputs": [],
   "source": [
    "encoder_inputs = Input(shape=(None, eng_vocab_size), name='encoder_input')\n",
    "encoder_lstm  = LSTM(units=256, return_state = True)\n",
    "encoder_outputs, state_h, state_c = encoder_lstm(encoder_inputs)\n",
    "encoder_states = [state_h, state_c]"
   ]
  },
  {
   "cell_type": "code",
   "execution_count": 23,
   "metadata": {
    "ExecuteTime": {
     "end_time": "2020-09-22T13:45:22.523084Z",
     "start_time": "2020-09-22T13:45:22.382237Z"
    }
   },
   "outputs": [],
   "source": [
    "decoder_inputs = Input(shape=(None, fra_vocab_size), name='decoder_input')\n",
    "decoder_lstm = LSTM(units = 256, return_sequences = True, return_state = True)\n",
    "decoder_outputs,_,_ = decoder_lstm(decoder_inputs, initial_state = encoder_states)"
   ]
  },
  {
   "cell_type": "code",
   "execution_count": 24,
   "metadata": {
    "ExecuteTime": {
     "end_time": "2020-09-22T13:45:22.901347Z",
     "start_time": "2020-09-22T13:45:22.883391Z"
    }
   },
   "outputs": [],
   "source": [
    "decoder_softmax_layer = Dense(fra_vocab_size, activation='softmax')\n",
    "decoder_outputs = decoder_softmax_layer(decoder_outputs)"
   ]
  },
  {
   "cell_type": "code",
   "execution_count": 25,
   "metadata": {
    "ExecuteTime": {
     "end_time": "2020-09-22T13:45:23.369620Z",
     "start_time": "2020-09-22T13:45:23.362022Z"
    }
   },
   "outputs": [],
   "source": [
    "model = Model([encoder_inputs, decoder_inputs], decoder_outputs)\n",
    "model.compile(optimizer=\"rmsprop\", loss=\"categorical_crossentropy\")"
   ]
  },
  {
   "cell_type": "code",
   "execution_count": 26,
   "metadata": {
    "ExecuteTime": {
     "end_time": "2020-09-22T13:45:24.127393Z",
     "start_time": "2020-09-22T13:45:24.124052Z"
    }
   },
   "outputs": [
    {
     "name": "stdout",
     "output_type": "stream",
     "text": [
      "Model: \"model_1\"\n",
      "__________________________________________________________________________________________________\n",
      "Layer (type)                    Output Shape         Param #     Connected to                     \n",
      "==================================================================================================\n",
      "encoder_input (InputLayer)      [(None, None, 51)]   0                                            \n",
      "__________________________________________________________________________________________________\n",
      "decoder_input (InputLayer)      [(None, None, 73)]   0                                            \n",
      "__________________________________________________________________________________________________\n",
      "lstm_2 (LSTM)                   [(None, 256), (None, 315392      encoder_input[0][0]              \n",
      "__________________________________________________________________________________________________\n",
      "lstm_3 (LSTM)                   [(None, None, 256),  337920      decoder_input[0][0]              \n",
      "                                                                 lstm_2[0][1]                     \n",
      "                                                                 lstm_2[0][2]                     \n",
      "__________________________________________________________________________________________________\n",
      "dense_1 (Dense)                 (None, None, 73)     18761       lstm_3[0][0]                     \n",
      "==================================================================================================\n",
      "Total params: 672,073\n",
      "Trainable params: 672,073\n",
      "Non-trainable params: 0\n",
      "__________________________________________________________________________________________________\n"
     ]
    }
   ],
   "source": [
    "model.summary()"
   ]
  },
  {
   "cell_type": "code",
   "execution_count": 127,
   "metadata": {
    "ExecuteTime": {
     "end_time": "2020-09-22T06:07:28.841016Z",
     "start_time": "2020-09-22T06:01:40.119237Z"
    }
   },
   "outputs": [
    {
     "name": "stdout",
     "output_type": "stream",
     "text": [
      "Epoch 1/50\n",
      "625/625 [==============================] - 8s 13ms/step - loss: 0.7873 - val_loss: 0.7001\n",
      "Epoch 2/50\n",
      "625/625 [==============================] - 7s 11ms/step - loss: 0.4931 - val_loss: 0.5672\n",
      "Epoch 3/50\n",
      "625/625 [==============================] - 7s 11ms/step - loss: 0.4140 - val_loss: 0.5059\n",
      "Epoch 4/50\n",
      "625/625 [==============================] - 7s 11ms/step - loss: 0.3661 - val_loss: 0.4625\n",
      "Epoch 5/50\n",
      "625/625 [==============================] - 7s 11ms/step - loss: 0.3339 - val_loss: 0.4323\n",
      "Epoch 6/50\n",
      "625/625 [==============================] - 7s 11ms/step - loss: 0.3101 - val_loss: 0.4136\n",
      "Epoch 7/50\n",
      "625/625 [==============================] - 7s 11ms/step - loss: 0.2922 - val_loss: 0.4009\n",
      "Epoch 8/50\n",
      "625/625 [==============================] - 7s 11ms/step - loss: 0.2778 - val_loss: 0.3915\n",
      "Epoch 9/50\n",
      "625/625 [==============================] - 7s 11ms/step - loss: 0.2659 - val_loss: 0.3824\n",
      "Epoch 10/50\n",
      "625/625 [==============================] - 7s 11ms/step - loss: 0.2558 - val_loss: 0.3773\n",
      "Epoch 11/50\n",
      "625/625 [==============================] - 7s 11ms/step - loss: 0.2468 - val_loss: 0.3729\n",
      "Epoch 12/50\n",
      "625/625 [==============================] - 7s 11ms/step - loss: 0.2390 - val_loss: 0.3697\n",
      "Epoch 13/50\n",
      "625/625 [==============================] - 7s 11ms/step - loss: 0.2318 - val_loss: 0.3684\n",
      "Epoch 14/50\n",
      "625/625 [==============================] - 7s 11ms/step - loss: 0.2253 - val_loss: 0.3667\n",
      "Epoch 15/50\n",
      "625/625 [==============================] - 7s 11ms/step - loss: 0.2195 - val_loss: 0.3672\n",
      "Epoch 16/50\n",
      "625/625 [==============================] - 7s 11ms/step - loss: 0.2140 - val_loss: 0.3637\n",
      "Epoch 17/50\n",
      "625/625 [==============================] - 7s 11ms/step - loss: 0.2088 - val_loss: 0.3649\n",
      "Epoch 18/50\n",
      "625/625 [==============================] - 7s 11ms/step - loss: 0.2041 - val_loss: 0.3662\n",
      "Epoch 19/50\n",
      "625/625 [==============================] - 7s 11ms/step - loss: 0.1995 - val_loss: 0.3693\n",
      "Epoch 20/50\n",
      "625/625 [==============================] - 7s 11ms/step - loss: 0.1955 - val_loss: 0.3690\n",
      "Epoch 21/50\n",
      "625/625 [==============================] - 7s 11ms/step - loss: 0.1914 - val_loss: 0.3700\n",
      "Epoch 22/50\n",
      "625/625 [==============================] - 7s 11ms/step - loss: 0.1877 - val_loss: 0.3729\n",
      "Epoch 23/50\n",
      "625/625 [==============================] - 7s 11ms/step - loss: 0.1841 - val_loss: 0.3736\n",
      "Epoch 24/50\n",
      "625/625 [==============================] - 7s 11ms/step - loss: 0.1808 - val_loss: 0.3778\n",
      "Epoch 25/50\n",
      "625/625 [==============================] - 7s 11ms/step - loss: 0.1774 - val_loss: 0.3780\n",
      "Epoch 26/50\n",
      "625/625 [==============================] - 7s 11ms/step - loss: 0.1742 - val_loss: 0.3813\n",
      "Epoch 27/50\n",
      "625/625 [==============================] - 7s 11ms/step - loss: 0.1712 - val_loss: 0.3844\n",
      "Epoch 28/50\n",
      "625/625 [==============================] - 7s 11ms/step - loss: 0.1683 - val_loss: 0.3874\n",
      "Epoch 29/50\n",
      "625/625 [==============================] - 7s 11ms/step - loss: 0.1656 - val_loss: 0.3885\n",
      "Epoch 30/50\n",
      "625/625 [==============================] - 7s 11ms/step - loss: 0.1630 - val_loss: 0.3918\n",
      "Epoch 31/50\n",
      "625/625 [==============================] - 7s 11ms/step - loss: 0.1604 - val_loss: 0.3974\n",
      "Epoch 32/50\n",
      "625/625 [==============================] - 7s 11ms/step - loss: 0.1580 - val_loss: 0.3978\n",
      "Epoch 33/50\n",
      "625/625 [==============================] - 7s 11ms/step - loss: 0.1556 - val_loss: 0.4005\n",
      "Epoch 34/50\n",
      "625/625 [==============================] - 7s 11ms/step - loss: 0.1534 - val_loss: 0.4042\n",
      "Epoch 35/50\n",
      "625/625 [==============================] - 7s 11ms/step - loss: 0.1512 - val_loss: 0.4079\n",
      "Epoch 36/50\n",
      "625/625 [==============================] - 7s 11ms/step - loss: 0.1490 - val_loss: 0.4094\n",
      "Epoch 37/50\n",
      "625/625 [==============================] - 7s 11ms/step - loss: 0.1471 - val_loss: 0.4147\n",
      "Epoch 38/50\n",
      "625/625 [==============================] - 7s 11ms/step - loss: 0.1449 - val_loss: 0.4173\n",
      "Epoch 39/50\n",
      "625/625 [==============================] - 7s 11ms/step - loss: 0.1430 - val_loss: 0.4242\n",
      "Epoch 40/50\n",
      "625/625 [==============================] - 7s 11ms/step - loss: 0.1411 - val_loss: 0.4249\n",
      "Epoch 41/50\n",
      "625/625 [==============================] - 7s 11ms/step - loss: 0.1393 - val_loss: 0.4267\n",
      "Epoch 42/50\n",
      "625/625 [==============================] - 7s 11ms/step - loss: 0.1376 - val_loss: 0.4309\n",
      "Epoch 43/50\n",
      "625/625 [==============================] - 7s 11ms/step - loss: 0.1359 - val_loss: 0.4322\n",
      "Epoch 44/50\n",
      "625/625 [==============================] - 7s 11ms/step - loss: 0.1342 - val_loss: 0.4377\n",
      "Epoch 45/50\n",
      "625/625 [==============================] - 7s 11ms/step - loss: 0.1326 - val_loss: 0.4383\n",
      "Epoch 46/50\n",
      "625/625 [==============================] - 7s 11ms/step - loss: 0.1311 - val_loss: 0.4425\n",
      "Epoch 47/50\n",
      "625/625 [==============================] - 7s 11ms/step - loss: 0.1298 - val_loss: 0.4437\n",
      "Epoch 48/50\n",
      "625/625 [==============================] - 7s 11ms/step - loss: 0.1282 - val_loss: 0.4515\n",
      "Epoch 49/50\n",
      "625/625 [==============================] - 7s 11ms/step - loss: 0.1268 - val_loss: 0.4523\n",
      "Epoch 50/50\n",
      "625/625 [==============================] - 7s 10ms/step - loss: 0.1254 - val_loss: 0.4576\n"
     ]
    },
    {
     "data": {
      "text/plain": [
       "<tensorflow.python.keras.callbacks.History at 0x7f962c099690>"
      ]
     },
     "execution_count": 127,
     "metadata": {},
     "output_type": "execute_result"
    }
   ],
   "source": [
    "model.fit(x=[encoder_input, decoder_input], y=decoder_target, batch_size=64, epochs=50, validation_split=0.2)"
   ]
  },
  {
   "cell_type": "markdown",
   "metadata": {},
   "source": [
    "## 모델 테스트 하기"
   ]
  },
  {
   "cell_type": "code",
   "execution_count": 128,
   "metadata": {
    "ExecuteTime": {
     "end_time": "2020-09-22T06:07:30.168506Z",
     "start_time": "2020-09-22T06:07:30.149627Z"
    }
   },
   "outputs": [
    {
     "name": "stdout",
     "output_type": "stream",
     "text": [
      "Model: \"model_5\"\n",
      "_________________________________________________________________\n",
      "Layer (type)                 Output Shape              Param #   \n",
      "=================================================================\n",
      "input_6 (InputLayer)         [(None, None, 51)]        0         \n",
      "_________________________________________________________________\n",
      "lstm_5 (LSTM)                [(None, 256), (None, 256) 315392    \n",
      "=================================================================\n",
      "Total params: 315,392\n",
      "Trainable params: 315,392\n",
      "Non-trainable params: 0\n",
      "_________________________________________________________________\n"
     ]
    }
   ],
   "source": [
    "encoder_model = Model(inputs = encoder_inputs, outputs = encoder_states)\n",
    "encoder_model.summary()"
   ]
  },
  {
   "cell_type": "code",
   "execution_count": 129,
   "metadata": {
    "ExecuteTime": {
     "end_time": "2020-09-22T06:07:31.358568Z",
     "start_time": "2020-09-22T06:07:31.195162Z"
    }
   },
   "outputs": [],
   "source": [
    "decoder_state_input_h = Input(shape=(256,))\n",
    "decoder_state_input_c = Input(shape=(256,))\n",
    "decoder_states_inputs = [decoder_state_input_h, decoder_state_input_c]\n",
    "\n",
    "decoder_outputs, state_h, state_c = decoder_lstm(decoder_inputs, initial_state=decoder_states_inputs)\n",
    "decoder_states = [state_h, state_c]"
   ]
  },
  {
   "cell_type": "code",
   "execution_count": 130,
   "metadata": {
    "ExecuteTime": {
     "end_time": "2020-09-22T06:07:31.774065Z",
     "start_time": "2020-09-22T06:07:31.751819Z"
    }
   },
   "outputs": [
    {
     "name": "stdout",
     "output_type": "stream",
     "text": [
      "Model: \"model_6\"\n",
      "__________________________________________________________________________________________________\n",
      "Layer (type)                    Output Shape         Param #     Connected to                     \n",
      "==================================================================================================\n",
      "input_7 (InputLayer)            [(None, None, 73)]   0                                            \n",
      "__________________________________________________________________________________________________\n",
      "input_14 (InputLayer)           [(None, 256)]        0                                            \n",
      "__________________________________________________________________________________________________\n",
      "input_15 (InputLayer)           [(None, 256)]        0                                            \n",
      "__________________________________________________________________________________________________\n",
      "lstm_6 (LSTM)                   [(None, None, 256),  337920      input_7[0][0]                    \n",
      "                                                                 input_14[0][0]                   \n",
      "                                                                 input_15[0][0]                   \n",
      "__________________________________________________________________________________________________\n",
      "dense_3 (Dense)                 (None, None, 73)     18761       lstm_6[3][0]                     \n",
      "==================================================================================================\n",
      "Total params: 356,681\n",
      "Trainable params: 356,681\n",
      "Non-trainable params: 0\n",
      "__________________________________________________________________________________________________\n"
     ]
    }
   ],
   "source": [
    "decoder_outputs = decoder_softmax_layer(decoder_outputs)\n",
    "decoder_model = Model(inputs=[decoder_inputs] + decoder_states_inputs, outputs=[decoder_outputs] + decoder_states)\n",
    "decoder_model.summary()"
   ]
  },
  {
   "cell_type": "code",
   "execution_count": 134,
   "metadata": {
    "ExecuteTime": {
     "end_time": "2020-09-22T06:15:19.036177Z",
     "start_time": "2020-09-22T06:15:19.033730Z"
    }
   },
   "outputs": [],
   "source": [
    "eng2idx = eng_tokenizer.word_index\n",
    "fra2idx = fra_tokenizer.word_index\n",
    "idx2eng = eng_tokenizer.index_word\n",
    "idx2fra = fra_tokenizer.index_word"
   ]
  },
  {
   "cell_type": "code",
   "execution_count": 135,
   "metadata": {
    "ExecuteTime": {
     "end_time": "2020-09-22T06:15:19.369898Z",
     "start_time": "2020-09-22T06:15:19.365890Z"
    }
   },
   "outputs": [],
   "source": [
    "def decode_sequence(input_seq):\n",
    "    states_value = encoder_model.predict(input_seq)\n",
    "    \n",
    "    target_seq = np.zeros((1,1,fra_vocab_size))\n",
    "    target_seq[0,0,fra2idx['\\t']] = 1.\n",
    "    \n",
    "    stop_condition = False\n",
    "    decoded_sentence = \"\"\n",
    "    \n",
    "    while not stop_condition:\n",
    "        output_tokens, h, c=decoder_model.predict([target_seq]+ states_value)\n",
    "        \n",
    "        sampled_token_index = np.argmax(output_tokens[0,-1,:])\n",
    "        sampled_char = idx2fra[sampled_token_index]\n",
    "        \n",
    "        decoded_sentence +=sampled_char\n",
    "        \n",
    "        if(sampled_char == '\\n' or len(decoded_sentence)>max_fra_seq_len):\n",
    "            stop_condition = True\n",
    "        \n",
    "        target_seq = np.zeros((1,1,fra_vocab_size))\n",
    "        target_seq[0,0,sampled_token_index] = 1.\n",
    "        \n",
    "        states_value = [h, c]\n",
    "        \n",
    "    return decoded_sentence"
   ]
  },
  {
   "cell_type": "code",
   "execution_count": 136,
   "metadata": {
    "ExecuteTime": {
     "end_time": "2020-09-22T06:15:20.085976Z",
     "start_time": "2020-09-22T06:15:20.083385Z"
    }
   },
   "outputs": [
    {
     "data": {
      "text/plain": [
       "array([[[0., 0., 0., ..., 0., 0., 0.],\n",
       "        [0., 0., 1., ..., 0., 0., 0.],\n",
       "        [0., 0., 0., ..., 0., 0., 0.],\n",
       "        ...,\n",
       "        [1., 0., 0., ..., 0., 0., 0.],\n",
       "        [1., 0., 0., ..., 0., 0., 0.],\n",
       "        [1., 0., 0., ..., 0., 0., 0.]]], dtype=float32)"
      ]
     },
     "execution_count": 136,
     "metadata": {},
     "output_type": "execute_result"
    }
   ],
   "source": [
    "encoder_input[8: 9]"
   ]
  },
  {
   "cell_type": "code",
   "execution_count": 1,
   "metadata": {
    "ExecuteTime": {
     "end_time": "2020-09-22T06:24:16.447578Z",
     "start_time": "2020-09-22T06:24:16.398324Z"
    }
   },
   "outputs": [
    {
     "ename": "NameError",
     "evalue": "name 'encoder_input' is not defined",
     "output_type": "error",
     "traceback": [
      "\u001b[0;31m---------------------------------------------------------------------------\u001b[0m",
      "\u001b[0;31mNameError\u001b[0m                                 Traceback (most recent call last)",
      "\u001b[0;32m<ipython-input-1-7e8b8c971626>\u001b[0m in \u001b[0;36m<module>\u001b[0;34m\u001b[0m\n\u001b[1;32m      1\u001b[0m \u001b[0;32mimport\u001b[0m \u001b[0mnumpy\u001b[0m \u001b[0;32mas\u001b[0m \u001b[0mnp\u001b[0m\u001b[0;34m\u001b[0m\u001b[0;34m\u001b[0m\u001b[0m\n\u001b[1;32m      2\u001b[0m \u001b[0;32mfor\u001b[0m \u001b[0mseq_index\u001b[0m \u001b[0;32min\u001b[0m \u001b[0;34m[\u001b[0m\u001b[0;36m3\u001b[0m\u001b[0;34m,\u001b[0m\u001b[0;36m50\u001b[0m\u001b[0;34m,\u001b[0m\u001b[0;36m100\u001b[0m\u001b[0;34m,\u001b[0m\u001b[0;36m300\u001b[0m\u001b[0;34m,\u001b[0m\u001b[0;36m1001\u001b[0m\u001b[0;34m]\u001b[0m\u001b[0;34m:\u001b[0m \u001b[0;31m# 입력 문장의 인덱스 (자유롭게 선택해 보세요)\u001b[0m\u001b[0;34m\u001b[0m\u001b[0;34m\u001b[0m\u001b[0m\n\u001b[0;32m----> 3\u001b[0;31m     \u001b[0minput_seq\u001b[0m \u001b[0;34m=\u001b[0m \u001b[0mencoder_input\u001b[0m\u001b[0;34m[\u001b[0m\u001b[0mseq_index\u001b[0m\u001b[0;34m:\u001b[0m \u001b[0mseq_index\u001b[0m \u001b[0;34m+\u001b[0m \u001b[0;36m1\u001b[0m\u001b[0;34m]\u001b[0m\u001b[0;34m\u001b[0m\u001b[0;34m\u001b[0m\u001b[0m\n\u001b[0m\u001b[1;32m      4\u001b[0m     \u001b[0mdecoded_sentence\u001b[0m \u001b[0;34m=\u001b[0m \u001b[0mdecode_sequence\u001b[0m\u001b[0;34m(\u001b[0m\u001b[0minput_seq\u001b[0m\u001b[0;34m)\u001b[0m\u001b[0;34m\u001b[0m\u001b[0;34m\u001b[0m\u001b[0m\n\u001b[1;32m      5\u001b[0m     \u001b[0mprint\u001b[0m\u001b[0;34m(\u001b[0m\u001b[0;36m35\u001b[0m \u001b[0;34m*\u001b[0m \u001b[0;34m\"-\"\u001b[0m\u001b[0;34m)\u001b[0m\u001b[0;34m\u001b[0m\u001b[0;34m\u001b[0m\u001b[0m\n",
      "\u001b[0;31mNameError\u001b[0m: name 'encoder_input' is not defined"
     ]
    }
   ],
   "source": [
    "import numpy as np\n",
    "for seq_index in [3,50,100,300,1001]: # 입력 문장의 인덱스 (자유롭게 선택해 보세요)\n",
    "    input_seq = encoder_input[seq_index: seq_index + 1]\n",
    "    decoded_sentence = decode_sequence(input_seq)\n",
    "    print(35 * \"-\")\n",
    "    print('입력 문장:', lines.eng[seq_index])\n",
    "    print('정답 문장:', lines.fra[seq_index][1:len(lines.fra[seq_index])-1]) # '\\t'와 '\\n'을 빼고 출력\n",
    "    print('번역기가 번역한 문장:', decoded_sentence[:len(decoded_sentence)-1]) # '\\n'을 빼고 출력"
   ]
  },
  {
   "cell_type": "code",
   "execution_count": null,
   "metadata": {},
   "outputs": [],
   "source": []
  }
 ],
 "metadata": {
  "kernelspec": {
   "display_name": "aiffel",
   "language": "python",
   "name": "aiffel"
  },
  "language_info": {
   "codemirror_mode": {
    "name": "ipython",
    "version": 3
   },
   "file_extension": ".py",
   "mimetype": "text/x-python",
   "name": "python",
   "nbconvert_exporter": "python",
   "pygments_lexer": "ipython3",
   "version": "3.7.6"
  },
  "toc": {
   "base_numbering": 1,
   "nav_menu": {},
   "number_sections": true,
   "sideBar": true,
   "skip_h1_title": false,
   "title_cell": "Table of Contents",
   "title_sidebar": "Contents",
   "toc_cell": false,
   "toc_position": {},
   "toc_section_display": true,
   "toc_window_display": false
  },
  "varInspector": {
   "cols": {
    "lenName": 16,
    "lenType": 16,
    "lenVar": 40
   },
   "kernels_config": {
    "python": {
     "delete_cmd_postfix": "",
     "delete_cmd_prefix": "del ",
     "library": "var_list.py",
     "varRefreshCmd": "print(var_dic_list())"
    },
    "r": {
     "delete_cmd_postfix": ") ",
     "delete_cmd_prefix": "rm(",
     "library": "var_list.r",
     "varRefreshCmd": "cat(var_dic_list()) "
    }
   },
   "types_to_exclude": [
    "module",
    "function",
    "builtin_function_or_method",
    "instance",
    "_Feature"
   ],
   "window_display": false
  }
 },
 "nbformat": 4,
 "nbformat_minor": 4
}
