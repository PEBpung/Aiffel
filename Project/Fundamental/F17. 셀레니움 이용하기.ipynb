{
 "cells": [
  {
   "cell_type": "markdown",
   "metadata": {},
   "source": [
    "## URL 다운로드"
   ]
  },
  {
   "cell_type": "code",
   "execution_count": 1,
   "metadata": {
    "ExecuteTime": {
     "end_time": "2020-08-19T07:05:05.055983Z",
     "start_time": "2020-08-19T07:05:05.053945Z"
    }
   },
   "outputs": [],
   "source": [
    "crawling_urls = {\n",
    "\"산과공원\": \"https://data.seoul.go.kr/dataList/OA-12962/S/1/datasetView.do\",\n",
    "}"
   ]
  },
  {
   "cell_type": "code",
   "execution_count": 2,
   "metadata": {
    "ExecuteTime": {
     "end_time": "2020-08-19T07:05:11.598688Z",
     "start_time": "2020-08-19T07:05:11.451329Z"
    }
   },
   "outputs": [],
   "source": [
    "import requests\n",
    "from selenium import webdriver\n",
    "import time\n",
    "import pandas as pd\n",
    "import os\n",
    "import os.path\n",
    "import glob"
   ]
  },
  {
   "cell_type": "markdown",
   "metadata": {},
   "source": [
    "## 셀레니움을 이용하여 브라우저 제어하기"
   ]
  },
  {
   "cell_type": "code",
   "execution_count": 4,
   "metadata": {
    "ExecuteTime": {
     "end_time": "2020-08-19T07:07:50.582867Z",
     "start_time": "2020-08-19T07:07:39.351532Z"
    }
   },
   "outputs": [],
   "source": [
    "import os\n",
    "\n",
    "wd_path = os.getenv('HOME')+'/repo/Aiffel/lib/chromedriver'\n",
    "\n",
    "#웹드라이버 실행 및 페이지 이동\n",
    "driver = webdriver.Chrome(wd_path)   # 크롬드라이버를 통해 브라우저를 띄우고\n",
    "driver.get(crawling_urls['산과공원'])      # 우리가 원하는 URL로 이동합니다.\n",
    "time.sleep(5)       # 해당 화면이 다 로딩할 때까지 5초간 충분히 기다려 줍니다. \n",
    "    \n",
    "#csv파일 다운로드 버튼 클릭하기\n",
    "driver.find_element_by_css_selector(\"#btnCsv\").click()   # 사람이 누른 것처럼 다운로드 버튼을 클릭한 후\n",
    "time.sleep(3)     # 다운로드가 완료될 때까지 3초간 기다려 줍니다. \n",
    "\n",
    "driver.quit()      # 브라우저를 닫습니다."
   ]
  },
  {
   "cell_type": "markdown",
   "metadata": {},
   "source": [
    "## 다운받은 csv파일 확인"
   ]
  },
  {
   "cell_type": "code",
   "execution_count": 5,
   "metadata": {
    "ExecuteTime": {
     "end_time": "2020-08-19T07:08:14.022207Z",
     "start_time": "2020-08-19T07:08:14.015295Z"
    }
   },
   "outputs": [
    {
     "name": "stdout",
     "output_type": "stream",
     "text": [
      "['/home/aiffel0042/Downloads/서울시 산과공원 생태관광 정보 (한국어).csv']\n"
     ]
    }
   ],
   "source": [
    "#다운받은 csv파일 확인\n",
    "_dir = os.getenv('HOME')+'/Downloads'\n",
    "#_dir = os.getenv('HOME')+'/Downloads'   # 영문 우분투 사용자라면 이 경로를 선택해 주세요.\n",
    "\n",
    "files = glob.glob('{}/서울시*.csv'.format(_dir))\n",
    "print(files)"
   ]
  },
  {
   "cell_type": "markdown",
   "metadata": {},
   "source": [
    "## csv파일 dataframe으로 변환하기"
   ]
  },
  {
   "cell_type": "code",
   "execution_count": 11,
   "metadata": {
    "ExecuteTime": {
     "end_time": "2020-08-19T07:12:02.005994Z",
     "start_time": "2020-08-19T07:12:01.990865Z"
    }
   },
   "outputs": [
    {
     "data": {
      "text/html": [
       "<div>\n",
       "<style scoped>\n",
       "    .dataframe tbody tr th:only-of-type {\n",
       "        vertical-align: middle;\n",
       "    }\n",
       "\n",
       "    .dataframe tbody tr th {\n",
       "        vertical-align: top;\n",
       "    }\n",
       "\n",
       "    .dataframe thead th {\n",
       "        text-align: right;\n",
       "    }\n",
       "</style>\n",
       "<table border=\"1\" class=\"dataframe\">\n",
       "  <thead>\n",
       "    <tr style=\"text-align: right;\">\n",
       "      <th></th>\n",
       "      <th>키</th>\n",
       "      <th>명칭</th>\n",
       "      <th>주소</th>\n",
       "      <th>행정 시</th>\n",
       "      <th>행정 동</th>\n",
       "    </tr>\n",
       "  </thead>\n",
       "  <tbody>\n",
       "    <tr>\n",
       "      <th>0</th>\n",
       "      <td>BE_IW14-0020</td>\n",
       "      <td>진관내동 생태경관보전지역</td>\n",
       "      <td>은평구 진관동 282-1번지 일대(북한산국립공원 북한산성 입구 주변 습지 )</td>\n",
       "      <td>서울특별시</td>\n",
       "      <td>진관동</td>\n",
       "    </tr>\n",
       "    <tr>\n",
       "      <th>1</th>\n",
       "      <td>BE_IW14-0109</td>\n",
       "      <td>안산공원</td>\n",
       "      <td>서울특별시 서대문구 홍제동 산33번지 일대</td>\n",
       "      <td>서울특별시</td>\n",
       "      <td>홍제1동</td>\n",
       "    </tr>\n",
       "    <tr>\n",
       "      <th>2</th>\n",
       "      <td>BE_IW14-0110</td>\n",
       "      <td>여의도공원</td>\n",
       "      <td>서울특별시 영등포구 여의공원로68(여의도동 2번지)</td>\n",
       "      <td>서울특별시</td>\n",
       "      <td>여의동</td>\n",
       "    </tr>\n",
       "    <tr>\n",
       "      <th>3</th>\n",
       "      <td>BE_IW14-0111</td>\n",
       "      <td>염창공원</td>\n",
       "      <td>서울 강서구 염창동 산24-1</td>\n",
       "      <td>서울특별시</td>\n",
       "      <td>염창동</td>\n",
       "    </tr>\n",
       "    <tr>\n",
       "      <th>4</th>\n",
       "      <td>BE_IW14-0112</td>\n",
       "      <td>영등포공원</td>\n",
       "      <td>서울특별시 영등포구 영등포동 582-3번지</td>\n",
       "      <td>서울특별시</td>\n",
       "      <td>영등포본동</td>\n",
       "    </tr>\n",
       "    <tr>\n",
       "      <th>5</th>\n",
       "      <td>BE_IW14-0113</td>\n",
       "      <td>오금공원</td>\n",
       "      <td>서울 송파구 오금동 5번지 (오금근린공원 관리사무소 옆)</td>\n",
       "      <td>서울특별시</td>\n",
       "      <td>오금동</td>\n",
       "    </tr>\n",
       "    <tr>\n",
       "      <th>6</th>\n",
       "      <td>BE_IW14-0114</td>\n",
       "      <td>오동공원</td>\n",
       "      <td>서울 강북구 번동 미아동 일대</td>\n",
       "      <td>서울특별시</td>\n",
       "      <td>번2동</td>\n",
       "    </tr>\n",
       "    <tr>\n",
       "      <th>7</th>\n",
       "      <td>BE_IW14-0115</td>\n",
       "      <td>온수공원</td>\n",
       "      <td>서울 구로구 궁동 개봉동수궁동온수동오류동일대</td>\n",
       "      <td>NaN</td>\n",
       "      <td>NaN</td>\n",
       "    </tr>\n",
       "    <tr>\n",
       "      <th>8</th>\n",
       "      <td>BE_IW14-0116</td>\n",
       "      <td>올림픽공원</td>\n",
       "      <td>서울 송파구 방이동 88번지</td>\n",
       "      <td>서울특별시</td>\n",
       "      <td>오륜동</td>\n",
       "    </tr>\n",
       "    <tr>\n",
       "      <th>9</th>\n",
       "      <td>BE_IW14-0117</td>\n",
       "      <td>와룡공원</td>\n",
       "      <td>서울특별시 종로구 명륜동3가 산2-14</td>\n",
       "      <td>서울특별시</td>\n",
       "      <td>무악동</td>\n",
       "    </tr>\n",
       "    <tr>\n",
       "      <th>10</th>\n",
       "      <td>BE_IW14-0118</td>\n",
       "      <td>와우공원</td>\n",
       "      <td>(121-880) 서울특별시 마포구 창전동 3-193번지 일대(홍익대 뒷산)</td>\n",
       "      <td>서울특별시</td>\n",
       "      <td>서강동</td>\n",
       "    </tr>\n",
       "    <tr>\n",
       "      <th>11</th>\n",
       "      <td>BE_IW14-0119</td>\n",
       "      <td>외국인묘지공원</td>\n",
       "      <td>서울 마포구 합정동 145- 8일대</td>\n",
       "      <td>서울특별시</td>\n",
       "      <td>합정동</td>\n",
       "    </tr>\n",
       "    <tr>\n",
       "      <th>12</th>\n",
       "      <td>BE_IW14-0120</td>\n",
       "      <td>용두공원</td>\n",
       "      <td>(130-070) 서울특별시 동대문구 용두동 34-1번지 일대</td>\n",
       "      <td>서울특별시</td>\n",
       "      <td>용신동</td>\n",
       "    </tr>\n",
       "    <tr>\n",
       "      <th>13</th>\n",
       "      <td>BE_IW14-0121</td>\n",
       "      <td>용마공원</td>\n",
       "      <td>서울 중랑구 면목동 산 1-4</td>\n",
       "      <td>서울특별시</td>\n",
       "      <td>면목4동</td>\n",
       "    </tr>\n",
       "    <tr>\n",
       "      <th>14</th>\n",
       "      <td>BE_IW14-0122</td>\n",
       "      <td>용산가족공원</td>\n",
       "      <td>서울특별시 용산구 서빙고로 185</td>\n",
       "      <td>서울특별시</td>\n",
       "      <td>용산2가동</td>\n",
       "    </tr>\n",
       "  </tbody>\n",
       "</table>\n",
       "</div>"
      ],
      "text/plain": [
       "               키             명칭                                          주소  \\\n",
       "0   BE_IW14-0020  진관내동 생태경관보전지역  은평구 진관동 282-1번지 일대(북한산국립공원 북한산성 입구 주변 습지 )   \n",
       "1   BE_IW14-0109           안산공원                     서울특별시 서대문구 홍제동 산33번지 일대   \n",
       "2   BE_IW14-0110          여의도공원                서울특별시 영등포구 여의공원로68(여의도동 2번지)   \n",
       "3   BE_IW14-0111           염창공원                            서울 강서구 염창동 산24-1   \n",
       "4   BE_IW14-0112          영등포공원                     서울특별시 영등포구 영등포동 582-3번지   \n",
       "5   BE_IW14-0113           오금공원             서울 송파구 오금동 5번지 (오금근린공원 관리사무소 옆)   \n",
       "6   BE_IW14-0114           오동공원                            서울 강북구 번동 미아동 일대   \n",
       "7   BE_IW14-0115           온수공원                    서울 구로구 궁동 개봉동수궁동온수동오류동일대   \n",
       "8   BE_IW14-0116          올림픽공원                             서울 송파구 방이동 88번지   \n",
       "9   BE_IW14-0117           와룡공원                       서울특별시 종로구 명륜동3가 산2-14   \n",
       "10  BE_IW14-0118           와우공원  (121-880) 서울특별시 마포구 창전동 3-193번지 일대(홍익대 뒷산)   \n",
       "11  BE_IW14-0119        외국인묘지공원                         서울 마포구 합정동 145- 8일대   \n",
       "12  BE_IW14-0120           용두공원          (130-070) 서울특별시 동대문구 용두동 34-1번지 일대   \n",
       "13  BE_IW14-0121           용마공원                            서울 중랑구 면목동 산 1-4   \n",
       "14  BE_IW14-0122         용산가족공원                          서울특별시 용산구 서빙고로 185   \n",
       "\n",
       "     행정 시   행정 동  \n",
       "0   서울특별시    진관동  \n",
       "1   서울특별시   홍제1동  \n",
       "2   서울특별시    여의동  \n",
       "3   서울특별시    염창동  \n",
       "4   서울특별시  영등포본동  \n",
       "5   서울특별시    오금동  \n",
       "6   서울특별시    번2동  \n",
       "7     NaN    NaN  \n",
       "8   서울특별시    오륜동  \n",
       "9   서울특별시    무악동  \n",
       "10  서울특별시    서강동  \n",
       "11  서울특별시    합정동  \n",
       "12  서울특별시    용신동  \n",
       "13  서울특별시   면목4동  \n",
       "14  서울특별시  용산2가동  "
      ]
     },
     "execution_count": 11,
     "metadata": {},
     "output_type": "execute_result"
    }
   ],
   "source": [
    "#csv파일을 dataframe으로 변환하기\n",
    "#인코딩 에러 발생시에 encoding옵션 추가\n",
    "f_M_park = pd.read_csv(files[0], encoding='CP949')   #CP949: windows에서 사용하는 인코딩 방식\n",
    "using_col = ['키', '명칭', '주소', '행정 시', '행정 동']\n",
    "f_M_park = f_M_park[using_col]\n",
    "f_M_park.head(15)"
   ]
  },
  {
   "cell_type": "markdown",
   "metadata": {},
   "source": [
    "셀레니움을 이용하니 브라우저를 직접 조작이 가능하고 브라우저 조작을 통해 버튼을 눌러 다운로드를 쉽게 받을 수 있었습니다.  \n",
    "\n",
    "브라우저를 직접 제어한다는 것은 버튼을 클릭하고 로그인을 위해 ID/PW 등을 입력하는 등 JavaScript로 구현된 동적인 웹 페이지도 크롤링 할 수 있다는 것을 의미합니다."
   ]
  }
 ],
 "metadata": {
  "kernelspec": {
   "display_name": "aiffel",
   "language": "python",
   "name": "aiffel"
  },
  "language_info": {
   "codemirror_mode": {
    "name": "ipython",
    "version": 3
   },
   "file_extension": ".py",
   "mimetype": "text/x-python",
   "name": "python",
   "nbconvert_exporter": "python",
   "pygments_lexer": "ipython3",
   "version": "3.7.6"
  },
  "toc": {
   "base_numbering": 1,
   "nav_menu": {},
   "number_sections": true,
   "sideBar": true,
   "skip_h1_title": false,
   "title_cell": "Table of Contents",
   "title_sidebar": "Contents",
   "toc_cell": false,
   "toc_position": {},
   "toc_section_display": true,
   "toc_window_display": false
  },
  "varInspector": {
   "cols": {
    "lenName": 16,
    "lenType": 16,
    "lenVar": 40
   },
   "kernels_config": {
    "python": {
     "delete_cmd_postfix": "",
     "delete_cmd_prefix": "del ",
     "library": "var_list.py",
     "varRefreshCmd": "print(var_dic_list())"
    },
    "r": {
     "delete_cmd_postfix": ") ",
     "delete_cmd_prefix": "rm(",
     "library": "var_list.r",
     "varRefreshCmd": "cat(var_dic_list()) "
    }
   },
   "types_to_exclude": [
    "module",
    "function",
    "builtin_function_or_method",
    "instance",
    "_Feature"
   ],
   "window_display": false
  }
 },
 "nbformat": 4,
 "nbformat_minor": 4
}
