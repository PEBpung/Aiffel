{
 "cells": [
  {
   "cell_type": "code",
   "execution_count": null,
   "metadata": {},
   "outputs": [],
   "source": [
    "from tkinter import *\n",
    "import tkinter.ttk as ttk\n",
    "from googletrans import Translator\n",
    "\n",
    "print('코드 실행 중..🛸')\n",
    "window = Tk()\n",
    "window.title(\"나의 구글 번역기\")\n",
    "window.geometry(\"1024x512\")\n",
    "\n",
    "# 라벨 생성\n",
    "label1 = ttk.Label(window,text='번역전') \n",
    "label2 = ttk.Label(window,text='번역후') \n",
    "label1.grid(column=0, row=0, padx=20, pady=10)\n",
    "label2.grid(column=2, row=0, padx=20, pady=10)\n",
    "\n",
    "# 콤보박스 생성\n",
    "combo = ttk.Combobox(window, width=10)\n",
    "combo['values']= (\"en\", \"ko\", \"ja\")\n",
    "combo.current(0) #set the selected item\n",
    "combo.grid(row=0, column=1)\n",
    "\n",
    "# 텍스트 박스 생성\n",
    "text1 = Text(window, width=60, height=40)    \n",
    "text2 = Text(window, width=60, height=40)    \n",
    "text1.grid(row=1, column=0, padx=20, pady=10)   \n",
    "text2.grid(row=1, column=2, padx=20, pady=10)  \n",
    "\n",
    "\n",
    "# 번역기 함수\n",
    "def translate(input_str, lang='en'):\n",
    "    translator = Translator()\n",
    "    result = translator.translate(input_str, dest=lang)\n",
    "    return result.text\n",
    "\n",
    "# 버튼클릭 콜백 함수    \n",
    "def click():\n",
    "    intput_str = text1.get(\"1.0\",\"end\")\n",
    "    lang=combo.get()\n",
    "    output_str = translate(intput_str, lang=lang)\n",
    "    text2.delete(1.0, \"end\")\n",
    "    text2.insert(\"end\", output_str)        \n",
    "\n",
    "# 버튼 생성    \n",
    "action = ttk.Button(window, text=\"번역\", command=click)   \n",
    "action.grid(row=1, column=1)\n",
    "\n",
    "window.mainloop()\n",
    "print('완료!')"
   ]
  }
 ],
 "metadata": {
  "kernelspec": {
   "display_name": "aiffel",
   "language": "python",
   "name": "aiffel"
  },
  "language_info": {
   "codemirror_mode": {
    "name": "ipython",
    "version": 3
   },
   "file_extension": ".py",
   "mimetype": "text/x-python",
   "name": "python",
   "nbconvert_exporter": "python",
   "pygments_lexer": "ipython3",
   "version": "3.7.6"
  },
  "toc": {
   "base_numbering": 1,
   "nav_menu": {},
   "number_sections": true,
   "sideBar": true,
   "skip_h1_title": false,
   "title_cell": "Table of Contents",
   "title_sidebar": "Contents",
   "toc_cell": false,
   "toc_position": {},
   "toc_section_display": true,
   "toc_window_display": false
  },
  "varInspector": {
   "cols": {
    "lenName": 16,
    "lenType": 16,
    "lenVar": 40
   },
   "kernels_config": {
    "python": {
     "delete_cmd_postfix": "",
     "delete_cmd_prefix": "del ",
     "library": "var_list.py",
     "varRefreshCmd": "print(var_dic_list())"
    },
    "r": {
     "delete_cmd_postfix": ") ",
     "delete_cmd_prefix": "rm(",
     "library": "var_list.r",
     "varRefreshCmd": "cat(var_dic_list()) "
    }
   },
   "types_to_exclude": [
    "module",
    "function",
    "builtin_function_or_method",
    "instance",
    "_Feature"
   ],
   "window_display": false
  }
 },
 "nbformat": 4,
 "nbformat_minor": 4
}
