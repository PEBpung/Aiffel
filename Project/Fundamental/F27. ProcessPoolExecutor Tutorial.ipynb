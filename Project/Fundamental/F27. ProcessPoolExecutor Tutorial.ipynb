{
 "cells": [
  {
   "cell_type": "markdown",
   "metadata": {},
   "source": [
    "# ProcessPoolExecutor 튜토리얼"
   ]
  },
  {
   "cell_type": "markdown",
   "metadata": {},
   "source": [
    "이번 예제에서 다루는 부분은 아래 2개입니다.  \n",
    "- Executor 객체의 map() 함수\n",
    "- ProcessPoolExecutor 부분  \n",
    "\n",
    "<br>\n",
    "우리는 concurrent.futures 모듈의 ProcessPoolExecutor를 이용해서 멀티프로세스를 구현을 연습해 보겠습니다."
   ]
  },
  {
   "cell_type": "markdown",
   "metadata": {},
   "source": [
    "## 문제"
   ]
  },
  {
   "cell_type": "code",
   "execution_count": 2,
   "metadata": {
    "ExecuteTime": {
     "end_time": "2020-09-02T08:19:14.566473Z",
     "start_time": "2020-09-02T08:19:14.563389Z"
    }
   },
   "outputs": [
    {
     "name": "stdout",
     "output_type": "stream",
     "text": [
      "🌕    .\n",
      "·   *\n",
      "  *   *\n",
      "🌲 🦕 🌳\n"
     ]
    }
   ],
   "source": [
    "import math\n",
    "import concurrent\n",
    "\n",
    "PRIMES = [\n",
    "    112272535095293,\n",
    "    112582705942171,\n",
    "    112272535095293,\n",
    "    115280095190773,\n",
    "    115797848077099,\n",
    "    1099726899285419]\n",
    "print(\"🌕    .\\n·   *\\n  *   *\\n🌲 🦕 🌳\")"
   ]
  },
  {
   "cell_type": "markdown",
   "metadata": {},
   "source": [
    "소수(prime) 판별 문제로 PRIMES 변수에 선언된 숫자들이 소수인지 아닌지 판별합니다. "
   ]
  },
  {
   "cell_type": "markdown",
   "metadata": {},
   "source": [
    "## 소수판별 함수 is_prime"
   ]
  },
  {
   "cell_type": "code",
   "execution_count": 3,
   "metadata": {
    "ExecuteTime": {
     "end_time": "2020-09-02T08:20:14.212847Z",
     "start_time": "2020-09-02T08:20:14.207694Z"
    }
   },
   "outputs": [
    {
     "name": "stdout",
     "output_type": "stream",
     "text": [
      "🌲      🦕...\n"
     ]
    }
   ],
   "source": [
    "def is_prime(n):\n",
    "    if n < 2:\n",
    "        return False\n",
    "    if n == 2:\n",
    "        return True\n",
    "    if n % 2 == 0:\n",
    "        return False\n",
    "\n",
    "    sqrt_n = int(math.floor(math.sqrt(n)))\n",
    "    for i in range(3, sqrt_n + 1, 2):\n",
    "        if n % i == 0:\n",
    "            return False\n",
    "    return True\n",
    "print(\"🌲      🦕...\")"
   ]
  },
  {
   "cell_type": "markdown",
   "metadata": {},
   "source": [
    "소수를 판별하는 로직을 함수로 구현했습니다. "
   ]
  },
  {
   "cell_type": "markdown",
   "metadata": {},
   "source": [
    "## 소수 판별 함수 호출"
   ]
  },
  {
   "cell_type": "code",
   "execution_count": 4,
   "metadata": {
    "ExecuteTime": {
     "end_time": "2020-09-02T08:29:14.731362Z",
     "start_time": "2020-09-02T08:29:14.728780Z"
    }
   },
   "outputs": [],
   "source": [
    "def main():\n",
    "    with concurrent.futures.ProcessPoolExecutor() as executor:\n",
    "        for number, prime in zip(PRIMES, executor.map(is_prime,PRIMES)):\n",
    "            print(\"%d is prime: %s\" % (number, prime))"
   ]
  },
  {
   "cell_type": "markdown",
   "metadata": {},
   "source": [
    "병렬처리와 단일처리의 비교를 위해 코드를 아래와 같이 수정해 볼게요.\n",
    "\n",
    "- 프로파일링을 위한 시간계산 코드를 추가\n",
    "- 단일처리로 수행했을 때의 코드를 추가, 단일처리 프로파일링을 위한 시간계산 코드를 추가."
   ]
  },
  {
   "cell_type": "code",
   "execution_count": 5,
   "metadata": {
    "ExecuteTime": {
     "end_time": "2020-09-02T08:35:39.472069Z",
     "start_time": "2020-09-02T08:35:39.467720Z"
    }
   },
   "outputs": [],
   "source": [
    "import time \n",
    "\n",
    "def main():\n",
    "    print('병렬처리 시작')\n",
    "    start = time.time()\n",
    "    with concurrent.futures.ProcessPoolExecutor() as excutor:\n",
    "        for number, prime in zip(PRIMES, excutor.map(is_prime, PRIMES)):\n",
    "            print('%d is prime: %s' % (number, prime))\n",
    "    end = time.time()\n",
    "    print(\"병렬처리 수행 시각\", end-start, 's')\n",
    "    \n",
    "    start = time.time()\n",
    "    for number, prime in zip(PRIMES, map(is_prime, PRIMES)):\n",
    "        print('%d is prime: %s' %(number, prime))\n",
    "    end = time.time()\n",
    "    print(\"단일처리 수행 시각\", end - start, \"s\")\n",
    "    \n"
   ]
  },
  {
   "cell_type": "code",
   "execution_count": 6,
   "metadata": {
    "ExecuteTime": {
     "end_time": "2020-09-02T08:35:47.506839Z",
     "start_time": "2020-09-02T08:35:45.114255Z"
    }
   },
   "outputs": [
    {
     "name": "stdout",
     "output_type": "stream",
     "text": [
      "병렬처리 시작\n",
      "112272535095293 is prime: True\n",
      "112582705942171 is prime: True\n",
      "112272535095293 is prime: True\n",
      "115280095190773 is prime: True\n",
      "115797848077099 is prime: True\n",
      "1099726899285419 is prime: False\n",
      "병렬처리 수행 시각 0.44451212882995605 s\n",
      "112272535095293 is prime: True\n",
      "112582705942171 is prime: True\n",
      "112272535095293 is prime: True\n",
      "115280095190773 is prime: True\n",
      "115797848077099 is prime: True\n",
      "1099726899285419 is prime: False\n",
      "단일처리 수행 시각 1.9452292919158936 s\n"
     ]
    }
   ],
   "source": [
    "main()"
   ]
  },
  {
   "cell_type": "code",
   "execution_count": null,
   "metadata": {},
   "outputs": [],
   "source": []
  }
 ],
 "metadata": {
  "kernelspec": {
   "display_name": "aiffel",
   "language": "python",
   "name": "aiffel"
  },
  "language_info": {
   "codemirror_mode": {
    "name": "ipython",
    "version": 3
   },
   "file_extension": ".py",
   "mimetype": "text/x-python",
   "name": "python",
   "nbconvert_exporter": "python",
   "pygments_lexer": "ipython3",
   "version": "3.7.6"
  },
  "toc": {
   "base_numbering": 1,
   "nav_menu": {},
   "number_sections": true,
   "sideBar": true,
   "skip_h1_title": false,
   "title_cell": "Table of Contents",
   "title_sidebar": "Contents",
   "toc_cell": false,
   "toc_position": {},
   "toc_section_display": true,
   "toc_window_display": false
  },
  "varInspector": {
   "cols": {
    "lenName": 16,
    "lenType": 16,
    "lenVar": 40
   },
   "kernels_config": {
    "python": {
     "delete_cmd_postfix": "",
     "delete_cmd_prefix": "del ",
     "library": "var_list.py",
     "varRefreshCmd": "print(var_dic_list())"
    },
    "r": {
     "delete_cmd_postfix": ") ",
     "delete_cmd_prefix": "rm(",
     "library": "var_list.r",
     "varRefreshCmd": "cat(var_dic_list()) "
    }
   },
   "types_to_exclude": [
    "module",
    "function",
    "builtin_function_or_method",
    "instance",
    "_Feature"
   ],
   "window_display": false
  }
 },
 "nbformat": 4,
 "nbformat_minor": 4
}
